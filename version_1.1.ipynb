{
 "cells": [
  {
   "cell_type": "markdown",
   "metadata": {},
   "source": [
    "# Dog Breed Prediction\n",
    "## https://www.kaggle.com/c/dog-breed-identification/overview\n",
    "### CS 4662\n",
    "### Spring 2020\n",
    "### Alan Garcia\n",
    "### Ryan Peralta\n"
   ]
  },
  {
   "cell_type": "code",
   "execution_count": null,
   "metadata": {},
   "outputs": [],
   "source": []
  },
  {
   "cell_type": "markdown",
   "metadata": {},
   "source": [
    "# ** In this file we are going to implement the CNN with a lower amount of filters and a greater dropout rate so that the overfitting problem can be solved. **\n"
   ]
  },
  {
   "cell_type": "markdown",
   "metadata": {},
   "source": [
    "### Imports need to run our code for the Dog Breed project"
   ]
  },
  {
   "cell_type": "code",
   "execution_count": 1,
   "metadata": {},
   "outputs": [],
   "source": [
    "import PIL.Image\n",
    "from numpy import asarray\n",
    "from PIL import Image\n",
    "\n",
    "#Code so that the notebook is run through the GPU\n",
    "import plaidml.keras\n",
    "plaidml.keras.install_backend()\n",
    "\n",
    "#from tensorflow.keras import backend\n",
    "# \"Sequential\" model lets us to define a stack of neural network layers\n",
    "from keras.models import Sequential\n",
    "\n",
    "# import the \"core\" layers:\n",
    "from keras.layers import Dense, Dropout, Activation, Flatten\n",
    "import matplotlib.image as mpimg\n",
    "\n",
    "# CNN\n",
    "from keras.layers import Convolution2D, MaxPooling2D\n",
    "\n",
    "# import some utilities to transform our data\n",
    "from keras.utils import np_utils\n",
    "\n",
    "from sklearn.model_selection import train_test_split\n",
    "\n",
    "import numpy as np\n",
    "import pandas as pd"
   ]
  },
  {
   "cell_type": "markdown",
   "metadata": {},
   "source": [
    "### The next cell is needed to resize the images to standard and more usable size. It only needs to be run one time at the start of running this project, then it can be commented out for future test runs."
   ]
  },
  {
   "cell_type": "code",
   "execution_count": 2,
   "metadata": {},
   "outputs": [
    {
     "data": {
      "text/plain": [
       "'\\nimport os\\ncounter = 0\\nd = \"C:/Users/rpera/Desktop/Spring 2020/CS 4662/Project Data/train\"\\nfor path in os.listdir(d):\\n    full_path = os.path.join(d, path)\\n    if os.path.isfile(full_path):\\n        print(full_path)\\n        img = Image.open(full_path).convert(\\'L\\')\\n        maxsize = (64, 64)\\n        img = img.resize(maxsize, PIL.Image.ANTIALIAS)\\n        img.save(\\'resized_photos64/\\'+ str(counter) + \\'.jpg\\')\\n        counter += 1\\n\\n'"
      ]
     },
     "execution_count": 2,
     "metadata": {},
     "output_type": "execute_result"
    }
   ],
   "source": [
    "'''\n",
    "import os\n",
    "counter = 0\n",
    "d = \"C:/Users/rpera/Desktop/Spring 2020/CS 4662/Project Data/train\"\n",
    "for path in os.listdir(d):\n",
    "    full_path = os.path.join(d, path)\n",
    "    if os.path.isfile(full_path):\n",
    "        print(full_path)\n",
    "        img = Image.open(full_path).convert('L')\n",
    "        maxsize = (64, 64)\n",
    "        img = img.resize(maxsize, PIL.Image.ANTIALIAS)\n",
    "        img.save('resized_photos64/'+ str(counter) + '.jpg')\n",
    "        counter += 1\n",
    "\n",
    "'''"
   ]
  },
  {
   "cell_type": "code",
   "execution_count": 3,
   "metadata": {
    "scrolled": true
   },
   "outputs": [],
   "source": [
    "listForX = []\n",
    "for x in range(0, 10222):\n",
    "    test = mpimg.imread(\"C:/Users/rpera/Desktop/Spring 2020/CS 4662/CS4662-Project/resized_photos64/\"+str(x)+\".jpg\")\n",
    "    # test = mpimg.imread(\"/Users/Alan/Desktop/Data_Science_2/final project/resized_photos/\"+str(x)+\".jpg\")\n",
    "    testing = (test.reshape(1, 4096))\n",
    "    listForX.append(testing[0])"
   ]
  },
  {
   "cell_type": "markdown",
   "metadata": {},
   "source": [
    "### Convert our existing datafram into X by converting the values from a list into an array through numpy"
   ]
  },
  {
   "cell_type": "code",
   "execution_count": 4,
   "metadata": {},
   "outputs": [],
   "source": [
    "df = pd.DataFrame(listForX)\n",
    "df.values.tolist()\n",
    "X = np.asarray(listForX)"
   ]
  },
  {
   "cell_type": "markdown",
   "metadata": {},
   "source": [
    "### Read the labels.csv into y"
   ]
  },
  {
   "cell_type": "code",
   "execution_count": 5,
   "metadata": {},
   "outputs": [],
   "source": [
    "y = pd.read_csv(\"C:/Users/rpera/Desktop/Spring 2020/CS 4662/Project Data/labels.csv\")\n",
    "#y = pd.read_csv(\"/Users/Alan/Desktop/Data_Science_2/final project/labels.csv\")"
   ]
  },
  {
   "cell_type": "code",
   "execution_count": 6,
   "metadata": {
    "scrolled": true
   },
   "outputs": [
    {
     "data": {
      "text/plain": [
       "<bound method NDFrame.head of                                      id                     breed\n",
       "0      000bec180eb18c7604dcecc8fe0dba07               boston_bull\n",
       "1      001513dfcb2ffafc82cccf4d8bbaba97                     dingo\n",
       "2      001cdf01b096e06d78e9e5112d419397                  pekinese\n",
       "3      00214f311d5d2247d5dfe4fe24b2303d                  bluetick\n",
       "4      0021f9ceb3235effd7fcde7f7538ed62          golden_retriever\n",
       "...                                 ...                       ...\n",
       "10217  ffd25009d635cfd16e793503ac5edef0                    borzoi\n",
       "10218  ffd3f636f7f379c51ba3648a9ff8254f            dandie_dinmont\n",
       "10219  ffe2ca6c940cddfee68fa3cc6c63213f                  airedale\n",
       "10220  ffe5f6d8e2bff356e9482a80a6e29aac        miniature_pinscher\n",
       "10221  fff43b07992508bc822f33d8ffd902ae  chesapeake_bay_retriever\n",
       "\n",
       "[10222 rows x 2 columns]>"
      ]
     },
     "execution_count": 6,
     "metadata": {},
     "output_type": "execute_result"
    }
   ],
   "source": [
    "y.head"
   ]
  },
  {
   "cell_type": "markdown",
   "metadata": {},
   "source": [
    "### Dropping the id column from y so that it only contains a vector of labels"
   ]
  },
  {
   "cell_type": "code",
   "execution_count": 7,
   "metadata": {},
   "outputs": [],
   "source": [
    "y = y.drop(['id'], axis=1)\n",
    "y['breed'] = pd.factorize(y['breed'])[0]\n",
    "y = y.breed.tolist()"
   ]
  },
  {
   "cell_type": "markdown",
   "metadata": {},
   "source": [
    "### Split X and y into train and test"
   ]
  },
  {
   "cell_type": "code",
   "execution_count": 8,
   "metadata": {
    "scrolled": true
   },
   "outputs": [],
   "source": [
    "X_train, X_test, y_train, y_test = train_test_split(X, y, test_size=0.20, random_state=2)\n",
    "X_train = X_train.reshape(X_train.shape[0], 64, 64, 1)\n",
    "X_test = X_test.reshape(X_test.shape[0], 64, 64, 1)"
   ]
  },
  {
   "cell_type": "code",
   "execution_count": 9,
   "metadata": {},
   "outputs": [],
   "source": [
    "y_train = np_utils.to_categorical(y_train, 120)\n",
    "y_test = np_utils.to_categorical(y_test, 120)"
   ]
  },
  {
   "cell_type": "markdown",
   "metadata": {},
   "source": [
    "### Shaping X"
   ]
  },
  {
   "cell_type": "code",
   "execution_count": 10,
   "metadata": {
    "scrolled": true
   },
   "outputs": [
    {
     "data": {
      "text/plain": [
       "(8177, 64, 64, 1)"
      ]
     },
     "execution_count": 10,
     "metadata": {},
     "output_type": "execute_result"
    }
   ],
   "source": [
    "X_train = X_train.astype('float32')\n",
    "X_test = X_test.astype('float32')\n",
    "X_train /= 255\n",
    "X_test /= 255\n",
    "X_train.shape"
   ]
  },
  {
   "cell_type": "markdown",
   "metadata": {},
   "source": [
    "### Creating our sequential model"
   ]
  },
  {
   "cell_type": "code",
   "execution_count": 31,
   "metadata": {},
   "outputs": [],
   "source": [
    "model = Sequential()\n",
    "model.add(Convolution2D(75, (6, 6), activation='relu', input_shape=(64,64,1)))\n",
    "#print(model.output_shape) # -> (None, 26, 26, 32)"
   ]
  },
  {
   "cell_type": "markdown",
   "metadata": {},
   "source": [
    "### Adding the layers to our model"
   ]
  },
  {
   "cell_type": "code",
   "execution_count": 32,
   "metadata": {},
   "outputs": [
    {
     "name": "stdout",
     "output_type": "stream",
     "text": [
      "(None, 57, 57, 64)\n",
      "(None, 28, 28, 64)\n"
     ]
    }
   ],
   "source": [
    "# more hidden layers:\n",
    "model.add(Convolution2D(64, (3, 3), activation='relu'))\n",
    "model.add(Dropout(0.25))\n",
    "print(model.output_shape)\n",
    "\n",
    "# Pooling Layer:\n",
    "model.add(MaxPooling2D(pool_size=(2,2)))\n",
    "print(model.output_shape)\n",
    "\n",
    "# Dropout layer to avoid overfitting\n",
    "model.add(Dropout(0.25)) "
   ]
  },
  {
   "cell_type": "code",
   "execution_count": 33,
   "metadata": {},
   "outputs": [
    {
     "name": "stdout",
     "output_type": "stream",
     "text": [
      "(None, 50176)\n",
      "(None, 128)\n",
      "(None, 120)\n"
     ]
    }
   ],
   "source": [
    "# output Fully connected Dense layers:\n",
    "model.add(Flatten())\n",
    "print(model.output_shape)\n",
    "\n",
    "model.add(Dense(128, activation='relu'))\n",
    "print(model.output_shape)\n",
    "\n",
    "model.add(Dropout(0.5))\n",
    "model.add(Dense(120, activation='softmax'))\n",
    "print(model.output_shape)"
   ]
  },
  {
   "cell_type": "code",
   "execution_count": 34,
   "metadata": {},
   "outputs": [],
   "source": [
    "model.compile(loss='categorical_crossentropy',metrics=['accuracy'],\n",
    "              optimizer='adam')"
   ]
  },
  {
   "cell_type": "code",
   "execution_count": 36,
   "metadata": {},
   "outputs": [
    {
     "name": "stdout",
     "output_type": "stream",
     "text": [
      "_________________________________________________________________\n",
      "Layer (type)                 Output Shape              Param #   \n",
      "=================================================================\n",
      "conv2d_5 (Conv2D)            (None, 59, 59, 75)        2775      \n",
      "_________________________________________________________________\n",
      "conv2d_6 (Conv2D)            (None, 57, 57, 64)        43264     \n",
      "_________________________________________________________________\n",
      "dropout_6 (Dropout)          (None, 57, 57, 64)        0         \n",
      "_________________________________________________________________\n",
      "max_pooling2d_3 (MaxPooling2 (None, 28, 28, 64)        0         \n",
      "_________________________________________________________________\n",
      "dropout_7 (Dropout)          (None, 28, 28, 64)        0         \n",
      "_________________________________________________________________\n",
      "flatten_3 (Flatten)          (None, 50176)             0         \n",
      "_________________________________________________________________\n",
      "dense_5 (Dense)              (None, 128)               6422656   \n",
      "_________________________________________________________________\n",
      "dropout_8 (Dropout)          (None, 128)               0         \n",
      "_________________________________________________________________\n",
      "dense_6 (Dense)              (None, 120)               15480     \n",
      "=================================================================\n",
      "Total params: 6,484,175\n",
      "Trainable params: 6,484,175\n",
      "Non-trainable params: 0\n",
      "_________________________________________________________________\n",
      "None\n"
     ]
    }
   ],
   "source": [
    "print(model.summary())"
   ]
  },
  {
   "cell_type": "markdown",
   "metadata": {},
   "source": [
    "### Shaping X and y"
   ]
  },
  {
   "cell_type": "code",
   "execution_count": 37,
   "metadata": {},
   "outputs": [
    {
     "data": {
      "text/plain": [
       "(8177, 120)"
      ]
     },
     "execution_count": 37,
     "metadata": {},
     "output_type": "execute_result"
    }
   ],
   "source": [
    "X_train.shape\n",
    "y_train.shape"
   ]
  },
  {
   "cell_type": "code",
   "execution_count": 38,
   "metadata": {
    "scrolled": true
   },
   "outputs": [
    {
     "name": "stdout",
     "output_type": "stream",
     "text": [
      "Train on 6132 samples, validate on 2045 samples\n",
      "Epoch 1/50\n",
      "6132/6132 [==============================] - 24s 4ms/step - loss: 4.7918 - acc: 0.0109 - val_loss: 4.7861 - val_acc: 0.0117\n",
      "Epoch 2/50\n",
      "6132/6132 [==============================] - 13s 2ms/step - loss: 4.7839 - acc: 0.0116 - val_loss: 4.7866 - val_acc: 0.0064\n",
      "Epoch 3/50\n",
      "6132/6132 [==============================] - 13s 2ms/step - loss: 4.7741 - acc: 0.0147 - val_loss: 4.7826 - val_acc: 0.0132\n",
      "Epoch 4/50\n",
      "6132/6132 [==============================] - 13s 2ms/step - loss: 4.7261 - acc: 0.0181 - val_loss: 4.7309 - val_acc: 0.0205\n",
      "Epoch 5/50\n",
      "6132/6132 [==============================] - 13s 2ms/step - loss: 4.5984 - acc: 0.0362 - val_loss: 4.7014 - val_acc: 0.0225\n",
      "Epoch 6/50\n",
      "6132/6132 [==============================] - 13s 2ms/step - loss: 4.4005 - acc: 0.0602 - val_loss: 4.6921 - val_acc: 0.0240\n",
      "Epoch 7/50\n",
      "6132/6132 [==============================] - 13s 2ms/step - loss: 4.0943 - acc: 0.1052 - val_loss: 4.7513 - val_acc: 0.0225\n",
      "Epoch 8/50\n",
      "6132/6132 [==============================] - 13s 2ms/step - loss: 3.7179 - acc: 0.1641 - val_loss: 4.8010 - val_acc: 0.0225\n",
      "Epoch 9/50\n",
      "6132/6132 [==============================] - 13s 2ms/step - loss: 3.2851 - acc: 0.2435 - val_loss: 4.9692 - val_acc: 0.0230\n",
      "Epoch 10/50\n",
      "6132/6132 [==============================] - 12s 2ms/step - loss: 2.9277 - acc: 0.3054 - val_loss: 5.1110 - val_acc: 0.0264\n",
      "Epoch 11/50\n",
      "6132/6132 [==============================] - 12s 2ms/step - loss: 2.6387 - acc: 0.3689 - val_loss: 5.3362 - val_acc: 0.0303\n",
      "Epoch 12/50\n",
      "6132/6132 [==============================] - 13s 2ms/step - loss: 2.3420 - acc: 0.4286 - val_loss: 5.4485 - val_acc: 0.0313\n",
      "Epoch 13/50\n",
      "6132/6132 [==============================] - 12s 2ms/step - loss: 2.1005 - acc: 0.4835 - val_loss: 5.6970 - val_acc: 0.0249\n",
      "Epoch 14/50\n",
      "6132/6132 [==============================] - 13s 2ms/step - loss: 1.9278 - acc: 0.5132 - val_loss: 5.7868 - val_acc: 0.0313\n",
      "Epoch 15/50\n",
      "6132/6132 [==============================] - 13s 2ms/step - loss: 1.7404 - acc: 0.5545 - val_loss: 5.9788 - val_acc: 0.0274\n",
      "Epoch 16/50\n",
      "6132/6132 [==============================] - 13s 2ms/step - loss: 1.6100 - acc: 0.5809 - val_loss: 6.2279 - val_acc: 0.0289\n",
      "Epoch 17/50\n",
      "6132/6132 [==============================] - 12s 2ms/step - loss: 1.4653 - acc: 0.6158 - val_loss: 6.4056 - val_acc: 0.0303\n",
      "Epoch 18/50\n",
      "6132/6132 [==============================] - 13s 2ms/step - loss: 1.3648 - acc: 0.6443 - val_loss: 6.6544 - val_acc: 0.0289\n",
      "Epoch 19/50\n",
      "6132/6132 [==============================] - 13s 2ms/step - loss: 1.3295 - acc: 0.6494 - val_loss: 6.7239 - val_acc: 0.0264\n",
      "Epoch 20/50\n",
      "6132/6132 [==============================] - 12s 2ms/step - loss: 1.2334 - acc: 0.6743 - val_loss: 6.8252 - val_acc: 0.0279\n",
      "Epoch 21/50\n",
      "6132/6132 [==============================] - 12s 2ms/step - loss: 1.1489 - acc: 0.6924 - val_loss: 6.9993 - val_acc: 0.0313\n",
      "Epoch 22/50\n",
      "6132/6132 [==============================] - 12s 2ms/step - loss: 1.1011 - acc: 0.7050 - val_loss: 6.9096 - val_acc: 0.0293\n",
      "Epoch 23/50\n",
      "6132/6132 [==============================] - 12s 2ms/step - loss: 1.0688 - acc: 0.7115 - val_loss: 7.2300 - val_acc: 0.0259 acc\n",
      "Epoch 24/50\n",
      "6132/6132 [==============================] - 12s 2ms/step - loss: 0.9947 - acc: 0.7254 - val_loss: 7.5604 - val_acc: 0.0284\n",
      "Epoch 25/50\n",
      "6132/6132 [==============================] - 12s 2ms/step - loss: 0.9675 - acc: 0.7391 - val_loss: 7.3974 - val_acc: 0.0298\n",
      "Epoch 26/50\n",
      "6132/6132 [==============================] - 12s 2ms/step - loss: 0.9336 - acc: 0.7472 - val_loss: 7.3202 - val_acc: 0.0303\n",
      "Epoch 27/50\n",
      "6132/6132 [==============================] - 12s 2ms/step - loss: 0.8692 - acc: 0.7650 - val_loss: 7.5721 - val_acc: 0.0328\n",
      "Epoch 28/50\n",
      "6132/6132 [==============================] - 12s 2ms/step - loss: 0.8557 - acc: 0.7676 - val_loss: 7.7259 - val_acc: 0.0328\n",
      "Epoch 29/50\n",
      "6132/6132 [==============================] - 13s 2ms/step - loss: 0.7963 - acc: 0.7839 - val_loss: 7.8988 - val_acc: 0.0303\n",
      "Epoch 30/50\n",
      "6132/6132 [==============================] - 12s 2ms/step - loss: 0.8104 - acc: 0.7838 - val_loss: 7.8005 - val_acc: 0.0279\n",
      "Epoch 31/50\n",
      "6132/6132 [==============================] - 12s 2ms/step - loss: 0.7756 - acc: 0.7878 - val_loss: 7.9944 - val_acc: 0.0308\n",
      "Epoch 32/50\n",
      "6132/6132 [==============================] - 13s 2ms/step - loss: 0.7411 - acc: 0.7970 - val_loss: 7.9256 - val_acc: 0.0298\n",
      "Epoch 33/50\n",
      "6132/6132 [==============================] - 13s 2ms/step - loss: 0.7333 - acc: 0.8012 - val_loss: 8.1518 - val_acc: 0.0328\n",
      "Epoch 34/50\n",
      "6132/6132 [==============================] - 12s 2ms/step - loss: 0.6993 - acc: 0.8121 - val_loss: 8.0770 - val_acc: 0.0362\n",
      "Epoch 35/50\n",
      "6132/6132 [==============================] - 13s 2ms/step - loss: 0.6810 - acc: 0.8183 - val_loss: 8.3058 - val_acc: 0.0337\n",
      "Epoch 36/50\n",
      "6132/6132 [==============================] - 13s 2ms/step - loss: 0.7069 - acc: 0.8040 - val_loss: 8.1539 - val_acc: 0.0347\n",
      "Epoch 37/50\n",
      "6132/6132 [==============================] - 12s 2ms/step - loss: 0.6271 - acc: 0.8284 - val_loss: 8.2905 - val_acc: 0.0289\n",
      "Epoch 38/50\n",
      "6132/6132 [==============================] - 12s 2ms/step - loss: 0.6489 - acc: 0.8203 - val_loss: 8.2392 - val_acc: 0.0328\n",
      "Epoch 39/50\n",
      "6132/6132 [==============================] - 13s 2ms/step - loss: 0.6064 - acc: 0.8328 - val_loss: 8.4187 - val_acc: 0.0313\n",
      "Epoch 40/50\n",
      "6132/6132 [==============================] - 12s 2ms/step - loss: 0.6154 - acc: 0.8333 - val_loss: 8.5069 - val_acc: 0.0318\n",
      "Epoch 41/50\n",
      "6132/6132 [==============================] - 13s 2ms/step - loss: 0.5890 - acc: 0.8359 - val_loss: 8.7088 - val_acc: 0.0274\n",
      "Epoch 42/50\n",
      "6132/6132 [==============================] - 13s 2ms/step - loss: 0.5785 - acc: 0.8402 - val_loss: 8.7766 - val_acc: 0.0318\n",
      "Epoch 43/50\n",
      "6132/6132 [==============================] - 12s 2ms/step - loss: 0.5733 - acc: 0.8441 - val_loss: 8.7074 - val_acc: 0.0367\n",
      "Epoch 44/50\n",
      "6132/6132 [==============================] - 12s 2ms/step - loss: 0.5500 - acc: 0.8480 - val_loss: 8.7496 - val_acc: 0.0362\n",
      "Epoch 45/50\n",
      "6132/6132 [==============================] - 12s 2ms/step - loss: 0.5524 - acc: 0.8457 - val_loss: 8.7227 - val_acc: 0.0347\n",
      "Epoch 46/50\n",
      "6132/6132 [==============================] - 13s 2ms/step - loss: 0.5261 - acc: 0.8563 - val_loss: 8.7505 - val_acc: 0.0352\n",
      "Epoch 47/50\n",
      "6132/6132 [==============================] - 13s 2ms/step - loss: 0.5188 - acc: 0.8514 - val_loss: 8.9327 - val_acc: 0.0328\n",
      "Epoch 48/50\n",
      "6132/6132 [==============================] - 12s 2ms/step - loss: 0.5080 - acc: 0.8593 - val_loss: 8.8985 - val_acc: 0.0352\n",
      "Epoch 49/50\n",
      "6132/6132 [==============================] - 12s 2ms/step - loss: 0.4954 - acc: 0.8609 - val_loss: 9.1330 - val_acc: 0.0284\n",
      "Epoch 50/50\n",
      "6132/6132 [==============================] - 12s 2ms/step - loss: 0.4882 - acc: 0.8646 - val_loss: 8.8101 - val_acc: 0.0284\n"
     ]
    }
   ],
   "source": [
    "from keras.callbacks import EarlyStopping\n",
    "\n",
    "early_stopping = EarlyStopping(monitor='val_loss',  min_delta=0.01, patience=3)\n",
    "fitted_model = model.fit(X_train, y_train, validation_split=0.25, batch_size=32, epochs=50, verbose=1)"
   ]
  },
  {
   "cell_type": "code",
   "execution_count": 39,
   "metadata": {},
   "outputs": [
    {
     "data": {
      "text/plain": [
       "<matplotlib.legend.Legend at 0x11d73c92e88>"
      ]
     },
     "execution_count": 39,
     "metadata": {},
     "output_type": "execute_result"
    },
    {
     "data": {
      "image/png": "[encoded data removed]",
      "text/plain": [
       "<Figure size 432x288 with 1 Axes>"
      ]
     },
     "metadata": {
      "needs_background": "light"
     },
     "output_type": "display_data"
    },
    {
     "data": {
      "image/png": "[encoded data removed]",
      "text/plain": [
       "<Figure size 432x288 with 1 Axes>"
      ]
     },
     "metadata": {
      "needs_background": "light"
     },
     "output_type": "display_data"
    }
   ],
   "source": [
    "import matplotlib.pyplot as plt\n",
    "\n",
    "%matplotlib inline\n",
    "\n",
    "accuracy = fitted_model.history['acc']\n",
    "#val_accuracy = history.history['val_acc']\n",
    "loss = fitted_model.history['loss']\n",
    "#val_loss = history.history['val_loss']\n",
    "epochs = range(len(accuracy))\n",
    "plt.plot(epochs, accuracy, 'b-', label='Training accuracy')\n",
    "#plt.plot(epochs, val_accuracy, 'b', label='Validation accuracy')\n",
    "plt.title('Training and validation accuracy')\n",
    "plt.legend()\n",
    "plt.figure()\n",
    "plt.plot(epochs, loss, 'r-', label='Training loss')\n",
    "#plt.plot(epochs, val_loss, 'b', label='Validation loss')\n",
    "plt.title('Training and validation loss')\n",
    "plt.legend()\n",
    "# plt.show()"
   ]
  },
  {
   "cell_type": "markdown",
   "metadata": {},
   "source": [
    "### Predicting based off of our model"
   ]
  },
  {
   "cell_type": "code",
   "execution_count": 40,
   "metadata": {
    "scrolled": true
   },
   "outputs": [
    {
     "name": "stdout",
     "output_type": "stream",
     "text": [
      "2045/2045 [==============================] - 3s 1ms/step\n",
      "(2045, 120)\n"
     ]
    }
   ],
   "source": [
    "y_predict = model.predict(X_test, verbose=1)\n",
    "print (y_predict.shape)"
   ]
  },
  {
   "cell_type": "code",
   "execution_count": 41,
   "metadata": {
    "scrolled": true
   },
   "outputs": [
    {
     "data": {
      "text/plain": [
       "array([[1.60162454e-04, 7.19663287e-11, 2.10076498e-10, ...,\n",
       "        5.31981527e-07, 1.83374985e-04, 9.49723253e-05],\n",
       "       [2.32564169e-03, 5.34298073e-04, 1.06893957e-03, ...,\n",
       "        6.62956620e-03, 1.13996575e-04, 8.89976625e-04],\n",
       "       [1.01321107e-02, 5.19330788e-05, 4.16730745e-06, ...,\n",
       "        4.98575972e-08, 2.33031693e-03, 2.94253055e-04],\n",
       "       ...,\n",
       "       [2.41358113e-03, 4.33324429e-04, 5.40596193e-05, ...,\n",
       "        8.90779629e-05, 6.34610595e-04, 5.13557927e-04],\n",
       "       [3.04527767e-03, 1.49292255e-05, 2.58492194e-02, ...,\n",
       "        3.95022391e-04, 7.55892023e-02, 3.72019410e-03],\n",
       "       [2.42498743e-07, 1.03053062e-04, 3.78544173e-05, ...,\n",
       "        2.79363871e-06, 3.94782255e-05, 1.08100950e-08]], dtype=float32)"
      ]
     },
     "execution_count": 41,
     "metadata": {},
     "output_type": "execute_result"
    }
   ],
   "source": [
    "y_predict"
   ]
  },
  {
   "cell_type": "code",
   "execution_count": 42,
   "metadata": {},
   "outputs": [
    {
     "name": "stdout",
     "output_type": "stream",
     "text": [
      "2045/2045 [==============================] - 1s 399us/step\n",
      "The accuracy is:  0.02933985329709018\n"
     ]
    }
   ],
   "source": [
    "score = model.evaluate(X_test, y_test, verbose=1)\n",
    "print('The accuracy is: ', score[1])"
   ]
  },
  {
   "cell_type": "markdown",
   "metadata": {},
   "source": [
    "## We obtained an accuracy of 2.9%. This might be because we overfit our model."
   ]
  },
  {
   "cell_type": "code",
   "execution_count": null,
   "metadata": {},
   "outputs": [],
   "source": []
  }
 ],
 "metadata": {
  "kernelspec": {
   "display_name": "Python 3",
   "language": "python",
   "name": "python3"
  },
  "language_info": {
   "codemirror_mode": {
    "name": "ipython",
    "version": 3
   },
   "file_extension": ".py",
   "mimetype": "text/x-python",
   "name": "python",
   "nbconvert_exporter": "python",
   "pygments_lexer": "ipython3",
   "version": "3.7.4"
  }
 },
 "nbformat": 4,
 "nbformat_minor": 2
}
