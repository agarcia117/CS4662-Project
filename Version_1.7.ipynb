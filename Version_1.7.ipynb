{
 "cells": [
  {
   "cell_type": "markdown",
   "metadata": {},
   "source": [
    "# Dog Breed Prediction\n",
    "## https://www.kaggle.com/c/dog-breed-identification/overview\n",
    "### CS 4662\n",
    "### Spring 2020\n",
    "### Alan Garcia\n",
    "### Ryan Peralta\n"
   ]
  },
  {
   "cell_type": "code",
   "execution_count": 1,
   "metadata": {},
   "outputs": [],
   "source": [
    "import PIL.Image\n",
    "from numpy import asarray\n",
    "from PIL import Image\n",
    "from numpy import fliplr\n",
    "from numpy import flipud\n",
    "\n",
    "import plaidml.keras\n",
    "plaidml.keras.install_backend()\n",
    "\n",
    "#from tensorflow.keras import backend\n",
    "# \"Sequential\" model lets us to define a stack of neural network layers\n",
    "from keras.models import Sequential\n",
    "\n",
    "# import the \"core\" layers:\n",
    "from keras.layers import Dense, Dropout, Activation, Flatten\n",
    "import matplotlib.image as mpimg\n",
    "\n",
    "# CNN\n",
    "from keras.layers import Convolution2D, MaxPooling2D\n",
    "\n",
    "# import some utilities to transform our data\n",
    "from keras.utils import np_utils\n",
    "\n",
    "from sklearn.model_selection import train_test_split\n",
    "\n",
    "import tensorflow as tf\n",
    "import numpy as np\n",
    "import pandas as pd"
   ]
  },
  {
   "cell_type": "code",
   "execution_count": 2,
   "metadata": {},
   "outputs": [
    {
     "data": {
      "text/plain": [
       "'\\nimport os\\ncounter = 0\\nd = d = \"C:/Users/rpera/Desktop/Spring 2020/CS 4662/Project Data/train\"\\nfor path in os.listdir(d):\\n    full_path = os.path.join(d, path)\\n    if os.path.isfile(full_path):\\n        print(full_path)\\n        img = Image.open(full_path)\\n        maxsize = (64, 64)\\n        img = img.resize(maxsize, PIL.Image.ANTIALIAS)\\n        img.save(\\'resized_photos64_RGB/\\'+ str(counter) + \\'.jpg\\')\\n        counter += 1\\n'"
      ]
     },
     "execution_count": 2,
     "metadata": {},
     "output_type": "execute_result"
    }
   ],
   "source": [
    "'''\n",
    "import os\n",
    "counter = 0\n",
    "d = d = \"C:/Users/rpera/Desktop/Spring 2020/CS 4662/Project Data/train\"\n",
    "for path in os.listdir(d):\n",
    "    full_path = os.path.join(d, path)\n",
    "    if os.path.isfile(full_path):\n",
    "        print(full_path)\n",
    "        img = Image.open(full_path)\n",
    "        maxsize = (64, 64)\n",
    "        img = img.resize(maxsize, PIL.Image.ANTIALIAS)\n",
    "        img.save('resized_photos64_RGB/'+ str(counter) + '.jpg')\n",
    "        counter += 1\n",
    "'''"
   ]
  },
  {
   "cell_type": "code",
   "execution_count": 3,
   "metadata": {},
   "outputs": [
    {
     "data": {
      "text/plain": [
       "'\\nimport os\\ncounter = 0\\nd = \"C:/Users/Alan/Desktop/Data_Science_2/final_project/train\"\\nfor path in os.listdir(d):\\n    full_path = os.path.join(d, path)\\n    if os.path.isfile(full_path):\\n        print(full_path)\\n        img = Image.open(full_path).convert(\\'L\\')\\n        maxsize = (64, 64)\\n        img = img.resize(maxsize, PIL.Image.ANTIALIAS)\\n        img.save(\\'resized_photos64_Grey/\\'+ str(counter) + \\'.jpg\\')\\n        counter += 1\\n'"
      ]
     },
     "execution_count": 3,
     "metadata": {},
     "output_type": "execute_result"
    }
   ],
   "source": [
    "'''\n",
    "import os\n",
    "counter = 0\n",
    "d = \"C:/Users/Alan/Desktop/Data_Science_2/final_project/train\"\n",
    "for path in os.listdir(d):\n",
    "    full_path = os.path.join(d, path)\n",
    "    if os.path.isfile(full_path):\n",
    "        print(full_path)\n",
    "        img = Image.open(full_path).convert('L')\n",
    "        maxsize = (64, 64)\n",
    "        img = img.resize(maxsize, PIL.Image.ANTIALIAS)\n",
    "        img.save('resized_photos64_Grey/'+ str(counter) + '.jpg')\n",
    "        counter += 1\n",
    "'''"
   ]
  },
  {
   "cell_type": "markdown",
   "metadata": {},
   "source": [
    "#### Regular + horizontally flipped + grey scale"
   ]
  },
  {
   "cell_type": "code",
   "execution_count": 4,
   "metadata": {
    "scrolled": true
   },
   "outputs": [],
   "source": [
    "listForX = []\n",
    "listForFlipX = []\n",
    "listForXGrey = []\n",
    "for x in range(0, 10222):\n",
    "    test = mpimg.imread(\"C:/Users/Alan/Desktop/Data_Science_2/final_project/resized_photos64_RGB/\"+str(x)+\".jpg\")\n",
    "    grey = mpimg.imread(\"C:/Users/Alan/Desktop/Data_Science_2/final_project/resized_photos64_Grey/\"+str(x)+\".jpg\")\n",
    "    testing = (test.reshape(1, 12288))\n",
    "    testFlip = fliplr(test)\n",
    "    \n",
    "    testingFlip = (testFlip.reshape(1, 12288))\n",
    "    \n",
    "    \n",
    "    stacked_img = np.stack((grey,)*3, axis=-1)\n",
    "    testingGrey = (stacked_img.reshape(1, 12288))\n",
    "    \n",
    "    listForX.append(testing[0])\n",
    "    listForFlipX.append(testingFlip[0])\n",
    "    listForXGrey.append(testingGrey[0])\n",
    "    "
   ]
  },
  {
   "cell_type": "code",
   "execution_count": 5,
   "metadata": {},
   "outputs": [],
   "source": [
    "X = np.concatenate((listForX, listForFlipX, listForXGrey), axis=0)"
   ]
  },
  {
   "cell_type": "code",
   "execution_count": 6,
   "metadata": {},
   "outputs": [
    {
     "data": {
      "text/plain": [
       "array([[162, 120,  70, ..., 176, 113,  80],\n",
       "       [ 50,  34,  47, ...,  61,   8,   0],\n",
       "       [100,  99, 105, ..., 118, 118, 116],\n",
       "       ...,\n",
       "       [  1,   1,   1, ..., 186, 186, 186],\n",
       "       [169, 169, 169, ..., 142, 142, 142],\n",
       "       [190, 190, 190, ..., 203, 203, 203]], dtype=uint8)"
      ]
     },
     "execution_count": 6,
     "metadata": {},
     "output_type": "execute_result"
    }
   ],
   "source": [
    "X"
   ]
  },
  {
   "cell_type": "code",
   "execution_count": 7,
   "metadata": {},
   "outputs": [],
   "source": [
    "#df = pd.DataFrame(listForX)"
   ]
  },
  {
   "cell_type": "code",
   "execution_count": 8,
   "metadata": {},
   "outputs": [],
   "source": [
    "#df.values.tolist()"
   ]
  },
  {
   "cell_type": "code",
   "execution_count": 9,
   "metadata": {},
   "outputs": [],
   "source": [
    "#X = np.asarray(listForX).concat(np.asarray(listForFlipX))"
   ]
  },
  {
   "cell_type": "code",
   "execution_count": 10,
   "metadata": {},
   "outputs": [
    {
     "data": {
      "text/plain": [
       "(30666, 12288)"
      ]
     },
     "execution_count": 10,
     "metadata": {},
     "output_type": "execute_result"
    }
   ],
   "source": [
    "X.shape"
   ]
  },
  {
   "cell_type": "code",
   "execution_count": 23,
   "metadata": {},
   "outputs": [],
   "source": [
    "y = pd.read_csv(\"C:/Users/Alan/Desktop/Data_Science_2/final_project/labels.csv\")"
   ]
  },
  {
   "cell_type": "code",
   "execution_count": 24,
   "metadata": {
    "scrolled": true
   },
   "outputs": [],
   "source": [
    "#y"
   ]
  },
  {
   "cell_type": "code",
   "execution_count": 25,
   "metadata": {},
   "outputs": [],
   "source": [
    "y = y.drop(['id'], axis=1)"
   ]
  },
  {
   "cell_type": "code",
   "execution_count": 26,
   "metadata": {},
   "outputs": [],
   "source": [
    "y['breed'] = pd.factorize(y['breed'])[0]"
   ]
  },
  {
   "cell_type": "code",
   "execution_count": 27,
   "metadata": {},
   "outputs": [],
   "source": [
    "#y"
   ]
  },
  {
   "cell_type": "code",
   "execution_count": 28,
   "metadata": {},
   "outputs": [],
   "source": [
    "y2 = y.breed.tolist()\n",
    "y = y.breed.tolist() + y.breed.tolist() + y.breed.tolist()\n",
    "X2 = np.asarray(listForX)"
   ]
  },
  {
   "cell_type": "code",
   "execution_count": 29,
   "metadata": {},
   "outputs": [
    {
     "data": {
      "text/plain": [
       "30666"
      ]
     },
     "execution_count": 29,
     "metadata": {},
     "output_type": "execute_result"
    }
   ],
   "source": [
    "len(y)"
   ]
  },
  {
   "cell_type": "code",
   "execution_count": 30,
   "metadata": {},
   "outputs": [],
   "source": [
    "#yTest = []\n",
    "#for x in range(0, 1000):\n",
    "   # yTest.append(y[x])\n"
   ]
  },
  {
   "cell_type": "code",
   "execution_count": 31,
   "metadata": {},
   "outputs": [],
   "source": [
    "X_train2, X_test2, y_train2, y_test2 = train_test_split(X2, y2, test_size=0.20, random_state=4)"
   ]
  },
  {
   "cell_type": "code",
   "execution_count": 32,
   "metadata": {},
   "outputs": [],
   "source": [
    "#y = yTest"
   ]
  },
  {
   "cell_type": "code",
   "execution_count": 33,
   "metadata": {
    "scrolled": true
   },
   "outputs": [],
   "source": [
    "X_train, X_test, y_train, y_test = train_test_split(X, y, test_size=0.20, random_state=2)"
   ]
  },
  {
   "cell_type": "code",
   "execution_count": 34,
   "metadata": {},
   "outputs": [],
   "source": [
    "X_train = X_train.reshape(X_train.shape[0], 64, 64, 3)\n",
    "X_test = X_test.reshape(X_test.shape[0], 64, 64, 3)\n",
    "X_train2 = X_train2.reshape(X_train2.shape[0], 64, 64, 3)\n",
    "X_test2 = X_test2.reshape(X_test2.shape[0], 64, 64, 3)"
   ]
  },
  {
   "cell_type": "code",
   "execution_count": 35,
   "metadata": {},
   "outputs": [],
   "source": [
    "y_train = np_utils.to_categorical(y_train, 120)\n",
    "y_test = np_utils.to_categorical(y_test, 120)"
   ]
  },
  {
   "cell_type": "code",
   "execution_count": 36,
   "metadata": {},
   "outputs": [],
   "source": [
    "y_train2 = np_utils.to_categorical(y_train2, 120)\n",
    "y_test2 = np_utils.to_categorical(y_test2, 120)"
   ]
  },
  {
   "cell_type": "code",
   "execution_count": 37,
   "metadata": {
    "scrolled": true
   },
   "outputs": [],
   "source": [
    "X_train = X_train.astype('float32')\n",
    "X_test = X_test.astype('float32')\n",
    "X_train /= 255\n",
    "X_test /= 255\n",
    "\n",
    "X_train2 = X_train2.astype('float32')\n",
    "X_test2 = X_test2.astype('float32')\n",
    "X_train2 /= 255\n",
    "X_test2 /= 255"
   ]
  },
  {
   "cell_type": "code",
   "execution_count": 38,
   "metadata": {},
   "outputs": [
    {
     "data": {
      "text/plain": [
       "(24532, 64, 64, 3)"
      ]
     },
     "execution_count": 38,
     "metadata": {},
     "output_type": "execute_result"
    }
   ],
   "source": [
    "X_train.shape"
   ]
  },
  {
   "cell_type": "code",
   "execution_count": 39,
   "metadata": {},
   "outputs": [],
   "source": [
    "model = Sequential()"
   ]
  },
  {
   "cell_type": "code",
   "execution_count": 40,
   "metadata": {},
   "outputs": [
    {
     "name": "stderr",
     "output_type": "stream",
     "text": [
      "INFO:plaidml:Opening device \"opencl_amd_gfx900.0\"\n"
     ]
    },
    {
     "name": "stdout",
     "output_type": "stream",
     "text": [
      "(None, 31, 31, 16)\n"
     ]
    }
   ],
   "source": [
    "model.add(Convolution2D(16, (3, 3), activation='relu', input_shape=(64,64,3)))\n",
    "model.add(MaxPooling2D(pool_size=(2,2)))\n",
    "#model.add(Dropout(0.25)) \n",
    "print(model.output_shape) # -> (None, 26, 26, 32)"
   ]
  },
  {
   "cell_type": "code",
   "execution_count": 41,
   "metadata": {},
   "outputs": [
    {
     "name": "stdout",
     "output_type": "stream",
     "text": [
      "(None, 6, 6, 64)\n"
     ]
    }
   ],
   "source": [
    "# more hidden layers:\n",
    "model.add(Convolution2D(32, (3, 3), activation='relu'))\n",
    "# Pooling Layer:\n",
    "model.add(MaxPooling2D(pool_size=(2,2)))\n",
    "#model.add(Dropout(0.25)) \n",
    "\n",
    "\n",
    "model.add(Convolution2D(64, (3, 3), activation='relu'))\n",
    "model.add(MaxPooling2D(pool_size=(2,2)))\n",
    "print(model.output_shape)\n",
    "\n",
    "# Dropout layer to avoid overfitting\n",
    "model.add(Dropout(0.25)) "
   ]
  },
  {
   "cell_type": "code",
   "execution_count": 42,
   "metadata": {},
   "outputs": [
    {
     "name": "stdout",
     "output_type": "stream",
     "text": [
      "(None, 2304)\n",
      "(None, 128)\n",
      "(None, 120)\n"
     ]
    }
   ],
   "source": [
    "# output Fully connected Dense layers:\n",
    "model.add(Flatten())\n",
    "print(model.output_shape)\n",
    "\n",
    "model.add(Dense(128, activation='relu'))\n",
    "print(model.output_shape)\n",
    "\n",
    "model.add(Dropout(0.5))\n",
    "model.add(Dense(120, activation='softmax'))\n",
    "print(model.output_shape)"
   ]
  },
  {
   "cell_type": "code",
   "execution_count": 43,
   "metadata": {},
   "outputs": [],
   "source": [
    "model.compile(loss='categorical_crossentropy',metrics=['accuracy'],\n",
    "              optimizer='adam')"
   ]
  },
  {
   "cell_type": "code",
   "execution_count": 44,
   "metadata": {},
   "outputs": [
    {
     "name": "stdout",
     "output_type": "stream",
     "text": [
      "_________________________________________________________________\n",
      "Layer (type)                 Output Shape              Param #   \n",
      "=================================================================\n",
      "conv2d_1 (Conv2D)            (None, 62, 62, 16)        448       \n",
      "_________________________________________________________________\n",
      "max_pooling2d_1 (MaxPooling2 (None, 31, 31, 16)        0         \n",
      "_________________________________________________________________\n",
      "conv2d_2 (Conv2D)            (None, 29, 29, 32)        4640      \n",
      "_________________________________________________________________\n",
      "max_pooling2d_2 (MaxPooling2 (None, 14, 14, 32)        0         \n",
      "_________________________________________________________________\n",
      "conv2d_3 (Conv2D)            (None, 12, 12, 64)        18496     \n",
      "_________________________________________________________________\n",
      "max_pooling2d_3 (MaxPooling2 (None, 6, 6, 64)          0         \n",
      "_________________________________________________________________\n",
      "dropout_1 (Dropout)          (None, 6, 6, 64)          0         \n",
      "_________________________________________________________________\n",
      "flatten_1 (Flatten)          (None, 2304)              0         \n",
      "_________________________________________________________________\n",
      "dense_1 (Dense)              (None, 128)               295040    \n",
      "_________________________________________________________________\n",
      "dropout_2 (Dropout)          (None, 128)               0         \n",
      "_________________________________________________________________\n",
      "dense_2 (Dense)              (None, 120)               15480     \n",
      "=================================================================\n",
      "Total params: 334,104\n",
      "Trainable params: 334,104\n",
      "Non-trainable params: 0\n",
      "_________________________________________________________________\n",
      "None\n"
     ]
    }
   ],
   "source": [
    "print(model.summary())"
   ]
  },
  {
   "cell_type": "code",
   "execution_count": 45,
   "metadata": {},
   "outputs": [
    {
     "data": {
      "text/plain": [
       "(24532, 64, 64, 3)"
      ]
     },
     "execution_count": 45,
     "metadata": {},
     "output_type": "execute_result"
    }
   ],
   "source": [
    "X_train.shape"
   ]
  },
  {
   "cell_type": "code",
   "execution_count": 46,
   "metadata": {},
   "outputs": [
    {
     "data": {
      "text/plain": [
       "(24532, 120)"
      ]
     },
     "execution_count": 46,
     "metadata": {},
     "output_type": "execute_result"
    }
   ],
   "source": [
    "y_train.shape"
   ]
  },
  {
   "cell_type": "code",
   "execution_count": 47,
   "metadata": {
    "scrolled": true
   },
   "outputs": [
    {
     "name": "stdout",
     "output_type": "stream",
     "text": [
      "Train on 22078 samples, validate on 2454 samples\n",
      "Epoch 1/50\n",
      "21952/22078 [============================>.] - ETA: 0s - loss: 4.7188 - acc: 0.0177"
     ]
    },
    {
     "name": "stderr",
     "output_type": "stream",
     "text": [
      "INFO:plaidml:Analyzing Ops: 83 of 274 operations complete\n"
     ]
    },
    {
     "name": "stdout",
     "output_type": "stream",
     "text": [
      "22078/22078 [==============================] - 26s 1ms/step - loss: 4.7181 - acc: 0.0178 - val_loss: 4.5591 - val_acc: 0.0314\n",
      "Epoch 2/50\n",
      "22078/22078 [==============================] - 9s 400us/step - loss: 4.5241 - acc: 0.0313 - val_loss: 4.4152 - val_acc: 0.0485\n",
      "Epoch 3/50\n",
      "22078/22078 [==============================] - 8s 372us/step - loss: 4.4033 - acc: 0.0447 - val_loss: 4.3078 - val_acc: 0.0558\n",
      "Epoch 4/50\n",
      "22078/22078 [==============================] - 8s 372us/step - loss: 4.2863 - acc: 0.0595 - val_loss: 4.1861 - val_acc: 0.0746\n",
      "Epoch 5/50\n",
      "22078/22078 [==============================] - 9s 388us/step - loss: 4.1684 - acc: 0.0737 - val_loss: 4.0954 - val_acc: 0.0909\n",
      "Epoch 6/50\n",
      "22078/22078 [==============================] - 9s 389us/step - loss: 4.0576 - acc: 0.0899 - val_loss: 3.9958 - val_acc: 0.1059\n",
      "Epoch 7/50\n",
      "22078/22078 [==============================] - 10s 431us/step - loss: 3.9360 - acc: 0.1107 - val_loss: 3.9161 - val_acc: 0.1165\n",
      "Epoch 8/50\n",
      "22078/22078 [==============================] - 9s 412us/step - loss: 3.8424 - acc: 0.1183 - val_loss: 3.8581 - val_acc: 0.1247\n",
      "Epoch 9/50\n",
      "22078/22078 [==============================] - 9s 393us/step - loss: 3.7467 - acc: 0.1355 - val_loss: 3.7982 - val_acc: 0.1385\n",
      "Epoch 10/50\n",
      "22078/22078 [==============================] - 8s 381us/step - loss: 3.6494 - acc: 0.1479 - val_loss: 3.7221 - val_acc: 0.1479\n",
      "Epoch 11/50\n",
      "22078/22078 [==============================] - 8s 374us/step - loss: 3.5536 - acc: 0.1628 - val_loss: 3.6484 - val_acc: 0.1585\n",
      "Epoch 12/50\n",
      "22078/22078 [==============================] - 8s 378us/step - loss: 3.4749 - acc: 0.1802 - val_loss: 3.6449 - val_acc: 0.1716\n",
      "Epoch 13/50\n",
      "22078/22078 [==============================] - 8s 380us/step - loss: 3.4088 - acc: 0.1869 - val_loss: 3.5858 - val_acc: 0.1874\n",
      "Epoch 14/50\n",
      "22078/22078 [==============================] - 8s 383us/step - loss: 3.3420 - acc: 0.1964 - val_loss: 3.5720 - val_acc: 0.1879\n",
      "Epoch 15/50\n",
      "22078/22078 [==============================] - 8s 374us/step - loss: 3.2766 - acc: 0.2063 - val_loss: 3.5192 - val_acc: 0.2062\n",
      "Epoch 16/50\n",
      "22078/22078 [==============================] - 8s 376us/step - loss: 3.2114 - acc: 0.2204 - val_loss: 3.4870 - val_acc: 0.2082\n",
      "Epoch 17/50\n",
      "22078/22078 [==============================] - 9s 418us/step - loss: 3.1476 - acc: 0.2291 - val_loss: 3.4799 - val_acc: 0.2164\n",
      "Epoch 18/50\n",
      "22078/22078 [==============================] - 9s 389us/step - loss: 3.0945 - acc: 0.2411 - val_loss: 3.4099 - val_acc: 0.2286\n",
      "Epoch 19/50\n",
      "22078/22078 [==============================] - 9s 394us/step - loss: 3.0348 - acc: 0.2501 - val_loss: 3.3781 - val_acc: 0.2474\n",
      "Epoch 20/50\n",
      "22078/22078 [==============================] - 9s 385us/step - loss: 3.0026 - acc: 0.2579 - val_loss: 3.3615 - val_acc: 0.2372\n",
      "Epoch 21/50\n",
      "22078/22078 [==============================] - 8s 380us/step - loss: 2.9608 - acc: 0.2637 - val_loss: 3.3461 - val_acc: 0.2543\n",
      "Epoch 22/50\n",
      "22078/22078 [==============================] - 8s 374us/step - loss: 2.9069 - acc: 0.2685 - val_loss: 3.3294 - val_acc: 0.2543\n",
      "Epoch 23/50\n",
      "22078/22078 [==============================] - 8s 384us/step - loss: 2.8778 - acc: 0.2754 - val_loss: 3.2681 - val_acc: 0.2791\n",
      "Epoch 24/50\n",
      "22078/22078 [==============================] - 8s 374us/step - loss: 2.8336 - acc: 0.2867 - val_loss: 3.2691 - val_acc: 0.2820\n",
      "Epoch 25/50\n",
      "22078/22078 [==============================] - 8s 377us/step - loss: 2.8016 - acc: 0.2910 - val_loss: 3.2486 - val_acc: 0.2869\n",
      "Epoch 26/50\n",
      "22078/22078 [==============================] - 8s 380us/step - loss: 2.7652 - acc: 0.3001 - val_loss: 3.2281 - val_acc: 0.2922\n",
      "Epoch 27/50\n",
      "22078/22078 [==============================] - 8s 374us/step - loss: 2.7317 - acc: 0.3028 - val_loss: 3.2467 - val_acc: 0.2958\n",
      "Epoch 28/50\n",
      "22078/22078 [==============================] - 8s 380us/step - loss: 2.7035 - acc: 0.3130 - val_loss: 3.2100 - val_acc: 0.2979\n",
      "Epoch 29/50\n",
      "22078/22078 [==============================] - 8s 380us/step - loss: 2.6684 - acc: 0.3171 - val_loss: 3.1845 - val_acc: 0.3166\n",
      "Epoch 30/50\n",
      "22078/22078 [==============================] - 8s 376us/step - loss: 2.6635 - acc: 0.3203 - val_loss: 3.1638 - val_acc: 0.3142\n",
      "Epoch 31/50\n",
      "22078/22078 [==============================] - 9s 395us/step - loss: 2.6363 - acc: 0.3253 - val_loss: 3.1647 - val_acc: 0.3199\n",
      "Epoch 32/50\n",
      "22078/22078 [==============================] - 9s 401us/step - loss: 2.5976 - acc: 0.3325 - val_loss: 3.1615 - val_acc: 0.3064\n",
      "Epoch 33/50\n",
      "22078/22078 [==============================] - 8s 381us/step - loss: 2.5962 - acc: 0.3298 - val_loss: 3.1420 - val_acc: 0.3268\n",
      "Epoch 34/50\n",
      "22078/22078 [==============================] - 9s 399us/step - loss: 2.5517 - acc: 0.3416 - val_loss: 3.1619 - val_acc: 0.3256\n",
      "Epoch 35/50\n",
      "22078/22078 [==============================] - 9s 398us/step - loss: 2.5367 - acc: 0.3429 - val_loss: 3.1077 - val_acc: 0.3374\n",
      "Epoch 36/50\n",
      "22078/22078 [==============================] - 8s 379us/step - loss: 2.5052 - acc: 0.3545 - val_loss: 3.1138 - val_acc: 0.3374\n",
      "Epoch 37/50\n",
      "22078/22078 [==============================] - 9s 399us/step - loss: 2.4793 - acc: 0.3563 - val_loss: 3.0852 - val_acc: 0.3431\n",
      "Epoch 38/50\n",
      "22078/22078 [==============================] - 9s 402us/step - loss: 2.4733 - acc: 0.3568 - val_loss: 3.0854 - val_acc: 0.3472\n",
      "Epoch 39/50\n",
      "22078/22078 [==============================] - 9s 386us/step - loss: 2.4302 - acc: 0.3641 - val_loss: 3.0743 - val_acc: 0.3488\n",
      "Epoch 40/50\n",
      "22078/22078 [==============================] - 9s 397us/step - loss: 2.4250 - acc: 0.3659 - val_loss: 3.0805 - val_acc: 0.3476\n",
      "Epoch 41/50\n",
      "22078/22078 [==============================] - 9s 387us/step - loss: 2.4110 - acc: 0.3716 - val_loss: 3.0518 - val_acc: 0.3578\n",
      "Epoch 42/50\n",
      "22078/22078 [==============================] - 8s 379us/step - loss: 2.4038 - acc: 0.3674 - val_loss: 3.0852 - val_acc: 0.3602\n",
      "Epoch 43/50\n",
      "22078/22078 [==============================] - 9s 395us/step - loss: 2.4035 - acc: 0.3724 - val_loss: 3.0444 - val_acc: 0.3623\n",
      "Epoch 44/50\n",
      "22078/22078 [==============================] - 8s 377us/step - loss: 2.3926 - acc: 0.3725 - val_loss: 3.0194 - val_acc: 0.3676\n",
      "Epoch 45/50\n",
      "22078/22078 [==============================] - 8s 376us/step - loss: 2.3585 - acc: 0.3833 - val_loss: 3.0068 - val_acc: 0.3676\n",
      "Epoch 46/50\n",
      "22078/22078 [==============================] - 8s 376us/step - loss: 2.3401 - acc: 0.3814 - val_loss: 3.0317 - val_acc: 0.3680\n",
      "Epoch 47/50\n",
      "22078/22078 [==============================] - 8s 376us/step - loss: 2.3304 - acc: 0.3834 - val_loss: 2.9958 - val_acc: 0.3712\n",
      "Epoch 48/50\n",
      "22078/22078 [==============================] - 8s 374us/step - loss: 2.3239 - acc: 0.3839 - val_loss: 2.9990 - val_acc: 0.3749\n",
      "Epoch 49/50\n",
      "22078/22078 [==============================] - 8s 379us/step - loss: 2.3148 - acc: 0.3913 - val_loss: 2.9996 - val_acc: 0.3700\n",
      "Epoch 50/50\n",
      "22078/22078 [==============================] - 8s 372us/step - loss: 2.3189 - acc: 0.3885 - val_loss: 3.0036 - val_acc: 0.3778\n"
     ]
    }
   ],
   "source": [
    "from keras.callbacks import EarlyStopping\n",
    "\n",
    "fitted_model = model.fit(X_train, y_train, validation_split=0.1, batch_size=64, epochs=50, shuffle=True, verbose=1)"
   ]
  },
  {
   "cell_type": "code",
   "execution_count": null,
   "metadata": {},
   "outputs": [],
   "source": []
  },
  {
   "cell_type": "code",
   "execution_count": 48,
   "metadata": {},
   "outputs": [
    {
     "data": {
      "text/plain": [
       "<matplotlib.legend.Legend at 0x18b05ce9b88>"
      ]
     },
     "execution_count": 48,
     "metadata": {},
     "output_type": "execute_result"
    },
    {
     "data": {
      "image/png": "[encoded data removed]",
      "text/plain": [
       "<Figure size 432x288 with 1 Axes>"
      ]
     },
     "metadata": {
      "needs_background": "light"
     },
     "output_type": "display_data"
    },
    {
     "data": {
      "image/png": "[encoded data removed]",
      "text/plain": [
       "<Figure size 432x288 with 1 Axes>"
      ]
     },
     "metadata": {
      "needs_background": "light"
     },
     "output_type": "display_data"
    }
   ],
   "source": [
    "import matplotlib.pyplot as plt\n",
    "\n",
    "%matplotlib inline\n",
    "\n",
    "accuracy = fitted_model.history['acc']\n",
    "#val_accuracy = history.history['val_acc']\n",
    "loss = fitted_model.history['loss']\n",
    "#val_loss = history.history['val_loss']\n",
    "epochs = range(len(accuracy))\n",
    "plt.plot(epochs, accuracy, 'b-', label='Training accuracy')\n",
    "#plt.plot(epochs, val_accuracy, 'b', label='Validation accuracy')\n",
    "plt.title('Training and validation accuracy')\n",
    "plt.legend()\n",
    "plt.figure()\n",
    "plt.plot(epochs, loss, 'r-', label='Training loss')\n",
    "#plt.plot(epochs, val_loss, 'b', label='Validation loss')\n",
    "plt.title('Training and validation loss')\n",
    "plt.legend()\n",
    "# plt.show()"
   ]
  },
  {
   "cell_type": "code",
   "execution_count": 49,
   "metadata": {
    "scrolled": false
   },
   "outputs": [
    {
     "name": "stdout",
     "output_type": "stream",
     "text": [
      "6134/6134 [==============================] - 4s 664us/step\n",
      "(6134, 120)\n"
     ]
    }
   ],
   "source": [
    "y_pridict = model.predict(X_test, verbose=1)\n",
    "print (y_pridict.shape)"
   ]
  },
  {
   "cell_type": "code",
   "execution_count": 50,
   "metadata": {
    "scrolled": true
   },
   "outputs": [],
   "source": [
    "#y_pridict"
   ]
  },
  {
   "cell_type": "code",
   "execution_count": 51,
   "metadata": {
    "scrolled": true
   },
   "outputs": [
    {
     "name": "stdout",
     "output_type": "stream",
     "text": [
      "6134/6134 [==============================] - 3s 484us/step\n",
      "The accuracy is:  0.3681121617021178\n"
     ]
    }
   ],
   "source": [
    "score = model.evaluate(X_test, y_test, verbose=1)\n",
    "print('The accuracy is: ', score[1])"
   ]
  },
  {
   "cell_type": "code",
   "execution_count": 52,
   "metadata": {
    "scrolled": true
   },
   "outputs": [
    {
     "name": "stdout",
     "output_type": "stream",
     "text": [
      "2045/2045 [==============================] - 2s 1ms/step\n",
      "The accuracy is:  0.7853300732621937\n"
     ]
    }
   ],
   "source": [
    "score = model.evaluate(X_test2, y_test2, verbose=1)\n",
    "print('The accuracy is: ', score[1])"
   ]
  },
  {
   "cell_type": "code",
   "execution_count": null,
   "metadata": {},
   "outputs": [],
   "source": []
  }
 ],
 "metadata": {
  "kernelspec": {
   "display_name": "Python 3",
   "language": "python",
   "name": "python3"
  },
  "language_info": {
   "codemirror_mode": {
    "name": "ipython",
    "version": 3
   },
   "file_extension": ".py",
   "mimetype": "text/x-python",
   "name": "python",
   "nbconvert_exporter": "python",
   "pygments_lexer": "ipython3",
   "version": "3.7.4"
  }
 },
 "nbformat": 4,
 "nbformat_minor": 2
}
