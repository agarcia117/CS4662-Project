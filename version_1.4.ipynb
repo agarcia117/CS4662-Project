{
 "cells": [
  {
   "cell_type": "markdown",
   "metadata": {},
   "source": [
    "# Dog Breed Prediction\n",
    "## https://www.kaggle.com/c/dog-breed-identification/overview\n",
    "### CS 4662\n",
    "### Spring 2020\n",
    "### Alan Garcia\n",
    "### Ryan Peralta\n"
   ]
  },
  {
   "cell_type": "code",
   "execution_count": 1,
   "metadata": {},
   "outputs": [],
   "source": [
    "import PIL.Image\n",
    "from numpy import asarray\n",
    "from PIL import Image\n",
    "from numpy import fliplr\n",
    "from numpy import flipud\n",
    "\n",
    "import plaidml.keras\n",
    "plaidml.keras.install_backend()\n",
    "\n",
    "#from tensorflow.keras import backend\n",
    "# \"Sequential\" model lets us to define a stack of neural network layers\n",
    "from keras.models import Sequential\n",
    "\n",
    "# import the \"core\" layers:\n",
    "from keras.layers import Dense, Dropout, Activation, Flatten\n",
    "import matplotlib.image as mpimg\n",
    "\n",
    "# CNN\n",
    "from keras.layers import Convolution2D, MaxPooling2D\n",
    "\n",
    "# import some utilities to transform our data\n",
    "from keras.utils import np_utils\n",
    "\n",
    "from sklearn.model_selection import train_test_split\n",
    "\n",
    "import tensorflow as tf\n",
    "import numpy as np\n",
    "import pandas as pd"
   ]
  },
  {
   "cell_type": "code",
   "execution_count": 2,
   "metadata": {},
   "outputs": [
    {
     "data": {
      "text/plain": [
       "'\\nimport os\\ncounter = 0\\nd = d = \"C:/Users/rpera/Desktop/Spring 2020/CS 4662/Project Data/train\"\\nfor path in os.listdir(d):\\n    full_path = os.path.join(d, path)\\n    if os.path.isfile(full_path):\\n        print(full_path)\\n        img = Image.open(full_path)\\n        maxsize = (32, 32)\\n        img = img.resize(maxsize, PIL.Image.ANTIALIAS)\\n        img.save(\\'resized_photos32_RGB/\\'+ str(counter) + \\'.jpg\\')\\n        counter += 1\\n'"
      ]
     },
     "execution_count": 2,
     "metadata": {},
     "output_type": "execute_result"
    }
   ],
   "source": [
    "'''\n",
    "import os\n",
    "counter = 0\n",
    "d = d = \"C:/Users/rpera/Desktop/Spring 2020/CS 4662/Project Data/train\"\n",
    "for path in os.listdir(d):\n",
    "    full_path = os.path.join(d, path)\n",
    "    if os.path.isfile(full_path):\n",
    "        print(full_path)\n",
    "        img = Image.open(full_path)\n",
    "        maxsize = (32, 32)\n",
    "        img = img.resize(maxsize, PIL.Image.ANTIALIAS)\n",
    "        img.save('resized_photos32_RGB/'+ str(counter) + '.jpg')\n",
    "        counter += 1\n",
    "'''"
   ]
  },
  {
   "cell_type": "markdown",
   "metadata": {},
   "source": [
    "#### Adding another image, flipped vertically"
   ]
  },
  {
   "cell_type": "code",
   "execution_count": 3,
   "metadata": {
    "scrolled": true
   },
   "outputs": [],
   "source": [
    "listForX = []\n",
    "listForFlipX = []\n",
    "listForFlipY = []\n",
    "for x in range(0, 10222):\n",
    "    test = mpimg.imread(\"C:/Users/rpera/Desktop/Spring 2020/CS 4662/CS4662-Project/resized_photos32_RGB/\"+str(x)+\".jpg\")\n",
    "    testing = (test.reshape(1, 3072))\n",
    "    testFlip = fliplr(test)\n",
    "    testFlip2 = flipud(test)\n",
    "    \n",
    "    testingFlip = (testFlip.reshape(1, 3072))\n",
    "    testingFlip = (testFlip.reshape(1, 3072))\n",
    "    listForFlipX.append(testingFlip[0])\n",
    "    listForFlipY.append(testingFlip[0])\n",
    "    listForX.append(testing[0])"
   ]
  },
  {
   "cell_type": "code",
   "execution_count": 4,
   "metadata": {},
   "outputs": [
    {
     "data": {
      "text/plain": [
       "array([207, 158,  91, ..., 183, 127,  94], dtype=uint8)"
      ]
     },
     "execution_count": 4,
     "metadata": {},
     "output_type": "execute_result"
    }
   ],
   "source": [
    "listForFlipX[0]"
   ]
  },
  {
   "cell_type": "code",
   "execution_count": 5,
   "metadata": {},
   "outputs": [
    {
     "data": {
      "text/plain": [
       "array([207, 158,  91, ..., 183, 127,  94], dtype=uint8)"
      ]
     },
     "execution_count": 5,
     "metadata": {},
     "output_type": "execute_result"
    }
   ],
   "source": [
    "listForFlipY[0]"
   ]
  },
  {
   "cell_type": "code",
   "execution_count": 6,
   "metadata": {},
   "outputs": [
    {
     "data": {
      "text/plain": [
       "array([151, 141,  69, ..., 169, 105,  80], dtype=uint8)"
      ]
     },
     "execution_count": 6,
     "metadata": {},
     "output_type": "execute_result"
    }
   ],
   "source": [
    "listForX[0]"
   ]
  },
  {
   "cell_type": "code",
   "execution_count": 7,
   "metadata": {},
   "outputs": [],
   "source": [
    "X = np.concatenate((listForX, listForFlipX, listForFlipY), axis=0)"
   ]
  },
  {
   "cell_type": "code",
   "execution_count": 8,
   "metadata": {},
   "outputs": [
    {
     "data": {
      "text/plain": [
       "array([[151, 141,  69, ..., 169, 105,  80],\n",
       "       [ 78,  38,   0, ...,  47,  26,   0],\n",
       "       [101, 103,  89, ..., 115, 111, 108],\n",
       "       ...,\n",
       "       [  0,   2,   1, ..., 230, 244, 253],\n",
       "       [103, 107, 108, ..., 203, 149, 115],\n",
       "       [117, 113, 114, ..., 211, 211, 211]], dtype=uint8)"
      ]
     },
     "execution_count": 8,
     "metadata": {},
     "output_type": "execute_result"
    }
   ],
   "source": [
    "X"
   ]
  },
  {
   "cell_type": "code",
   "execution_count": 9,
   "metadata": {},
   "outputs": [],
   "source": [
    "#df = pd.DataFrame(listForX)"
   ]
  },
  {
   "cell_type": "code",
   "execution_count": 10,
   "metadata": {},
   "outputs": [],
   "source": [
    "#df.values.tolist()"
   ]
  },
  {
   "cell_type": "code",
   "execution_count": 11,
   "metadata": {},
   "outputs": [],
   "source": [
    "#X = np.asarray(listForX).concat(np.asarray(listForFlipX))"
   ]
  },
  {
   "cell_type": "code",
   "execution_count": 12,
   "metadata": {},
   "outputs": [
    {
     "data": {
      "text/plain": [
       "(30666, 3072)"
      ]
     },
     "execution_count": 12,
     "metadata": {},
     "output_type": "execute_result"
    }
   ],
   "source": [
    "X.shape"
   ]
  },
  {
   "cell_type": "code",
   "execution_count": 13,
   "metadata": {},
   "outputs": [],
   "source": [
    "y = pd.read_csv(\"C:/Users/rpera/Desktop/Spring 2020/CS 4662/Project Data/labels.csv\")"
   ]
  },
  {
   "cell_type": "code",
   "execution_count": 14,
   "metadata": {
    "scrolled": true
   },
   "outputs": [],
   "source": [
    "#y"
   ]
  },
  {
   "cell_type": "code",
   "execution_count": 15,
   "metadata": {},
   "outputs": [],
   "source": [
    "y = y.drop(['id'], axis=1)"
   ]
  },
  {
   "cell_type": "code",
   "execution_count": 16,
   "metadata": {},
   "outputs": [],
   "source": [
    "y['breed'] = pd.factorize(y['breed'])[0]"
   ]
  },
  {
   "cell_type": "code",
   "execution_count": 17,
   "metadata": {},
   "outputs": [],
   "source": [
    "#y"
   ]
  },
  {
   "cell_type": "code",
   "execution_count": 18,
   "metadata": {},
   "outputs": [],
   "source": [
    "y = y.breed.tolist() + y.breed.tolist()+ y.breed.tolist()"
   ]
  },
  {
   "cell_type": "code",
   "execution_count": 19,
   "metadata": {},
   "outputs": [
    {
     "data": {
      "text/plain": [
       "30666"
      ]
     },
     "execution_count": 19,
     "metadata": {},
     "output_type": "execute_result"
    }
   ],
   "source": [
    "len(y)"
   ]
  },
  {
   "cell_type": "code",
   "execution_count": 20,
   "metadata": {},
   "outputs": [],
   "source": [
    "#yTest = []\n",
    "#for x in range(0, 1000):\n",
    "   # yTest.append(y[x])\n"
   ]
  },
  {
   "cell_type": "code",
   "execution_count": null,
   "metadata": {},
   "outputs": [],
   "source": []
  },
  {
   "cell_type": "code",
   "execution_count": 21,
   "metadata": {},
   "outputs": [],
   "source": [
    "#y = yTest"
   ]
  },
  {
   "cell_type": "code",
   "execution_count": 22,
   "metadata": {
    "scrolled": true
   },
   "outputs": [],
   "source": [
    "X_train, X_test, y_train, y_test = train_test_split(X, y, test_size=0.20, random_state=2)"
   ]
  },
  {
   "cell_type": "code",
   "execution_count": 23,
   "metadata": {},
   "outputs": [],
   "source": [
    "X_train = X_train.reshape(X_train.shape[0], 32, 32, 3)\n",
    "X_test = X_test.reshape(X_test.shape[0], 32, 32, 3)"
   ]
  },
  {
   "cell_type": "code",
   "execution_count": 24,
   "metadata": {},
   "outputs": [],
   "source": [
    "y_train = np_utils.to_categorical(y_train, 120)\n",
    "y_test = np_utils.to_categorical(y_test, 120)"
   ]
  },
  {
   "cell_type": "code",
   "execution_count": 25,
   "metadata": {
    "scrolled": true
   },
   "outputs": [],
   "source": [
    "X_train = X_train.astype('float32')\n",
    "X_test = X_test.astype('float32')\n",
    "X_train /= 255\n",
    "X_test /= 255"
   ]
  },
  {
   "cell_type": "code",
   "execution_count": 26,
   "metadata": {},
   "outputs": [
    {
     "data": {
      "text/plain": [
       "(24532, 32, 32, 3)"
      ]
     },
     "execution_count": 26,
     "metadata": {},
     "output_type": "execute_result"
    }
   ],
   "source": [
    "X_train.shape"
   ]
  },
  {
   "cell_type": "code",
   "execution_count": 27,
   "metadata": {},
   "outputs": [],
   "source": [
    "model = Sequential()"
   ]
  },
  {
   "cell_type": "code",
   "execution_count": 28,
   "metadata": {},
   "outputs": [
    {
     "name": "stderr",
     "output_type": "stream",
     "text": [
      "INFO:plaidml:Opening device \"opencl_amd_hawaii.0\"\n"
     ]
    },
    {
     "name": "stdout",
     "output_type": "stream",
     "text": [
      "(None, 15, 15, 16)\n"
     ]
    }
   ],
   "source": [
    "model.add(Convolution2D(16, (3, 3), activation='relu', input_shape=(32,32,3)))\n",
    "model.add(MaxPooling2D(pool_size=(2,2)))\n",
    "#model.add(Dropout(0.25)) \n",
    "print(model.output_shape) # -> (None, 26, 26, 32)"
   ]
  },
  {
   "cell_type": "code",
   "execution_count": 29,
   "metadata": {},
   "outputs": [
    {
     "name": "stdout",
     "output_type": "stream",
     "text": [
      "(None, 2, 2, 64)\n"
     ]
    }
   ],
   "source": [
    "# more hidden layers:\n",
    "model.add(Convolution2D(32, (3, 3), activation='relu'))\n",
    "# Pooling Layer:\n",
    "model.add(MaxPooling2D(pool_size=(2,2)))\n",
    "#model.add(Dropout(0.25)) \n",
    "\n",
    "\n",
    "model.add(Convolution2D(64, (3, 3), activation='relu'))\n",
    "model.add(MaxPooling2D(pool_size=(2,2)))\n",
    "print(model.output_shape)\n",
    "\n",
    "# Dropout layer to avoid overfitting\n",
    "model.add(Dropout(0.25)) "
   ]
  },
  {
   "cell_type": "code",
   "execution_count": 30,
   "metadata": {},
   "outputs": [
    {
     "name": "stdout",
     "output_type": "stream",
     "text": [
      "(None, 256)\n",
      "(None, 128)\n",
      "(None, 120)\n"
     ]
    }
   ],
   "source": [
    "# output Fully connected Dense layers:\n",
    "model.add(Flatten())\n",
    "print(model.output_shape)\n",
    "\n",
    "model.add(Dense(128, activation='relu'))\n",
    "print(model.output_shape)\n",
    "\n",
    "model.add(Dropout(0.5))\n",
    "model.add(Dense(120, activation='softmax'))\n",
    "print(model.output_shape)"
   ]
  },
  {
   "cell_type": "code",
   "execution_count": 31,
   "metadata": {},
   "outputs": [],
   "source": [
    "model.compile(loss='categorical_crossentropy',metrics=['accuracy'],\n",
    "              optimizer='adam')"
   ]
  },
  {
   "cell_type": "code",
   "execution_count": 32,
   "metadata": {},
   "outputs": [
    {
     "name": "stdout",
     "output_type": "stream",
     "text": [
      "_________________________________________________________________\n",
      "Layer (type)                 Output Shape              Param #   \n",
      "=================================================================\n",
      "conv2d_1 (Conv2D)            (None, 30, 30, 16)        448       \n",
      "_________________________________________________________________\n",
      "max_pooling2d_1 (MaxPooling2 (None, 15, 15, 16)        0         \n",
      "_________________________________________________________________\n",
      "conv2d_2 (Conv2D)            (None, 13, 13, 32)        4640      \n",
      "_________________________________________________________________\n",
      "max_pooling2d_2 (MaxPooling2 (None, 6, 6, 32)          0         \n",
      "_________________________________________________________________\n",
      "conv2d_3 (Conv2D)            (None, 4, 4, 64)          18496     \n",
      "_________________________________________________________________\n",
      "max_pooling2d_3 (MaxPooling2 (None, 2, 2, 64)          0         \n",
      "_________________________________________________________________\n",
      "dropout_1 (Dropout)          (None, 2, 2, 64)          0         \n",
      "_________________________________________________________________\n",
      "flatten_1 (Flatten)          (None, 256)               0         \n",
      "_________________________________________________________________\n",
      "dense_1 (Dense)              (None, 128)               32896     \n",
      "_________________________________________________________________\n",
      "dropout_2 (Dropout)          (None, 128)               0         \n",
      "_________________________________________________________________\n",
      "dense_2 (Dense)              (None, 120)               15480     \n",
      "=================================================================\n",
      "Total params: 71,960\n",
      "Trainable params: 71,960\n",
      "Non-trainable params: 0\n",
      "_________________________________________________________________\n",
      "None\n"
     ]
    }
   ],
   "source": [
    "print(model.summary())"
   ]
  },
  {
   "cell_type": "code",
   "execution_count": 33,
   "metadata": {},
   "outputs": [
    {
     "data": {
      "text/plain": [
       "(24532, 32, 32, 3)"
      ]
     },
     "execution_count": 33,
     "metadata": {},
     "output_type": "execute_result"
    }
   ],
   "source": [
    "X_train.shape"
   ]
  },
  {
   "cell_type": "code",
   "execution_count": 34,
   "metadata": {},
   "outputs": [
    {
     "data": {
      "text/plain": [
       "(24532, 120)"
      ]
     },
     "execution_count": 34,
     "metadata": {},
     "output_type": "execute_result"
    }
   ],
   "source": [
    "y_train.shape"
   ]
  },
  {
   "cell_type": "code",
   "execution_count": 40,
   "metadata": {
    "scrolled": true
   },
   "outputs": [
    {
     "name": "stdout",
     "output_type": "stream",
     "text": [
      "Train on 22078 samples, validate on 2454 samples\n",
      "Epoch 1/50\n",
      "22078/22078 [==============================] - 5s 229us/step - loss: 3.2715 - acc: 0.1922 - val_loss: 3.3494 - val_acc: 0.1997\n",
      "Epoch 2/50\n",
      "22078/22078 [==============================] - 5s 233us/step - loss: 3.2462 - acc: 0.1976 - val_loss: 3.3448 - val_acc: 0.2058\n",
      "Epoch 3/50\n",
      "22078/22078 [==============================] - 5s 230us/step - loss: 3.2558 - acc: 0.1910 - val_loss: 3.3541 - val_acc: 0.1911\n",
      "Epoch 4/50\n",
      "22078/22078 [==============================] - 5s 230us/step - loss: 3.2388 - acc: 0.1960 - val_loss: 3.3495 - val_acc: 0.2005\n",
      "Epoch 5/50\n",
      "22078/22078 [==============================] - 5s 228us/step - loss: 3.2351 - acc: 0.1966 - val_loss: 3.3321 - val_acc: 0.1932\n",
      "Epoch 6/50\n",
      "22078/22078 [==============================] - 5s 230us/step - loss: 3.2370 - acc: 0.1963 - val_loss: 3.3406 - val_acc: 0.1976\n",
      "Epoch 7/50\n",
      "22078/22078 [==============================] - 5s 228us/step - loss: 3.2083 - acc: 0.2019 - val_loss: 3.3201 - val_acc: 0.2131\n",
      "Epoch 8/50\n",
      "22078/22078 [==============================] - 5s 232us/step - loss: 3.2157 - acc: 0.1997 - val_loss: 3.3110 - val_acc: 0.2168\n",
      "Epoch 9/50\n",
      "22078/22078 [==============================] - 5s 228us/step - loss: 3.2093 - acc: 0.2039 - val_loss: 3.3283 - val_acc: 0.1952\n",
      "Epoch 10/50\n",
      "22078/22078 [==============================] - 5s 232us/step - loss: 3.2089 - acc: 0.2016 - val_loss: 3.3175 - val_acc: 0.2135\n",
      "Epoch 11/50\n",
      "22078/22078 [==============================] - 5s 235us/step - loss: 3.1920 - acc: 0.2062 - val_loss: 3.3024 - val_acc: 0.2078\n",
      "Epoch 12/50\n",
      "22078/22078 [==============================] - 5s 235us/step - loss: 3.2042 - acc: 0.2009 - val_loss: 3.3132 - val_acc: 0.2046\n",
      "Epoch 13/50\n",
      "22078/22078 [==============================] - 5s 232us/step - loss: 3.2021 - acc: 0.2037 - val_loss: 3.3078 - val_acc: 0.2123\n",
      "Epoch 14/50\n",
      "22078/22078 [==============================] - 5s 223us/step - loss: 3.1783 - acc: 0.2098 - val_loss: 3.3057 - val_acc: 0.2111\n",
      "Epoch 15/50\n",
      "22078/22078 [==============================] - 5s 230us/step - loss: 3.1705 - acc: 0.2086 - val_loss: 3.3326 - val_acc: 0.1976\n",
      "Epoch 16/50\n",
      "22078/22078 [==============================] - 5s 231us/step - loss: 3.1624 - acc: 0.2100 - val_loss: 3.3092 - val_acc: 0.2050\n",
      "Epoch 17/50\n",
      "22078/22078 [==============================] - 5s 242us/step - loss: 3.1607 - acc: 0.2116 - val_loss: 3.3044 - val_acc: 0.2119\n",
      "Epoch 18/50\n",
      "22078/22078 [==============================] - 6s 261us/step - loss: 3.1601 - acc: 0.2090 - val_loss: 3.3395 - val_acc: 0.2111\n",
      "Epoch 19/50\n",
      "22078/22078 [==============================] - 5s 245us/step - loss: 3.1635 - acc: 0.2095 - val_loss: 3.2863 - val_acc: 0.2192\n",
      "Epoch 20/50\n",
      "22078/22078 [==============================] - 5s 230us/step - loss: 3.1569 - acc: 0.2124 - val_loss: 3.2933 - val_acc: 0.2217\n",
      "Epoch 21/50\n",
      "22078/22078 [==============================] - 6s 275us/step - loss: 3.1491 - acc: 0.2136 - val_loss: 3.2728 - val_acc: 0.2139\n",
      "Epoch 22/50\n",
      "22078/22078 [==============================] - 5s 246us/step - loss: 3.1473 - acc: 0.2122 - val_loss: 3.3028 - val_acc: 0.2188\n",
      "Epoch 23/50\n",
      "22078/22078 [==============================] - 6s 287us/step - loss: 3.1471 - acc: 0.2106 - val_loss: 3.2884 - val_acc: 0.2225\n",
      "Epoch 24/50\n",
      "22078/22078 [==============================] - 5s 241us/step - loss: 3.1385 - acc: 0.2157 - val_loss: 3.2778 - val_acc: 0.2209\n",
      "Epoch 25/50\n",
      "22078/22078 [==============================] - 5s 230us/step - loss: 3.1416 - acc: 0.2140 - val_loss: 3.2744 - val_acc: 0.2205\n",
      "Epoch 26/50\n",
      "22078/22078 [==============================] - 6s 254us/step - loss: 3.1203 - acc: 0.2182 - val_loss: 3.2662 - val_acc: 0.2278\n",
      "Epoch 27/50\n",
      "22078/22078 [==============================] - 5s 231us/step - loss: 3.1361 - acc: 0.2146 - val_loss: 3.2769 - val_acc: 0.2221\n",
      "Epoch 28/50\n",
      "22078/22078 [==============================] - 5s 232us/step - loss: 3.1293 - acc: 0.2156 - val_loss: 3.2809 - val_acc: 0.2200\n",
      "Epoch 29/50\n",
      "22078/22078 [==============================] - 5s 247us/step - loss: 3.1255 - acc: 0.2157 - val_loss: 3.2710 - val_acc: 0.2306\n",
      "Epoch 30/50\n",
      "22078/22078 [==============================] - 6s 261us/step - loss: 3.1195 - acc: 0.2188 - val_loss: 3.2452 - val_acc: 0.2241\n",
      "Epoch 31/50\n",
      "22078/22078 [==============================] - 6s 271us/step - loss: 3.1055 - acc: 0.2211 - val_loss: 3.2654 - val_acc: 0.2241\n",
      "Epoch 32/50\n",
      "22078/22078 [==============================] - 6s 259us/step - loss: 3.1009 - acc: 0.2211 - val_loss: 3.2659 - val_acc: 0.2298\n",
      "Epoch 33/50\n",
      "22078/22078 [==============================] - 6s 251us/step - loss: 3.1111 - acc: 0.2185 - val_loss: 3.3083 - val_acc: 0.2176\n",
      "Epoch 34/50\n",
      "22078/22078 [==============================] - 6s 252us/step - loss: 3.0841 - acc: 0.2240 - val_loss: 3.2496 - val_acc: 0.2274\n",
      "Epoch 35/50\n",
      "22078/22078 [==============================] - 5s 241us/step - loss: 3.0982 - acc: 0.2226 - val_loss: 3.2728 - val_acc: 0.2221\n",
      "Epoch 36/50\n",
      "22078/22078 [==============================] - 5s 232us/step - loss: 3.0949 - acc: 0.2241 - val_loss: 3.2518 - val_acc: 0.2347\n",
      "Epoch 37/50\n",
      "22078/22078 [==============================] - 5s 243us/step - loss: 3.0778 - acc: 0.2213 - val_loss: 3.2611 - val_acc: 0.2192\n",
      "Epoch 38/50\n",
      "22078/22078 [==============================] - 5s 239us/step - loss: 3.0994 - acc: 0.2215 - val_loss: 3.2510 - val_acc: 0.2266\n",
      "Epoch 39/50\n",
      "22078/22078 [==============================] - 5s 248us/step - loss: 3.0870 - acc: 0.2194 - val_loss: 3.2496 - val_acc: 0.2323\n",
      "Epoch 40/50\n",
      "22078/22078 [==============================] - 6s 260us/step - loss: 3.0741 - acc: 0.2246 - val_loss: 3.2430 - val_acc: 0.2343\n",
      "Epoch 41/50\n",
      "22078/22078 [==============================] - 6s 269us/step - loss: 3.0716 - acc: 0.2191 - val_loss: 3.2561 - val_acc: 0.2233\n",
      "Epoch 42/50\n",
      "22078/22078 [==============================] - 6s 284us/step - loss: 3.0624 - acc: 0.2271 - val_loss: 3.2740 - val_acc: 0.2184\n",
      "Epoch 43/50\n",
      "22078/22078 [==============================] - 6s 264us/step - loss: 3.0773 - acc: 0.2246 - val_loss: 3.2806 - val_acc: 0.2286\n",
      "Epoch 44/50\n",
      "22078/22078 [==============================] - 6s 259us/step - loss: 3.0769 - acc: 0.2259 - val_loss: 3.2652 - val_acc: 0.2270\n",
      "Epoch 45/50\n",
      "22078/22078 [==============================] - 6s 270us/step - loss: 3.0557 - acc: 0.2271 - val_loss: 3.2719 - val_acc: 0.2221\n",
      "Epoch 46/50\n",
      "22078/22078 [==============================] - 7s 323us/step - loss: 3.0549 - acc: 0.2328 - val_loss: 3.2429 - val_acc: 0.2217\n",
      "Epoch 47/50\n",
      "22078/22078 [==============================] - 6s 271us/step - loss: 3.0549 - acc: 0.2286 - val_loss: 3.2297 - val_acc: 0.2335\n",
      "Epoch 48/50\n",
      "22078/22078 [==============================] - 6s 253us/step - loss: 3.0603 - acc: 0.2284 - val_loss: 3.2481 - val_acc: 0.2192\n",
      "Epoch 49/50\n",
      "22078/22078 [==============================] - 6s 265us/step - loss: 3.0414 - acc: 0.2332 - val_loss: 3.2451 - val_acc: 0.2302\n",
      "Epoch 50/50\n",
      "22078/22078 [==============================] - 6s 260us/step - loss: 3.0575 - acc: 0.2337 - val_loss: 3.2526 - val_acc: 0.2229\n"
     ]
    }
   ],
   "source": [
    "from keras.callbacks import EarlyStopping\n",
    "\n",
    "fitted_model = model.fit(X_train, y_train, validation_split=0.1, batch_size=64, epochs=50, shuffle=True, verbose=1)"
   ]
  },
  {
   "cell_type": "code",
   "execution_count": 41,
   "metadata": {},
   "outputs": [
    {
     "data": {
      "text/plain": [
       "<matplotlib.legend.Legend at 0x1d3ca515c88>"
      ]
     },
     "execution_count": 41,
     "metadata": {},
     "output_type": "execute_result"
    },
    {
     "data": {
      "image/png": "[encoded data removed]",
      "text/plain": [
       "<Figure size 432x288 with 1 Axes>"
      ]
     },
     "metadata": {
      "needs_background": "light"
     },
     "output_type": "display_data"
    },
    {
     "data": {
      "image/png": "[encoded data removed]",
      "text/plain": [
       "<Figure size 432x288 with 1 Axes>"
      ]
     },
     "metadata": {
      "needs_background": "light"
     },
     "output_type": "display_data"
    }
   ],
   "source": [
    "import matplotlib.pyplot as plt\n",
    "\n",
    "%matplotlib inline\n",
    "\n",
    "accuracy = fitted_model.history['acc']\n",
    "#val_accuracy = history.history['val_acc']\n",
    "loss = fitted_model.history['loss']\n",
    "#val_loss = history.history['val_loss']\n",
    "epochs = range(len(accuracy))\n",
    "plt.plot(epochs, accuracy, 'b-', label='Training accuracy')\n",
    "#plt.plot(epochs, val_accuracy, 'b', label='Validation accuracy')\n",
    "plt.title('Training and validation accuracy')\n",
    "plt.legend()\n",
    "plt.figure()\n",
    "plt.plot(epochs, loss, 'r-', label='Training loss')\n",
    "#plt.plot(epochs, val_loss, 'b', label='Validation loss')\n",
    "plt.title('Training and validation loss')\n",
    "plt.legend()\n",
    "# plt.show()"
   ]
  },
  {
   "cell_type": "code",
   "execution_count": 42,
   "metadata": {
    "scrolled": false
   },
   "outputs": [
    {
     "name": "stdout",
     "output_type": "stream",
     "text": [
      "6134/6134 [==============================] - 1s 110us/step\n",
      "(6134, 120)\n"
     ]
    }
   ],
   "source": [
    "y_pridict = model.predict(X_test, verbose=1)\n",
    "print (y_pridict.shape)"
   ]
  },
  {
   "cell_type": "code",
   "execution_count": 43,
   "metadata": {
    "scrolled": true
   },
   "outputs": [],
   "source": [
    "#y_pridict"
   ]
  },
  {
   "cell_type": "code",
   "execution_count": 44,
   "metadata": {},
   "outputs": [
    {
     "name": "stdout",
     "output_type": "stream",
     "text": [
      "6134/6134 [==============================] - 1s 159us/step\n",
      "The accuracy is:  0.2314965764785147\n"
     ]
    }
   ],
   "source": [
    "score = model.evaluate(X_test, y_test, verbose=1)\n",
    "print('The accuracy is: ', score[1])"
   ]
  },
  {
   "cell_type": "code",
   "execution_count": null,
   "metadata": {},
   "outputs": [],
   "source": []
  }
 ],
 "metadata": {
  "kernelspec": {
   "display_name": "Python 3",
   "language": "python",
   "name": "python3"
  },
  "language_info": {
   "codemirror_mode": {
    "name": "ipython",
    "version": 3
   },
   "file_extension": ".py",
   "mimetype": "text/x-python",
   "name": "python",
   "nbconvert_exporter": "python",
   "pygments_lexer": "ipython3",
   "version": "3.7.4"
  }
 },
 "nbformat": 4,
 "nbformat_minor": 2
}
