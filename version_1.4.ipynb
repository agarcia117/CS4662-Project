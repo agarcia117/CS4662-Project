{
 "cells": [
  {
   "cell_type": "markdown",
   "metadata": {},
   "source": [
    "# Dog Breed Prediction\n",
    "## https://www.kaggle.com/c/dog-breed-identification/overview\n",
    "### CS 4662\n",
    "### Spring 2020\n",
    "### Alan Garcia\n",
    "### Ryan Peralta\n"
   ]
  },
  {
   "cell_type": "code",
   "execution_count": 1,
   "metadata": {},
   "outputs": [],
   "source": [
    "import PIL.Image\n",
    "from numpy import asarray\n",
    "from PIL import Image\n",
    "from numpy import fliplr\n",
    "from numpy import flipud\n",
    "\n",
    "import plaidml.keras\n",
    "plaidml.keras.install_backend()\n",
    "\n",
    "#from tensorflow.keras import backend\n",
    "# \"Sequential\" model lets us to define a stack of neural network layers\n",
    "from keras.models import Sequential\n",
    "\n",
    "# import the \"core\" layers:\n",
    "from keras.layers import Dense, Dropout, Activation, Flatten\n",
    "import matplotlib.image as mpimg\n",
    "\n",
    "# CNN\n",
    "from keras.layers import Convolution2D, MaxPooling2D\n",
    "\n",
    "# import some utilities to transform our data\n",
    "from keras.utils import np_utils\n",
    "\n",
    "from sklearn.model_selection import train_test_split\n",
    "\n",
    "import tensorflow as tf\n",
    "import numpy as np\n",
    "import pandas as pd"
   ]
  },
  {
   "cell_type": "code",
   "execution_count": 2,
   "metadata": {},
   "outputs": [
    {
     "data": {
      "text/plain": [
       "'\\nimport os\\ncounter = 0\\nd = d = \"C:/Users/rpera/Desktop/Spring 2020/CS 4662/Project Data/train\"\\nfor path in os.listdir(d):\\n    full_path = os.path.join(d, path)\\n    if os.path.isfile(full_path):\\n        print(full_path)\\n        img = Image.open(full_path)\\n        maxsize = (32, 32)\\n        img = img.resize(maxsize, PIL.Image.ANTIALIAS)\\n        img.save(\\'resized_photos32_RGB/\\'+ str(counter) + \\'.jpg\\')\\n        counter += 1\\n'"
      ]
     },
     "execution_count": 2,
     "metadata": {},
     "output_type": "execute_result"
    }
   ],
   "source": [
    "'''\n",
    "import os\n",
    "counter = 0\n",
    "d = d = \"C:/Users/rpera/Desktop/Spring 2020/CS 4662/Project Data/train\"\n",
    "for path in os.listdir(d):\n",
    "    full_path = os.path.join(d, path)\n",
    "    if os.path.isfile(full_path):\n",
    "        print(full_path)\n",
    "        img = Image.open(full_path)\n",
    "        maxsize = (32, 32)\n",
    "        img = img.resize(maxsize, PIL.Image.ANTIALIAS)\n",
    "        img.save('resized_photos32_RGB/'+ str(counter) + '.jpg')\n",
    "        counter += 1\n",
    "'''"
   ]
  },
  {
   "cell_type": "markdown",
   "metadata": {},
   "source": [
    "#### Adding another image, flipped vertically"
   ]
  },
  {
   "cell_type": "code",
   "execution_count": 3,
   "metadata": {
    "scrolled": true
   },
   "outputs": [],
   "source": [
    "listForX = []\n",
    "listForFlipX = []\n",
    "listForFlipY = []\n",
    "for x in range(0, 10222):\n",
    "    test = mpimg.imread(\"C:/Users/rpera/Desktop/Spring 2020/CS 4662/CS4662-Project/resized_photos32_RGB/\"+str(x)+\".jpg\")\n",
    "    testing = (test.reshape(1, 3072))\n",
    "    testFlip = fliplr(test)\n",
    "    testFlip2 = flipud(test)\n",
    "    \n",
    "    testingFlip = (testFlip.reshape(1, 3072))\n",
    "    testingFlip2 = (testFlip2.reshape(1, 3072))\n",
    "    listForFlipX.append(testingFlip[0])\n",
    "    listForFlipY.append(testingFlip2[0])\n",
    "    listForX.append(testing[0])"
   ]
  },
  {
   "cell_type": "code",
   "execution_count": 4,
   "metadata": {},
   "outputs": [
    {
     "data": {
      "text/plain": [
       "array([207, 158,  91, ..., 183, 127,  94], dtype=uint8)"
      ]
     },
     "execution_count": 4,
     "metadata": {},
     "output_type": "execute_result"
    }
   ],
   "source": [
    "listForFlipX[0]"
   ]
  },
  {
   "cell_type": "code",
   "execution_count": 5,
   "metadata": {},
   "outputs": [
    {
     "data": {
      "text/plain": [
       "array([183, 127,  94, ..., 207, 158,  91], dtype=uint8)"
      ]
     },
     "execution_count": 5,
     "metadata": {},
     "output_type": "execute_result"
    }
   ],
   "source": [
    "listForFlipY[0]"
   ]
  },
  {
   "cell_type": "code",
   "execution_count": 6,
   "metadata": {},
   "outputs": [
    {
     "data": {
      "text/plain": [
       "array([151, 141,  69, ..., 169, 105,  80], dtype=uint8)"
      ]
     },
     "execution_count": 6,
     "metadata": {},
     "output_type": "execute_result"
    }
   ],
   "source": [
    "listForX[0]"
   ]
  },
  {
   "cell_type": "code",
   "execution_count": 7,
   "metadata": {},
   "outputs": [],
   "source": [
    "X = np.concatenate((listForX, listForFlipX, listForFlipY), axis=0)"
   ]
  },
  {
   "cell_type": "code",
   "execution_count": 8,
   "metadata": {},
   "outputs": [
    {
     "data": {
      "text/plain": [
       "array([[151, 141,  69, ..., 169, 105,  80],\n",
       "       [ 78,  38,   0, ...,  47,  26,   0],\n",
       "       [101, 103,  89, ..., 115, 111, 108],\n",
       "       ...,\n",
       "       [230, 244, 253, ...,   0,   2,   1],\n",
       "       [203, 149, 115, ..., 103, 107, 108],\n",
       "       [211, 211, 211, ..., 117, 113, 114]], dtype=uint8)"
      ]
     },
     "execution_count": 8,
     "metadata": {},
     "output_type": "execute_result"
    }
   ],
   "source": [
    "X"
   ]
  },
  {
   "cell_type": "code",
   "execution_count": 9,
   "metadata": {},
   "outputs": [],
   "source": [
    "#df = pd.DataFrame(listForX)"
   ]
  },
  {
   "cell_type": "code",
   "execution_count": 10,
   "metadata": {},
   "outputs": [],
   "source": [
    "#df.values.tolist()"
   ]
  },
  {
   "cell_type": "code",
   "execution_count": 11,
   "metadata": {},
   "outputs": [],
   "source": [
    "#X = np.asarray(listForX).concat(np.asarray(listForFlipX))"
   ]
  },
  {
   "cell_type": "code",
   "execution_count": 12,
   "metadata": {},
   "outputs": [
    {
     "data": {
      "text/plain": [
       "(30666, 3072)"
      ]
     },
     "execution_count": 12,
     "metadata": {},
     "output_type": "execute_result"
    }
   ],
   "source": [
    "X.shape"
   ]
  },
  {
   "cell_type": "code",
   "execution_count": 13,
   "metadata": {},
   "outputs": [],
   "source": [
    "y = pd.read_csv(\"C:/Users/rpera/Desktop/Spring 2020/CS 4662/Project Data/labels.csv\")"
   ]
  },
  {
   "cell_type": "code",
   "execution_count": 14,
   "metadata": {
    "scrolled": true
   },
   "outputs": [],
   "source": [
    "#y"
   ]
  },
  {
   "cell_type": "code",
   "execution_count": 15,
   "metadata": {},
   "outputs": [],
   "source": [
    "y = y.drop(['id'], axis=1)"
   ]
  },
  {
   "cell_type": "code",
   "execution_count": 16,
   "metadata": {},
   "outputs": [],
   "source": [
    "y['breed'] = pd.factorize(y['breed'])[0]"
   ]
  },
  {
   "cell_type": "code",
   "execution_count": 17,
   "metadata": {},
   "outputs": [],
   "source": [
    "#y"
   ]
  },
  {
   "cell_type": "code",
   "execution_count": 18,
   "metadata": {},
   "outputs": [],
   "source": [
    "y = y.breed.tolist() + y.breed.tolist()+ y.breed.tolist()"
   ]
  },
  {
   "cell_type": "code",
   "execution_count": 19,
   "metadata": {},
   "outputs": [
    {
     "data": {
      "text/plain": [
       "30666"
      ]
     },
     "execution_count": 19,
     "metadata": {},
     "output_type": "execute_result"
    }
   ],
   "source": [
    "len(y)"
   ]
  },
  {
   "cell_type": "code",
   "execution_count": 20,
   "metadata": {},
   "outputs": [],
   "source": [
    "#yTest = []\n",
    "#for x in range(0, 1000):\n",
    "   # yTest.append(y[x])\n"
   ]
  },
  {
   "cell_type": "code",
   "execution_count": null,
   "metadata": {},
   "outputs": [],
   "source": []
  },
  {
   "cell_type": "code",
   "execution_count": 21,
   "metadata": {},
   "outputs": [],
   "source": [
    "#y = yTest"
   ]
  },
  {
   "cell_type": "code",
   "execution_count": 22,
   "metadata": {
    "scrolled": true
   },
   "outputs": [],
   "source": [
    "X_train, X_test, y_train, y_test = train_test_split(X, y, test_size=0.20, random_state=2)"
   ]
  },
  {
   "cell_type": "code",
   "execution_count": 23,
   "metadata": {},
   "outputs": [],
   "source": [
    "X_train = X_train.reshape(X_train.shape[0], 32, 32, 3)\n",
    "X_test = X_test.reshape(X_test.shape[0], 32, 32, 3)"
   ]
  },
  {
   "cell_type": "code",
   "execution_count": 24,
   "metadata": {},
   "outputs": [],
   "source": [
    "y_train = np_utils.to_categorical(y_train, 120)\n",
    "y_test = np_utils.to_categorical(y_test, 120)"
   ]
  },
  {
   "cell_type": "code",
   "execution_count": 25,
   "metadata": {
    "scrolled": true
   },
   "outputs": [],
   "source": [
    "X_train = X_train.astype('float32')\n",
    "X_test = X_test.astype('float32')\n",
    "X_train /= 255\n",
    "X_test /= 255"
   ]
  },
  {
   "cell_type": "code",
   "execution_count": 26,
   "metadata": {},
   "outputs": [
    {
     "data": {
      "text/plain": [
       "(24532, 32, 32, 3)"
      ]
     },
     "execution_count": 26,
     "metadata": {},
     "output_type": "execute_result"
    }
   ],
   "source": [
    "X_train.shape"
   ]
  },
  {
   "cell_type": "code",
   "execution_count": 27,
   "metadata": {},
   "outputs": [],
   "source": [
    "model = Sequential()"
   ]
  },
  {
   "cell_type": "code",
   "execution_count": 28,
   "metadata": {},
   "outputs": [
    {
     "name": "stderr",
     "output_type": "stream",
     "text": [
      "INFO:plaidml:Opening device \"opencl_amd_hawaii.0\"\n"
     ]
    },
    {
     "name": "stdout",
     "output_type": "stream",
     "text": [
      "(None, 15, 15, 16)\n"
     ]
    }
   ],
   "source": [
    "model.add(Convolution2D(16, (3, 3), activation='relu', input_shape=(32,32,3)))\n",
    "model.add(MaxPooling2D(pool_size=(2,2)))\n",
    "#model.add(Dropout(0.25)) \n",
    "print(model.output_shape) # -> (None, 26, 26, 32)"
   ]
  },
  {
   "cell_type": "code",
   "execution_count": 29,
   "metadata": {},
   "outputs": [
    {
     "name": "stdout",
     "output_type": "stream",
     "text": [
      "(None, 2, 2, 64)\n"
     ]
    }
   ],
   "source": [
    "# more hidden layers:\n",
    "model.add(Convolution2D(32, (3, 3), activation='relu'))\n",
    "# Pooling Layer:\n",
    "model.add(MaxPooling2D(pool_size=(2,2)))\n",
    "#model.add(Dropout(0.25)) \n",
    "\n",
    "\n",
    "model.add(Convolution2D(64, (3, 3), activation='relu'))\n",
    "model.add(MaxPooling2D(pool_size=(2,2)))\n",
    "print(model.output_shape)\n",
    "\n",
    "# Dropout layer to avoid overfitting\n",
    "model.add(Dropout(0.25)) "
   ]
  },
  {
   "cell_type": "code",
   "execution_count": 30,
   "metadata": {},
   "outputs": [
    {
     "name": "stdout",
     "output_type": "stream",
     "text": [
      "(None, 256)\n",
      "(None, 128)\n",
      "(None, 120)\n"
     ]
    }
   ],
   "source": [
    "# output Fully connected Dense layers:\n",
    "model.add(Flatten())\n",
    "print(model.output_shape)\n",
    "\n",
    "model.add(Dense(128, activation='relu'))\n",
    "print(model.output_shape)\n",
    "\n",
    "model.add(Dropout(0.5))\n",
    "model.add(Dense(120, activation='softmax'))\n",
    "print(model.output_shape)"
   ]
  },
  {
   "cell_type": "code",
   "execution_count": 31,
   "metadata": {},
   "outputs": [],
   "source": [
    "model.compile(loss='categorical_crossentropy',metrics=['accuracy'],\n",
    "              optimizer='adam')"
   ]
  },
  {
   "cell_type": "code",
   "execution_count": 32,
   "metadata": {},
   "outputs": [
    {
     "name": "stdout",
     "output_type": "stream",
     "text": [
      "_________________________________________________________________\n",
      "Layer (type)                 Output Shape              Param #   \n",
      "=================================================================\n",
      "conv2d_1 (Conv2D)            (None, 30, 30, 16)        448       \n",
      "_________________________________________________________________\n",
      "max_pooling2d_1 (MaxPooling2 (None, 15, 15, 16)        0         \n",
      "_________________________________________________________________\n",
      "conv2d_2 (Conv2D)            (None, 13, 13, 32)        4640      \n",
      "_________________________________________________________________\n",
      "max_pooling2d_2 (MaxPooling2 (None, 6, 6, 32)          0         \n",
      "_________________________________________________________________\n",
      "conv2d_3 (Conv2D)            (None, 4, 4, 64)          18496     \n",
      "_________________________________________________________________\n",
      "max_pooling2d_3 (MaxPooling2 (None, 2, 2, 64)          0         \n",
      "_________________________________________________________________\n",
      "dropout_1 (Dropout)          (None, 2, 2, 64)          0         \n",
      "_________________________________________________________________\n",
      "flatten_1 (Flatten)          (None, 256)               0         \n",
      "_________________________________________________________________\n",
      "dense_1 (Dense)              (None, 128)               32896     \n",
      "_________________________________________________________________\n",
      "dropout_2 (Dropout)          (None, 128)               0         \n",
      "_________________________________________________________________\n",
      "dense_2 (Dense)              (None, 120)               15480     \n",
      "=================================================================\n",
      "Total params: 71,960\n",
      "Trainable params: 71,960\n",
      "Non-trainable params: 0\n",
      "_________________________________________________________________\n",
      "None\n"
     ]
    }
   ],
   "source": [
    "print(model.summary())"
   ]
  },
  {
   "cell_type": "code",
   "execution_count": 33,
   "metadata": {},
   "outputs": [
    {
     "data": {
      "text/plain": [
       "(24532, 32, 32, 3)"
      ]
     },
     "execution_count": 33,
     "metadata": {},
     "output_type": "execute_result"
    }
   ],
   "source": [
    "X_train.shape"
   ]
  },
  {
   "cell_type": "code",
   "execution_count": 34,
   "metadata": {},
   "outputs": [
    {
     "data": {
      "text/plain": [
       "(24532, 120)"
      ]
     },
     "execution_count": 34,
     "metadata": {},
     "output_type": "execute_result"
    }
   ],
   "source": [
    "y_train.shape"
   ]
  },
  {
   "cell_type": "code",
   "execution_count": 40,
   "metadata": {
    "scrolled": true
   },
   "outputs": [
    {
     "name": "stdout",
     "output_type": "stream",
     "text": [
      "Train on 22078 samples, validate on 2454 samples\n",
      "Epoch 1/50\n",
      "22078/22078 [==============================] - 6s 267us/step - loss: 3.5442 - acc: 0.1462 - val_loss: 3.8402 - val_acc: 0.1202\n",
      "Epoch 2/50\n",
      "22078/22078 [==============================] - 5s 245us/step - loss: 3.5388 - acc: 0.1460 - val_loss: 3.8360 - val_acc: 0.1218\n",
      "Epoch 3/50\n",
      "22078/22078 [==============================] - 6s 286us/step - loss: 3.5451 - acc: 0.1458 - val_loss: 3.8475 - val_acc: 0.1206\n",
      "Epoch 4/50\n",
      "22078/22078 [==============================] - 8s 341us/step - loss: 3.5225 - acc: 0.1517 - val_loss: 3.8515 - val_acc: 0.1137\n",
      "Epoch 5/50\n",
      "22078/22078 [==============================] - 6s 287us/step - loss: 3.5211 - acc: 0.1509 - val_loss: 3.8514 - val_acc: 0.1182\n",
      "Epoch 6/50\n",
      "22078/22078 [==============================] - 6s 271us/step - loss: 3.5037 - acc: 0.1562 - val_loss: 3.8739 - val_acc: 0.1145\n",
      "Epoch 7/50\n",
      "22078/22078 [==============================] - 6s 253us/step - loss: 3.4961 - acc: 0.1494 - val_loss: 3.8499 - val_acc: 0.1198\n",
      "Epoch 8/50\n",
      "22078/22078 [==============================] - 6s 285us/step - loss: 3.5081 - acc: 0.1520 - val_loss: 3.8639 - val_acc: 0.1165\n",
      "Epoch 9/50\n",
      "22078/22078 [==============================] - 5s 244us/step - loss: 3.4956 - acc: 0.1507 - val_loss: 3.8493 - val_acc: 0.1182\n",
      "Epoch 10/50\n",
      "22078/22078 [==============================] - 5s 249us/step - loss: 3.4954 - acc: 0.1511 - val_loss: 3.8518 - val_acc: 0.1190\n",
      "Epoch 11/50\n",
      "22078/22078 [==============================] - 5s 242us/step - loss: 3.4779 - acc: 0.1541 - val_loss: 3.8318 - val_acc: 0.1186\n",
      "Epoch 12/50\n",
      "22078/22078 [==============================] - 5s 241us/step - loss: 3.4758 - acc: 0.1558 - val_loss: 3.8515 - val_acc: 0.1239\n",
      "Epoch 13/50\n",
      "22078/22078 [==============================] - 5s 237us/step - loss: 3.4709 - acc: 0.1545 - val_loss: 3.8663 - val_acc: 0.1145\n",
      "Epoch 14/50\n",
      "22078/22078 [==============================] - 5s 240us/step - loss: 3.4698 - acc: 0.1548 - val_loss: 3.8637 - val_acc: 0.1170\n",
      "Epoch 15/50\n",
      "22078/22078 [==============================] - 5s 247us/step - loss: 3.4688 - acc: 0.1568 - val_loss: 3.8596 - val_acc: 0.1178\n",
      "Epoch 16/50\n",
      "22078/22078 [==============================] - 5s 242us/step - loss: 3.4625 - acc: 0.1558 - val_loss: 3.8633 - val_acc: 0.1121\n",
      "Epoch 17/50\n",
      "22078/22078 [==============================] - 5s 239us/step - loss: 3.4566 - acc: 0.1594 - val_loss: 3.8637 - val_acc: 0.1186\n",
      "Epoch 18/50\n",
      "22078/22078 [==============================] - 5s 240us/step - loss: 3.4567 - acc: 0.1595 - val_loss: 3.8660 - val_acc: 0.1170\n",
      "Epoch 19/50\n",
      "22078/22078 [==============================] - 5s 239us/step - loss: 3.4494 - acc: 0.1604 - val_loss: 3.8676 - val_acc: 0.1157\n",
      "Epoch 20/50\n",
      "22078/22078 [==============================] - 5s 238us/step - loss: 3.4477 - acc: 0.1576 - val_loss: 3.8533 - val_acc: 0.1149\n",
      "Epoch 21/50\n",
      "22078/22078 [==============================] - 5s 240us/step - loss: 3.4373 - acc: 0.1571 - val_loss: 3.8718 - val_acc: 0.1149\n",
      "Epoch 22/50\n",
      "22078/22078 [==============================] - 5s 239us/step - loss: 3.4364 - acc: 0.1597 - val_loss: 3.8725 - val_acc: 0.1145\n",
      "Epoch 23/50\n",
      "22078/22078 [==============================] - 5s 241us/step - loss: 3.4266 - acc: 0.1652 - val_loss: 3.8842 - val_acc: 0.1149\n",
      "Epoch 24/50\n",
      "22078/22078 [==============================] - 5s 238us/step - loss: 3.4310 - acc: 0.1608 - val_loss: 3.8830 - val_acc: 0.1129\n",
      "Epoch 25/50\n",
      "22078/22078 [==============================] - 5s 239us/step - loss: 3.4295 - acc: 0.1631 - val_loss: 3.8647 - val_acc: 0.1170\n",
      "Epoch 26/50\n",
      "22078/22078 [==============================] - 5s 238us/step - loss: 3.4118 - acc: 0.1634 - val_loss: 3.8673 - val_acc: 0.1141\n",
      "Epoch 27/50\n",
      "22078/22078 [==============================] - 5s 239us/step - loss: 3.4079 - acc: 0.1654 - val_loss: 3.8659 - val_acc: 0.1129\n",
      "Epoch 28/50\n",
      "22078/22078 [==============================] - 5s 238us/step - loss: 3.4125 - acc: 0.1662 - val_loss: 3.8598 - val_acc: 0.1186\n",
      "Epoch 29/50\n",
      "22078/22078 [==============================] - 5s 240us/step - loss: 3.4102 - acc: 0.1661 - val_loss: 3.8660 - val_acc: 0.1182\n",
      "Epoch 30/50\n",
      "22078/22078 [==============================] - 5s 237us/step - loss: 3.4072 - acc: 0.1668 - val_loss: 3.8846 - val_acc: 0.1137\n",
      "Epoch 31/50\n",
      "22078/22078 [==============================] - 5s 237us/step - loss: 3.4083 - acc: 0.1688 - val_loss: 3.8925 - val_acc: 0.1121\n",
      "Epoch 32/50\n",
      "22078/22078 [==============================] - 5s 235us/step - loss: 3.4047 - acc: 0.1682 - val_loss: 3.8813 - val_acc: 0.1153\n",
      "Epoch 33/50\n",
      "22078/22078 [==============================] - 6s 258us/step - loss: 3.3903 - acc: 0.1697 - val_loss: 3.8807 - val_acc: 0.1108\n",
      "Epoch 34/50\n",
      "22078/22078 [==============================] - 5s 245us/step - loss: 3.3880 - acc: 0.1650 - val_loss: 3.8979 - val_acc: 0.1076\n",
      "Epoch 35/50\n",
      "22078/22078 [==============================] - 5s 245us/step - loss: 3.3813 - acc: 0.1678 - val_loss: 3.8962 - val_acc: 0.1112\n",
      "Epoch 36/50\n",
      "22078/22078 [==============================] - 6s 258us/step - loss: 3.3962 - acc: 0.1656 - val_loss: 3.8786 - val_acc: 0.1100\n",
      "Epoch 37/50\n",
      "22078/22078 [==============================] - 6s 254us/step - loss: 3.3885 - acc: 0.1703 - val_loss: 3.8850 - val_acc: 0.1112\n",
      "Epoch 38/50\n",
      "22078/22078 [==============================] - 6s 251us/step - loss: 3.3817 - acc: 0.1678 - val_loss: 3.9018 - val_acc: 0.1092\n",
      "Epoch 39/50\n",
      "22078/22078 [==============================] - 6s 255us/step - loss: 3.3731 - acc: 0.1692 - val_loss: 3.8840 - val_acc: 0.1157\n",
      "Epoch 40/50\n",
      "22078/22078 [==============================] - 6s 255us/step - loss: 3.3652 - acc: 0.1718 - val_loss: 3.8770 - val_acc: 0.1117\n",
      "Epoch 41/50\n",
      "22078/22078 [==============================] - 6s 250us/step - loss: 3.3667 - acc: 0.1720 - val_loss: 3.8932 - val_acc: 0.1096\n",
      "Epoch 42/50\n",
      "22078/22078 [==============================] - 6s 255us/step - loss: 3.3597 - acc: 0.1715 - val_loss: 3.8737 - val_acc: 0.1161\n",
      "Epoch 43/50\n",
      "22078/22078 [==============================] - 5s 235us/step - loss: 3.3675 - acc: 0.1665 - val_loss: 3.9069 - val_acc: 0.1157\n",
      "Epoch 44/50\n",
      "22078/22078 [==============================] - 5s 246us/step - loss: 3.3628 - acc: 0.1715 - val_loss: 3.8880 - val_acc: 0.1051\n",
      "Epoch 45/50\n",
      "22078/22078 [==============================] - 5s 244us/step - loss: 3.3612 - acc: 0.1704 - val_loss: 3.8992 - val_acc: 0.1141\n",
      "Epoch 46/50\n",
      "22078/22078 [==============================] - 5s 245us/step - loss: 3.3585 - acc: 0.1764 - val_loss: 3.9058 - val_acc: 0.1153\n",
      "Epoch 47/50\n",
      "22078/22078 [==============================] - 5s 239us/step - loss: 3.3581 - acc: 0.1693 - val_loss: 3.9311 - val_acc: 0.1088\n",
      "Epoch 48/50\n",
      "22078/22078 [==============================] - 5s 249us/step - loss: 3.3570 - acc: 0.1735 - val_loss: 3.8935 - val_acc: 0.1145\n",
      "Epoch 49/50\n",
      "22078/22078 [==============================] - 5s 243us/step - loss: 3.3625 - acc: 0.1701 - val_loss: 3.9018 - val_acc: 0.1121\n",
      "Epoch 50/50\n",
      "22078/22078 [==============================] - 6s 257us/step - loss: 3.3464 - acc: 0.1752 - val_loss: 3.8928 - val_acc: 0.1084\n"
     ]
    }
   ],
   "source": [
    "from keras.callbacks import EarlyStopping\n",
    "\n",
    "fitted_model = model.fit(X_train, y_train, validation_split=0.1, batch_size=64, epochs=50, shuffle=True, verbose=1)"
   ]
  },
  {
   "cell_type": "code",
   "execution_count": 41,
   "metadata": {},
   "outputs": [
    {
     "data": {
      "text/plain": [
       "<matplotlib.legend.Legend at 0x1fa68b44e08>"
      ]
     },
     "execution_count": 41,
     "metadata": {},
     "output_type": "execute_result"
    },
    {
     "data": {
      "image/png": "[encoded data removed]",
      "text/plain": [
       "<Figure size 432x288 with 1 Axes>"
      ]
     },
     "metadata": {
      "needs_background": "light"
     },
     "output_type": "display_data"
    },
    {
     "data": {
      "image/png": "[encoded data removed]",
      "text/plain": [
       "<Figure size 432x288 with 1 Axes>"
      ]
     },
     "metadata": {
      "needs_background": "light"
     },
     "output_type": "display_data"
    }
   ],
   "source": [
    "import matplotlib.pyplot as plt\n",
    "\n",
    "%matplotlib inline\n",
    "\n",
    "accuracy = fitted_model.history['acc']\n",
    "#val_accuracy = history.history['val_acc']\n",
    "loss = fitted_model.history['loss']\n",
    "#val_loss = history.history['val_loss']\n",
    "epochs = range(len(accuracy))\n",
    "plt.plot(epochs, accuracy, 'b-', label='Training accuracy')\n",
    "#plt.plot(epochs, val_accuracy, 'b', label='Validation accuracy')\n",
    "plt.title('Training and validation accuracy')\n",
    "plt.legend()\n",
    "plt.figure()\n",
    "plt.plot(epochs, loss, 'r-', label='Training loss')\n",
    "#plt.plot(epochs, val_loss, 'b', label='Validation loss')\n",
    "plt.title('Training and validation loss')\n",
    "plt.legend()\n",
    "# plt.show()"
   ]
  },
  {
   "cell_type": "code",
   "execution_count": 42,
   "metadata": {
    "scrolled": false
   },
   "outputs": [
    {
     "name": "stdout",
     "output_type": "stream",
     "text": [
      "6134/6134 [==============================] - 1s 101us/step\n",
      "(6134, 120)\n"
     ]
    }
   ],
   "source": [
    "y_pridict = model.predict(X_test, verbose=1)\n",
    "print (y_pridict.shape)"
   ]
  },
  {
   "cell_type": "code",
   "execution_count": 43,
   "metadata": {
    "scrolled": true
   },
   "outputs": [],
   "source": [
    "#y_pridict"
   ]
  },
  {
   "cell_type": "code",
   "execution_count": 44,
   "metadata": {},
   "outputs": [
    {
     "name": "stdout",
     "output_type": "stream",
     "text": [
      "6134/6134 [==============================] - 1s 158us/step\n",
      "The accuracy is:  0.11851972612644354\n"
     ]
    }
   ],
   "source": [
    "score = model.evaluate(X_test, y_test, verbose=1)\n",
    "print('The accuracy is: ', score[1])"
   ]
  },
  {
   "cell_type": "code",
   "execution_count": null,
   "metadata": {},
   "outputs": [],
   "source": []
  }
 ],
 "metadata": {
  "kernelspec": {
   "display_name": "Python 3",
   "language": "python",
   "name": "python3"
  },
  "language_info": {
   "codemirror_mode": {
    "name": "ipython",
    "version": 3
   },
   "file_extension": ".py",
   "mimetype": "text/x-python",
   "name": "python",
   "nbconvert_exporter": "python",
   "pygments_lexer": "ipython3",
   "version": "3.7.4"
  }
 },
 "nbformat": 4,
 "nbformat_minor": 2
}
