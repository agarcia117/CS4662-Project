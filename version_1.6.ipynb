{
 "cells": [
  {
   "cell_type": "markdown",
   "metadata": {},
   "source": [
    "# Dog Breed Prediction\n",
    "## https://www.kaggle.com/c/dog-breed-identification/overview\n",
    "### CS 4662\n",
    "### Spring 2020\n",
    "### Alan Garcia\n",
    "### Ryan Peralta\n"
   ]
  },
  {
   "cell_type": "code",
   "execution_count": 1,
   "metadata": {},
   "outputs": [],
   "source": [
    "import PIL.Image\n",
    "from numpy import asarray\n",
    "from PIL import Image\n",
    "from numpy import fliplr\n",
    "from numpy import flipud\n",
    "\n",
    "import plaidml.keras\n",
    "plaidml.keras.install_backend()\n",
    "\n",
    "#from tensorflow.keras import backend\n",
    "# \"Sequential\" model lets us to define a stack of neural network layers\n",
    "from keras.models import Sequential\n",
    "\n",
    "# import the \"core\" layers:\n",
    "from keras.layers import Dense, Dropout, Activation, Flatten\n",
    "import matplotlib.image as mpimg\n",
    "\n",
    "# CNN\n",
    "from keras.layers import Convolution2D, MaxPooling2D\n",
    "\n",
    "# import some utilities to transform our data\n",
    "from keras.utils import np_utils\n",
    "\n",
    "from sklearn.model_selection import train_test_split\n",
    "\n",
    "import tensorflow as tf\n",
    "import numpy as np\n",
    "import pandas as pd"
   ]
  },
  {
   "cell_type": "code",
   "execution_count": 2,
   "metadata": {},
   "outputs": [
    {
     "data": {
      "text/plain": [
       "'\\nimport os\\ncounter = 0\\nd = d = \"C:/Users/rpera/Desktop/Spring 2020/CS 4662/Project Data/train\"\\nfor path in os.listdir(d):\\n    full_path = os.path.join(d, path)\\n    if os.path.isfile(full_path):\\n        print(full_path)\\n        img = Image.open(full_path)\\n        maxsize = (64, 64)\\n        img = img.resize(maxsize, PIL.Image.ANTIALIAS)\\n        img.save(\\'resized_photos64_RGB/\\'+ str(counter) + \\'.jpg\\')\\n        counter += 1\\n'"
      ]
     },
     "execution_count": 2,
     "metadata": {},
     "output_type": "execute_result"
    }
   ],
   "source": [
    "'''\n",
    "import os\n",
    "counter = 0\n",
    "d = d = \"C:/Users/rpera/Desktop/Spring 2020/CS 4662/Project Data/train\"\n",
    "for path in os.listdir(d):\n",
    "    full_path = os.path.join(d, path)\n",
    "    if os.path.isfile(full_path):\n",
    "        print(full_path)\n",
    "        img = Image.open(full_path)\n",
    "        maxsize = (64, 64)\n",
    "        img = img.resize(maxsize, PIL.Image.ANTIALIAS)\n",
    "        img.save('resized_photos64_RGB/'+ str(counter) + '.jpg')\n",
    "        counter += 1\n",
    "'''"
   ]
  },
  {
   "cell_type": "code",
   "execution_count": 3,
   "metadata": {},
   "outputs": [
    {
     "data": {
      "text/plain": [
       "'\\nimport os\\ncounter = 0\\nd = \"C:/Users/rpera/Desktop/Spring 2020/CS 4662/Project Data/train\"\\nfor path in os.listdir(d):\\n    full_path = os.path.join(d, path)\\n    if os.path.isfile(full_path):\\n        print(full_path)\\n        img = Image.open(full_path).convert(\\'L\\')\\n        maxsize = (32, 32)\\n        img = img.resize(maxsize, PIL.Image.ANTIALIAS)\\n        img.save(\\'resized_photos32_Grey/\\'+ str(counter) + \\'.jpg\\')\\n        counter += 1\\n\\n'"
      ]
     },
     "execution_count": 3,
     "metadata": {},
     "output_type": "execute_result"
    }
   ],
   "source": [
    "'''\n",
    "import os\n",
    "counter = 0\n",
    "d = \"C:/Users/rpera/Desktop/Spring 2020/CS 4662/Project Data/train\"\n",
    "for path in os.listdir(d):\n",
    "    full_path = os.path.join(d, path)\n",
    "    if os.path.isfile(full_path):\n",
    "        print(full_path)\n",
    "        img = Image.open(full_path).convert('L')\n",
    "        maxsize = (32, 32)\n",
    "        img = img.resize(maxsize, PIL.Image.ANTIALIAS)\n",
    "        img.save('resized_photos32_Grey/'+ str(counter) + '.jpg')\n",
    "        counter += 1\n",
    "\n",
    "'''"
   ]
  },
  {
   "cell_type": "markdown",
   "metadata": {},
   "source": [
    "#### Regular + horizontally flipped + grey scale"
   ]
  },
  {
   "cell_type": "code",
   "execution_count": 4,
   "metadata": {
    "scrolled": true
   },
   "outputs": [],
   "source": [
    "listForX = []\n",
    "listForFlipX = []\n",
    "listForXGrey = []\n",
    "for x in range(0, 10222):\n",
    "    test = mpimg.imread(\"C:/Users/rpera/Desktop/Spring 2020/CS 4662/CS4662-Project/resized_photos64_RGB/\"+str(x)+\".jpg\")\n",
    "    grey = mpimg.imread(\"C:/Users/rpera/Desktop/Spring 2020/CS 4662/CS4662-Project/resized_photos64/\"+str(x)+\".jpg\")\n",
    "    testing = (test.reshape(1, 12288))\n",
    "    testFlip = fliplr(test)\n",
    "    \n",
    "    testingFlip = (testFlip.reshape(1, 12288))\n",
    "    \n",
    "    \n",
    "    stacked_img = np.stack((grey,)*3, axis=-1)\n",
    "    testingGrey = (stacked_img.reshape(1, 12288))\n",
    "    \n",
    "    listForX.append(testing[0])\n",
    "    listForFlipX.append(testingFlip[0])\n",
    "    listForXGrey.append(testingGrey[0])\n",
    "    "
   ]
  },
  {
   "cell_type": "code",
   "execution_count": 5,
   "metadata": {},
   "outputs": [],
   "source": [
    "X = np.concatenate((listForX, listForFlipX, listForXGrey), axis=0)"
   ]
  },
  {
   "cell_type": "code",
   "execution_count": 6,
   "metadata": {},
   "outputs": [
    {
     "data": {
      "text/plain": [
       "array([[162, 120,  70, ..., 168, 105,  72],\n",
       "       [ 55,  39,  52, ...,  69,  13,   0],\n",
       "       [103, 102, 108, ..., 116, 116, 114],\n",
       "       ...,\n",
       "       [  1,   1,   1, ..., 186, 186, 186],\n",
       "       [169, 169, 169, ..., 142, 142, 142],\n",
       "       [190, 190, 190, ..., 203, 203, 203]], dtype=uint8)"
      ]
     },
     "execution_count": 6,
     "metadata": {},
     "output_type": "execute_result"
    }
   ],
   "source": [
    "X"
   ]
  },
  {
   "cell_type": "code",
   "execution_count": 7,
   "metadata": {},
   "outputs": [],
   "source": [
    "#df = pd.DataFrame(listForX)"
   ]
  },
  {
   "cell_type": "code",
   "execution_count": 8,
   "metadata": {},
   "outputs": [],
   "source": [
    "#df.values.tolist()"
   ]
  },
  {
   "cell_type": "code",
   "execution_count": 9,
   "metadata": {},
   "outputs": [],
   "source": [
    "#X = np.asarray(listForX).concat(np.asarray(listForFlipX))"
   ]
  },
  {
   "cell_type": "code",
   "execution_count": 10,
   "metadata": {},
   "outputs": [
    {
     "data": {
      "text/plain": [
       "(30666, 12288)"
      ]
     },
     "execution_count": 10,
     "metadata": {},
     "output_type": "execute_result"
    }
   ],
   "source": [
    "X.shape"
   ]
  },
  {
   "cell_type": "code",
   "execution_count": 11,
   "metadata": {},
   "outputs": [],
   "source": [
    "y = pd.read_csv(\"C:/Users/rpera/Desktop/Spring 2020/CS 4662/Project Data/labels.csv\")"
   ]
  },
  {
   "cell_type": "code",
   "execution_count": 12,
   "metadata": {
    "scrolled": true
   },
   "outputs": [],
   "source": [
    "#y"
   ]
  },
  {
   "cell_type": "code",
   "execution_count": 13,
   "metadata": {},
   "outputs": [],
   "source": [
    "y = y.drop(['id'], axis=1)"
   ]
  },
  {
   "cell_type": "code",
   "execution_count": 14,
   "metadata": {},
   "outputs": [],
   "source": [
    "y['breed'] = pd.factorize(y['breed'])[0]"
   ]
  },
  {
   "cell_type": "code",
   "execution_count": 15,
   "metadata": {},
   "outputs": [],
   "source": [
    "#y"
   ]
  },
  {
   "cell_type": "code",
   "execution_count": 16,
   "metadata": {},
   "outputs": [],
   "source": [
    "y = y.breed.tolist() + y.breed.tolist()+ y.breed.tolist()"
   ]
  },
  {
   "cell_type": "code",
   "execution_count": 17,
   "metadata": {},
   "outputs": [
    {
     "data": {
      "text/plain": [
       "30666"
      ]
     },
     "execution_count": 17,
     "metadata": {},
     "output_type": "execute_result"
    }
   ],
   "source": [
    "len(y)"
   ]
  },
  {
   "cell_type": "code",
   "execution_count": 18,
   "metadata": {},
   "outputs": [],
   "source": [
    "#yTest = []\n",
    "#for x in range(0, 1000):\n",
    "   # yTest.append(y[x])\n"
   ]
  },
  {
   "cell_type": "code",
   "execution_count": null,
   "metadata": {},
   "outputs": [],
   "source": []
  },
  {
   "cell_type": "code",
   "execution_count": 19,
   "metadata": {},
   "outputs": [],
   "source": [
    "#y = yTest"
   ]
  },
  {
   "cell_type": "code",
   "execution_count": 20,
   "metadata": {
    "scrolled": true
   },
   "outputs": [],
   "source": [
    "X_train, X_test, y_train, y_test = train_test_split(X, y, test_size=0.20, random_state=2)"
   ]
  },
  {
   "cell_type": "code",
   "execution_count": 21,
   "metadata": {},
   "outputs": [],
   "source": [
    "X_train = X_train.reshape(X_train.shape[0], 64, 64, 3)\n",
    "X_test = X_test.reshape(X_test.shape[0], 64, 64, 3)"
   ]
  },
  {
   "cell_type": "code",
   "execution_count": 22,
   "metadata": {},
   "outputs": [],
   "source": [
    "y_train = np_utils.to_categorical(y_train, 120)\n",
    "y_test = np_utils.to_categorical(y_test, 120)"
   ]
  },
  {
   "cell_type": "code",
   "execution_count": 23,
   "metadata": {
    "scrolled": true
   },
   "outputs": [],
   "source": [
    "X_train = X_train.astype('float32')\n",
    "X_test = X_test.astype('float32')\n",
    "X_train /= 255\n",
    "X_test /= 255"
   ]
  },
  {
   "cell_type": "code",
   "execution_count": 24,
   "metadata": {},
   "outputs": [
    {
     "data": {
      "text/plain": [
       "(24532, 64, 64, 3)"
      ]
     },
     "execution_count": 24,
     "metadata": {},
     "output_type": "execute_result"
    }
   ],
   "source": [
    "X_train.shape"
   ]
  },
  {
   "cell_type": "code",
   "execution_count": 25,
   "metadata": {},
   "outputs": [],
   "source": [
    "model = Sequential()"
   ]
  },
  {
   "cell_type": "code",
   "execution_count": 26,
   "metadata": {},
   "outputs": [
    {
     "name": "stderr",
     "output_type": "stream",
     "text": [
      "INFO:plaidml:Opening device \"opencl_amd_hawaii.0\"\n"
     ]
    },
    {
     "name": "stdout",
     "output_type": "stream",
     "text": [
      "(None, 31, 31, 16)\n"
     ]
    }
   ],
   "source": [
    "model.add(Convolution2D(16, (3, 3), activation='relu', input_shape=(64,64,3)))\n",
    "model.add(MaxPooling2D(pool_size=(2,2)))\n",
    "#model.add(Dropout(0.25)) \n",
    "print(model.output_shape) # -> (None, 26, 26, 32)"
   ]
  },
  {
   "cell_type": "code",
   "execution_count": 27,
   "metadata": {},
   "outputs": [
    {
     "name": "stdout",
     "output_type": "stream",
     "text": [
      "(None, 6, 6, 64)\n"
     ]
    }
   ],
   "source": [
    "# more hidden layers:\n",
    "model.add(Convolution2D(32, (3, 3), activation='relu'))\n",
    "# Pooling Layer:\n",
    "model.add(MaxPooling2D(pool_size=(2,2)))\n",
    "#model.add(Dropout(0.25)) \n",
    "\n",
    "\n",
    "model.add(Convolution2D(64, (3, 3), activation='relu'))\n",
    "model.add(MaxPooling2D(pool_size=(2,2)))\n",
    "print(model.output_shape)\n",
    "\n",
    "# Dropout layer to avoid overfitting\n",
    "model.add(Dropout(0.25)) "
   ]
  },
  {
   "cell_type": "code",
   "execution_count": 28,
   "metadata": {},
   "outputs": [
    {
     "name": "stdout",
     "output_type": "stream",
     "text": [
      "(None, 2304)\n",
      "(None, 128)\n",
      "(None, 120)\n"
     ]
    }
   ],
   "source": [
    "# output Fully connected Dense layers:\n",
    "model.add(Flatten())\n",
    "print(model.output_shape)\n",
    "\n",
    "model.add(Dense(128, activation='relu'))\n",
    "print(model.output_shape)\n",
    "\n",
    "model.add(Dropout(0.5))\n",
    "model.add(Dense(120, activation='softmax'))\n",
    "print(model.output_shape)"
   ]
  },
  {
   "cell_type": "code",
   "execution_count": 29,
   "metadata": {},
   "outputs": [],
   "source": [
    "model.compile(loss='categorical_crossentropy',metrics=['accuracy'],\n",
    "              optimizer='adam')"
   ]
  },
  {
   "cell_type": "code",
   "execution_count": 30,
   "metadata": {},
   "outputs": [
    {
     "name": "stdout",
     "output_type": "stream",
     "text": [
      "_________________________________________________________________\n",
      "Layer (type)                 Output Shape              Param #   \n",
      "=================================================================\n",
      "conv2d_1 (Conv2D)            (None, 62, 62, 16)        448       \n",
      "_________________________________________________________________\n",
      "max_pooling2d_1 (MaxPooling2 (None, 31, 31, 16)        0         \n",
      "_________________________________________________________________\n",
      "conv2d_2 (Conv2D)            (None, 29, 29, 32)        4640      \n",
      "_________________________________________________________________\n",
      "max_pooling2d_2 (MaxPooling2 (None, 14, 14, 32)        0         \n",
      "_________________________________________________________________\n",
      "conv2d_3 (Conv2D)            (None, 12, 12, 64)        18496     \n",
      "_________________________________________________________________\n",
      "max_pooling2d_3 (MaxPooling2 (None, 6, 6, 64)          0         \n",
      "_________________________________________________________________\n",
      "dropout_1 (Dropout)          (None, 6, 6, 64)          0         \n",
      "_________________________________________________________________\n",
      "flatten_1 (Flatten)          (None, 2304)              0         \n",
      "_________________________________________________________________\n",
      "dense_1 (Dense)              (None, 128)               295040    \n",
      "_________________________________________________________________\n",
      "dropout_2 (Dropout)          (None, 128)               0         \n",
      "_________________________________________________________________\n",
      "dense_2 (Dense)              (None, 120)               15480     \n",
      "=================================================================\n",
      "Total params: 334,104\n",
      "Trainable params: 334,104\n",
      "Non-trainable params: 0\n",
      "_________________________________________________________________\n",
      "None\n"
     ]
    }
   ],
   "source": [
    "print(model.summary())"
   ]
  },
  {
   "cell_type": "code",
   "execution_count": 31,
   "metadata": {},
   "outputs": [
    {
     "data": {
      "text/plain": [
       "(24532, 64, 64, 3)"
      ]
     },
     "execution_count": 31,
     "metadata": {},
     "output_type": "execute_result"
    }
   ],
   "source": [
    "X_train.shape"
   ]
  },
  {
   "cell_type": "code",
   "execution_count": 32,
   "metadata": {},
   "outputs": [
    {
     "data": {
      "text/plain": [
       "(24532, 120)"
      ]
     },
     "execution_count": 32,
     "metadata": {},
     "output_type": "execute_result"
    }
   ],
   "source": [
    "y_train.shape"
   ]
  },
  {
   "cell_type": "code",
   "execution_count": 33,
   "metadata": {
    "scrolled": true
   },
   "outputs": [
    {
     "name": "stdout",
     "output_type": "stream",
     "text": [
      "Train on 22078 samples, validate on 2454 samples\n",
      "Epoch 1/100\n",
      "22078/22078 [==============================] - 27s 1ms/step - loss: 4.7372 - acc: 0.0157 - val_loss: 4.5894 - val_acc: 0.0338\n",
      "Epoch 2/100\n",
      "22078/22078 [==============================] - 10s 432us/step - loss: 4.5221 - acc: 0.0344 - val_loss: 4.3909 - val_acc: 0.0489\n",
      "Epoch 3/100\n",
      "22078/22078 [==============================] - 9s 427us/step - loss: 4.3799 - acc: 0.0466 - val_loss: 4.2700 - val_acc: 0.0656\n",
      "Epoch 4/100\n",
      "22078/22078 [==============================] - 10s 439us/step - loss: 4.2646 - acc: 0.0621 - val_loss: 4.1811 - val_acc: 0.0803\n",
      "Epoch 5/100\n",
      "22078/22078 [==============================] - 10s 434us/step - loss: 4.1593 - acc: 0.0759 - val_loss: 4.0696 - val_acc: 0.0917\n",
      "Epoch 6/100\n",
      "22078/22078 [==============================] - 10s 445us/step - loss: 4.0530 - acc: 0.0881 - val_loss: 4.0330 - val_acc: 0.0872\n",
      "Epoch 7/100\n",
      "22078/22078 [==============================] - 10s 434us/step - loss: 3.9573 - acc: 0.1020 - val_loss: 3.9404 - val_acc: 0.1149\n",
      "Epoch 8/100\n",
      "22078/22078 [==============================] - 9s 430us/step - loss: 3.8527 - acc: 0.1175 - val_loss: 3.8344 - val_acc: 0.1316\n",
      "Epoch 9/100\n",
      "22078/22078 [==============================] - 9s 430us/step - loss: 3.7605 - acc: 0.1347 - val_loss: 3.7875 - val_acc: 0.1496\n",
      "Epoch 10/100\n",
      "22078/22078 [==============================] - 9s 428us/step - loss: 3.6582 - acc: 0.1463 - val_loss: 3.7142 - val_acc: 0.1573\n",
      "Epoch 11/100\n",
      "22078/22078 [==============================] - 10s 431us/step - loss: 3.5816 - acc: 0.1599 - val_loss: 3.6606 - val_acc: 0.1614\n",
      "Epoch 12/100\n",
      "22078/22078 [==============================] - 9s 429us/step - loss: 3.5123 - acc: 0.1668 - val_loss: 3.6244 - val_acc: 0.1711\n",
      "Epoch 13/100\n",
      "22078/22078 [==============================] - 10s 441us/step - loss: 3.4461 - acc: 0.1796 - val_loss: 3.5567 - val_acc: 0.1789\n",
      "Epoch 14/100\n",
      "22078/22078 [==============================] - 9s 427us/step - loss: 3.3618 - acc: 0.1899 - val_loss: 3.5662 - val_acc: 0.1846\n",
      "Epoch 15/100\n",
      "22078/22078 [==============================] - 10s 434us/step - loss: 3.3049 - acc: 0.2007 - val_loss: 3.5142 - val_acc: 0.1976\n",
      "Epoch 16/100\n",
      "22078/22078 [==============================] - 9s 425us/step - loss: 3.2472 - acc: 0.2113 - val_loss: 3.4916 - val_acc: 0.2058\n",
      "Epoch 17/100\n",
      "22078/22078 [==============================] - 9s 427us/step - loss: 3.1901 - acc: 0.2252 - val_loss: 3.4450 - val_acc: 0.2152\n",
      "Epoch 18/100\n",
      "22078/22078 [==============================] - 10s 430us/step - loss: 3.1276 - acc: 0.2308 - val_loss: 3.4050 - val_acc: 0.2290\n",
      "Epoch 19/100\n",
      "22078/22078 [==============================] - 10s 434us/step - loss: 3.0915 - acc: 0.2366 - val_loss: 3.3903 - val_acc: 0.2311\n",
      "Epoch 20/100\n",
      "22078/22078 [==============================] - 10s 433us/step - loss: 3.0434 - acc: 0.2471 - val_loss: 3.3629 - val_acc: 0.2355\n",
      "Epoch 21/100\n",
      "22078/22078 [==============================] - 10s 433us/step - loss: 3.0145 - acc: 0.2515 - val_loss: 3.3579 - val_acc: 0.2396\n",
      "Epoch 22/100\n",
      "22078/22078 [==============================] - 9s 429us/step - loss: 2.9669 - acc: 0.2595 - val_loss: 3.3204 - val_acc: 0.2637\n",
      "Epoch 23/100\n",
      "22078/22078 [==============================] - 10s 431us/step - loss: 2.9242 - acc: 0.2673 - val_loss: 3.3058 - val_acc: 0.2563\n",
      "Epoch 24/100\n",
      "22078/22078 [==============================] - 10s 431us/step - loss: 2.9127 - acc: 0.2720 - val_loss: 3.2729 - val_acc: 0.2742\n",
      "Epoch 25/100\n",
      "22078/22078 [==============================] - 10s 432us/step - loss: 2.8739 - acc: 0.2810 - val_loss: 3.2883 - val_acc: 0.2681\n",
      "Epoch 26/100\n",
      "22078/22078 [==============================] - 10s 432us/step - loss: 2.8295 - acc: 0.2875 - val_loss: 3.2309 - val_acc: 0.2824\n",
      "Epoch 27/100\n",
      "22078/22078 [==============================] - 10s 443us/step - loss: 2.8236 - acc: 0.2834 - val_loss: 3.2420 - val_acc: 0.2783\n",
      "Epoch 28/100\n",
      "22078/22078 [==============================] - 10s 448us/step - loss: 2.7770 - acc: 0.2963 - val_loss: 3.2079 - val_acc: 0.2812\n",
      "Epoch 29/100\n",
      "22078/22078 [==============================] - 10s 448us/step - loss: 2.7418 - acc: 0.3003 - val_loss: 3.2082 - val_acc: 0.2800\n",
      "Epoch 30/100\n",
      "22078/22078 [==============================] - 10s 437us/step - loss: 2.7359 - acc: 0.3002 - val_loss: 3.1852 - val_acc: 0.2934\n",
      "Epoch 31/100\n",
      "22078/22078 [==============================] - 10s 433us/step - loss: 2.7102 - acc: 0.3064 - val_loss: 3.1857 - val_acc: 0.3003\n",
      "Epoch 32/100\n",
      "22078/22078 [==============================] - 10s 435us/step - loss: 2.6768 - acc: 0.3159 - val_loss: 3.1841 - val_acc: 0.2946\n",
      "Epoch 33/100\n",
      "22078/22078 [==============================] - 10s 437us/step - loss: 2.6554 - acc: 0.3221 - val_loss: 3.1384 - val_acc: 0.3215\n",
      "Epoch 34/100\n",
      "22078/22078 [==============================] - 10s 444us/step - loss: 2.6198 - acc: 0.3236 - val_loss: 3.1574 - val_acc: 0.3105\n",
      "Epoch 35/100\n",
      "22078/22078 [==============================] - 10s 451us/step - loss: 2.6249 - acc: 0.3285 - val_loss: 3.1468 - val_acc: 0.3142\n",
      "Epoch 36/100\n",
      "22078/22078 [==============================] - 10s 446us/step - loss: 2.6002 - acc: 0.3261 - val_loss: 3.1512 - val_acc: 0.3207\n",
      "Epoch 37/100\n",
      "22078/22078 [==============================] - 10s 436us/step - loss: 2.5860 - acc: 0.3337 - val_loss: 3.1142 - val_acc: 0.3244\n",
      "Epoch 38/100\n",
      "22078/22078 [==============================] - 10s 438us/step - loss: 2.5624 - acc: 0.3369 - val_loss: 3.0998 - val_acc: 0.3317\n",
      "Epoch 39/100\n",
      "22078/22078 [==============================] - 11s 489us/step - loss: 2.5231 - acc: 0.3420 - val_loss: 3.0926 - val_acc: 0.3354\n",
      "Epoch 40/100\n",
      "22078/22078 [==============================] - 10s 468us/step - loss: 2.5248 - acc: 0.3397 - val_loss: 3.0832 - val_acc: 0.3439\n",
      "Epoch 41/100\n",
      "22078/22078 [==============================] - 10s 465us/step - loss: 2.4957 - acc: 0.3465 - val_loss: 3.0959 - val_acc: 0.3411\n",
      "Epoch 42/100\n",
      "22078/22078 [==============================] - 10s 444us/step - loss: 2.4709 - acc: 0.3573 - val_loss: 3.0865 - val_acc: 0.3390\n",
      "Epoch 43/100\n",
      "22078/22078 [==============================] - 10s 440us/step - loss: 2.4622 - acc: 0.3553 - val_loss: 3.0810 - val_acc: 0.3390\n",
      "Epoch 44/100\n",
      "22078/22078 [==============================] - 10s 436us/step - loss: 2.4559 - acc: 0.3526 - val_loss: 3.0435 - val_acc: 0.3464\n",
      "Epoch 45/100\n",
      "22078/22078 [==============================] - 10s 435us/step - loss: 2.4515 - acc: 0.3586 - val_loss: 3.0547 - val_acc: 0.3456\n",
      "Epoch 46/100\n",
      "22078/22078 [==============================] - 10s 440us/step - loss: 2.4160 - acc: 0.3662 - val_loss: 3.0506 - val_acc: 0.3541\n",
      "Epoch 47/100\n",
      "22078/22078 [==============================] - 10s 436us/step - loss: 2.4070 - acc: 0.3698 - val_loss: 3.0572 - val_acc: 0.3521\n",
      "Epoch 48/100\n",
      "22078/22078 [==============================] - 10s 438us/step - loss: 2.4101 - acc: 0.3667 - val_loss: 3.0500 - val_acc: 0.3545\n",
      "Epoch 49/100\n",
      "22078/22078 [==============================] - 10s 438us/step - loss: 2.3843 - acc: 0.3686 - val_loss: 3.0455 - val_acc: 0.3578\n",
      "Epoch 50/100\n",
      "22078/22078 [==============================] - 10s 438us/step - loss: 2.3811 - acc: 0.3741 - val_loss: 3.0355 - val_acc: 0.3647\n",
      "Epoch 51/100\n",
      "22078/22078 [==============================] - 10s 441us/step - loss: 2.3798 - acc: 0.3725 - val_loss: 3.0114 - val_acc: 0.3688\n",
      "Epoch 52/100\n",
      "22078/22078 [==============================] - 10s 436us/step - loss: 2.3524 - acc: 0.3780 - val_loss: 3.0175 - val_acc: 0.3700\n",
      "Epoch 53/100\n",
      "22078/22078 [==============================] - 10s 441us/step - loss: 2.3492 - acc: 0.3797 - val_loss: 3.0121 - val_acc: 0.3737\n",
      "Epoch 54/100\n",
      "22078/22078 [==============================] - 10s 438us/step - loss: 2.3193 - acc: 0.3857 - val_loss: 3.0049 - val_acc: 0.3745\n",
      "Epoch 55/100\n",
      "22078/22078 [==============================] - 10s 436us/step - loss: 2.3274 - acc: 0.3816 - val_loss: 2.9858 - val_acc: 0.3741\n",
      "Epoch 56/100\n",
      "22078/22078 [==============================] - 10s 443us/step - loss: 2.3000 - acc: 0.3883 - val_loss: 2.9764 - val_acc: 0.3912\n",
      "Epoch 57/100\n",
      "22078/22078 [==============================] - 10s 445us/step - loss: 2.2784 - acc: 0.3951 - val_loss: 2.9909 - val_acc: 0.3761\n",
      "Epoch 58/100\n",
      "22078/22078 [==============================] - 10s 439us/step - loss: 2.2919 - acc: 0.3929 - val_loss: 2.9887 - val_acc: 0.3883\n"
     ]
    },
    {
     "name": "stdout",
     "output_type": "stream",
     "text": [
      "Epoch 59/100\n",
      "22078/22078 [==============================] - 9s 428us/step - loss: 2.2696 - acc: 0.3944 - val_loss: 2.9853 - val_acc: 0.3871\n",
      "Epoch 60/100\n",
      "22078/22078 [==============================] - 9s 430us/step - loss: 2.2705 - acc: 0.3985 - val_loss: 2.9695 - val_acc: 0.3875\n",
      "Epoch 61/100\n",
      "22078/22078 [==============================] - 9s 428us/step - loss: 2.2460 - acc: 0.4019 - val_loss: 2.9831 - val_acc: 0.3924\n",
      "Epoch 62/100\n",
      "22078/22078 [==============================] - 9s 430us/step - loss: 2.2440 - acc: 0.4012 - val_loss: 2.9887 - val_acc: 0.3883\n",
      "Epoch 63/100\n",
      "22078/22078 [==============================] - 10s 435us/step - loss: 2.2534 - acc: 0.3961 - val_loss: 2.9695 - val_acc: 0.3888\n",
      "Epoch 64/100\n",
      "22078/22078 [==============================] - 10s 437us/step - loss: 2.2215 - acc: 0.4046 - val_loss: 2.9715 - val_acc: 0.4014\n",
      "Epoch 65/100\n",
      "22078/22078 [==============================] - 10s 450us/step - loss: 2.2270 - acc: 0.4038 - val_loss: 2.9753 - val_acc: 0.3965\n",
      "Epoch 66/100\n",
      "22078/22078 [==============================] - 10s 458us/step - loss: 2.2225 - acc: 0.4066 - val_loss: 3.0000 - val_acc: 0.3855\n",
      "Epoch 67/100\n",
      "22078/22078 [==============================] - 10s 457us/step - loss: 2.1981 - acc: 0.4084 - val_loss: 2.9764 - val_acc: 0.4022\n",
      "Epoch 68/100\n",
      "22078/22078 [==============================] - 11s 478us/step - loss: 2.1930 - acc: 0.4138 - val_loss: 2.9831 - val_acc: 0.3908\n",
      "Epoch 69/100\n",
      "22078/22078 [==============================] - 10s 438us/step - loss: 2.1743 - acc: 0.4152 - val_loss: 2.9569 - val_acc: 0.4079\n",
      "Epoch 70/100\n",
      "22078/22078 [==============================] - 10s 438us/step - loss: 2.1854 - acc: 0.4148 - val_loss: 2.9707 - val_acc: 0.4051\n",
      "Epoch 71/100\n",
      "22078/22078 [==============================] - 9s 424us/step - loss: 2.1696 - acc: 0.4137 - val_loss: 2.9584 - val_acc: 0.4051\n",
      "Epoch 72/100\n",
      "22078/22078 [==============================] - 9s 423us/step - loss: 2.1645 - acc: 0.4178 - val_loss: 2.9784 - val_acc: 0.3965\n",
      "Epoch 73/100\n",
      "22078/22078 [==============================] - 10s 431us/step - loss: 2.1543 - acc: 0.4233 - val_loss: 2.9621 - val_acc: 0.4087\n",
      "Epoch 74/100\n",
      "22078/22078 [==============================] - 10s 446us/step - loss: 2.1497 - acc: 0.4240 - val_loss: 2.9586 - val_acc: 0.4075\n",
      "Epoch 75/100\n",
      "22078/22078 [==============================] - 10s 452us/step - loss: 2.1329 - acc: 0.4285 - val_loss: 2.9707 - val_acc: 0.4108\n",
      "Epoch 76/100\n",
      "22078/22078 [==============================] - 10s 458us/step - loss: 2.1422 - acc: 0.4192 - val_loss: 2.9493 - val_acc: 0.4108\n",
      "Epoch 77/100\n",
      "22078/22078 [==============================] - 10s 446us/step - loss: 2.1261 - acc: 0.4256 - val_loss: 2.9504 - val_acc: 0.4091\n",
      "Epoch 78/100\n",
      "22078/22078 [==============================] - 10s 431us/step - loss: 2.1108 - acc: 0.4349 - val_loss: 2.9583 - val_acc: 0.4038\n",
      "Epoch 79/100\n",
      "22078/22078 [==============================] - 9s 427us/step - loss: 2.1139 - acc: 0.4310 - val_loss: 2.9422 - val_acc: 0.4161\n",
      "Epoch 80/100\n",
      "22078/22078 [==============================] - 9s 429us/step - loss: 2.1218 - acc: 0.4250 - val_loss: 2.9280 - val_acc: 0.4185\n",
      "Epoch 81/100\n",
      "22078/22078 [==============================] - 9s 428us/step - loss: 2.1031 - acc: 0.4298 - val_loss: 2.9563 - val_acc: 0.4136\n",
      "Epoch 82/100\n",
      "22078/22078 [==============================] - 9s 426us/step - loss: 2.0789 - acc: 0.4327 - val_loss: 2.9110 - val_acc: 0.4258\n",
      "Epoch 83/100\n",
      "22078/22078 [==============================] - 10s 432us/step - loss: 2.0723 - acc: 0.4385 - val_loss: 2.9254 - val_acc: 0.4193\n",
      "Epoch 84/100\n",
      "22078/22078 [==============================] - 10s 448us/step - loss: 2.0828 - acc: 0.4358 - val_loss: 2.9120 - val_acc: 0.4218\n",
      "Epoch 85/100\n",
      "22078/22078 [==============================] - 10s 451us/step - loss: 2.0950 - acc: 0.4326 - val_loss: 2.9161 - val_acc: 0.4193\n",
      "Epoch 86/100\n",
      "22078/22078 [==============================] - 10s 450us/step - loss: 2.0829 - acc: 0.4394 - val_loss: 2.9465 - val_acc: 0.4205\n",
      "Epoch 87/100\n",
      "22078/22078 [==============================] - 10s 469us/step - loss: 2.0606 - acc: 0.4427 - val_loss: 2.9087 - val_acc: 0.4319\n",
      "Epoch 88/100\n",
      "22078/22078 [==============================] - 10s 456us/step - loss: 2.0426 - acc: 0.4452 - val_loss: 2.9239 - val_acc: 0.4319\n",
      "Epoch 89/100\n",
      "22078/22078 [==============================] - 10s 457us/step - loss: 2.0551 - acc: 0.4424 - val_loss: 2.8970 - val_acc: 0.4311\n",
      "Epoch 90/100\n",
      "22078/22078 [==============================] - 10s 443us/step - loss: 2.0487 - acc: 0.4448 - val_loss: 2.9143 - val_acc: 0.4262\n",
      "Epoch 91/100\n",
      "22078/22078 [==============================] - 10s 473us/step - loss: 2.0537 - acc: 0.4451 - val_loss: 2.9119 - val_acc: 0.4201\n",
      "Epoch 92/100\n",
      "22078/22078 [==============================] - 10s 457us/step - loss: 2.0416 - acc: 0.4437 - val_loss: 2.8974 - val_acc: 0.4336\n",
      "Epoch 93/100\n",
      "22078/22078 [==============================] - 10s 439us/step - loss: 2.0496 - acc: 0.4477 - val_loss: 2.9001 - val_acc: 0.4336\n",
      "Epoch 94/100\n",
      "22078/22078 [==============================] - 10s 441us/step - loss: 2.0258 - acc: 0.4514 - val_loss: 2.9104 - val_acc: 0.4267\n",
      "Epoch 95/100\n",
      "22078/22078 [==============================] - 10s 433us/step - loss: 2.0275 - acc: 0.4482 - val_loss: 2.8935 - val_acc: 0.4393\n",
      "Epoch 96/100\n",
      "22078/22078 [==============================] - 10s 451us/step - loss: 2.0333 - acc: 0.4466 - val_loss: 2.8907 - val_acc: 0.4401\n",
      "Epoch 97/100\n",
      "22078/22078 [==============================] - 10s 445us/step - loss: 1.9826 - acc: 0.4591 - val_loss: 2.9152 - val_acc: 0.4295\n",
      "Epoch 98/100\n",
      "22078/22078 [==============================] - 10s 461us/step - loss: 2.0070 - acc: 0.4586 - val_loss: 2.8948 - val_acc: 0.4430\n",
      "Epoch 99/100\n",
      "22078/22078 [==============================] - 10s 442us/step - loss: 2.0132 - acc: 0.4544 - val_loss: 2.9013 - val_acc: 0.4303\n",
      "Epoch 100/100\n",
      "22078/22078 [==============================] - 10s 438us/step - loss: 1.9890 - acc: 0.4543 - val_loss: 2.8846 - val_acc: 0.4336\n"
     ]
    }
   ],
   "source": [
    "from keras.callbacks import EarlyStopping\n",
    "\n",
    "fitted_model = model.fit(X_train, y_train, validation_split=0.1, batch_size=64, epochs=100, shuffle=True, verbose=1)"
   ]
  },
  {
   "cell_type": "code",
   "execution_count": null,
   "metadata": {},
   "outputs": [],
   "source": []
  },
  {
   "cell_type": "code",
   "execution_count": 34,
   "metadata": {},
   "outputs": [
    {
     "data": {
      "text/plain": [
       "<matplotlib.legend.Legend at 0x209478dfc48>"
      ]
     },
     "execution_count": 34,
     "metadata": {},
     "output_type": "execute_result"
    },
    {
     "data": {
      "image/png": "[encoded data removed]",
      "text/plain": [
       "<Figure size 432x288 with 1 Axes>"
      ]
     },
     "metadata": {
      "needs_background": "light"
     },
     "output_type": "display_data"
    },
    {
     "data": {
      "image/png": "[encoded data removed]",
      "text/plain": [
       "<Figure size 432x288 with 1 Axes>"
      ]
     },
     "metadata": {
      "needs_background": "light"
     },
     "output_type": "display_data"
    }
   ],
   "source": [
    "import matplotlib.pyplot as plt\n",
    "\n",
    "%matplotlib inline\n",
    "\n",
    "accuracy = fitted_model.history['acc']\n",
    "#val_accuracy = history.history['val_acc']\n",
    "loss = fitted_model.history['loss']\n",
    "#val_loss = history.history['val_loss']\n",
    "epochs = range(len(accuracy))\n",
    "plt.plot(epochs, accuracy, 'b-', label='Training accuracy')\n",
    "#plt.plot(epochs, val_accuracy, 'b', label='Validation accuracy')\n",
    "plt.title('Training and validation accuracy')\n",
    "plt.legend()\n",
    "plt.figure()\n",
    "plt.plot(epochs, loss, 'r-', label='Training loss')\n",
    "#plt.plot(epochs, val_loss, 'b', label='Validation loss')\n",
    "plt.title('Training and validation loss')\n",
    "plt.legend()\n",
    "# plt.show()"
   ]
  },
  {
   "cell_type": "code",
   "execution_count": 35,
   "metadata": {
    "scrolled": false
   },
   "outputs": [
    {
     "name": "stdout",
     "output_type": "stream",
     "text": [
      "6134/6134 [==============================] - 4s 710us/step\n",
      "(6134, 120)\n"
     ]
    }
   ],
   "source": [
    "y_pridict = model.predict(X_test, verbose=1)\n",
    "print (y_pridict.shape)"
   ]
  },
  {
   "cell_type": "code",
   "execution_count": 36,
   "metadata": {
    "scrolled": true
   },
   "outputs": [],
   "source": [
    "#y_pridict"
   ]
  },
  {
   "cell_type": "code",
   "execution_count": 37,
   "metadata": {},
   "outputs": [
    {
     "name": "stdout",
     "output_type": "stream",
     "text": [
      "6134/6134 [==============================] - 3s 512us/step\n",
      "The accuracy is:  0.4134333225621204\n"
     ]
    }
   ],
   "source": [
    "score = model.evaluate(X_test, y_test, verbose=1)\n",
    "print('The accuracy is: ', score[1])"
   ]
  },
  {
   "cell_type": "code",
   "execution_count": null,
   "metadata": {},
   "outputs": [],
   "source": []
  }
 ],
 "metadata": {
  "kernelspec": {
   "display_name": "Python 3",
   "language": "python",
   "name": "python3"
  },
  "language_info": {
   "codemirror_mode": {
    "name": "ipython",
    "version": 3
   },
   "file_extension": ".py",
   "mimetype": "text/x-python",
   "name": "python",
   "nbconvert_exporter": "python",
   "pygments_lexer": "ipython3",
   "version": "3.7.4"
  }
 },
 "nbformat": 4,
 "nbformat_minor": 2
}
