{
 "cells": [
  {
   "cell_type": "markdown",
   "metadata": {},
   "source": [
    "# Dog Breed Prediction\n",
    "## https://www.kaggle.com/c/dog-breed-identification/overview\n",
    "### CS 4662\n",
    "### Spring 2020\n",
    "### Alan Garcia\n",
    "### Ryan Peralta\n"
   ]
  },
  {
   "cell_type": "code",
   "execution_count": 1,
   "metadata": {},
   "outputs": [],
   "source": [
    "import PIL.Image\n",
    "from numpy import asarray\n",
    "from PIL import Image\n",
    "from numpy import fliplr\n",
    "from numpy import flipud\n",
    "\n",
    "import plaidml.keras\n",
    "plaidml.keras.install_backend()\n",
    "\n",
    "#from tensorflow.keras import backend\n",
    "# \"Sequential\" model lets us to define a stack of neural network layers\n",
    "from keras.models import Sequential\n",
    "\n",
    "# import the \"core\" layers:\n",
    "from keras.layers import Dense, Dropout, Activation, Flatten\n",
    "import matplotlib.image as mpimg\n",
    "\n",
    "# CNN\n",
    "from keras.layers import Convolution2D, MaxPooling2D\n",
    "\n",
    "# import some utilities to transform our data\n",
    "from keras.utils import np_utils\n",
    "\n",
    "from sklearn.model_selection import train_test_split\n",
    "\n",
    "import tensorflow as tf\n",
    "import numpy as np\n",
    "import pandas as pd"
   ]
  },
  {
   "cell_type": "code",
   "execution_count": 2,
   "metadata": {},
   "outputs": [
    {
     "data": {
      "text/plain": [
       "'\\nimport os\\ncounter = 0\\nd = d = \"C:/Users/rpera/Desktop/Spring 2020/CS 4662/Project Data/train\"\\nfor path in os.listdir(d):\\n    full_path = os.path.join(d, path)\\n    if os.path.isfile(full_path):\\n        print(full_path)\\n        img = Image.open(full_path)\\n        maxsize = (64, 64)\\n        img = img.resize(maxsize, PIL.Image.ANTIALIAS)\\n        img.save(\\'resized_photos64_RGB/\\'+ str(counter) + \\'.jpg\\')\\n        counter += 1\\n'"
      ]
     },
     "execution_count": 2,
     "metadata": {},
     "output_type": "execute_result"
    }
   ],
   "source": [
    "'''\n",
    "import os\n",
    "counter = 0\n",
    "d = d = \"C:/Users/rpera/Desktop/Spring 2020/CS 4662/Project Data/train\"\n",
    "for path in os.listdir(d):\n",
    "    full_path = os.path.join(d, path)\n",
    "    if os.path.isfile(full_path):\n",
    "        print(full_path)\n",
    "        img = Image.open(full_path)\n",
    "        maxsize = (64, 64)\n",
    "        img = img.resize(maxsize, PIL.Image.ANTIALIAS)\n",
    "        img.save('resized_photos64_RGB/'+ str(counter) + '.jpg')\n",
    "        counter += 1\n",
    "'''"
   ]
  },
  {
   "cell_type": "code",
   "execution_count": 3,
   "metadata": {},
   "outputs": [
    {
     "data": {
      "text/plain": [
       "'\\nimport os\\ncounter = 0\\nd = \"C:/Users/Alan/Desktop/Data_Science_2/final_project/train\"\\nfor path in os.listdir(d):\\n    full_path = os.path.join(d, path)\\n    if os.path.isfile(full_path):\\n        print(full_path)\\n        img = Image.open(full_path).convert(\\'L\\')\\n        maxsize = (64, 64)\\n        img = img.resize(maxsize, PIL.Image.ANTIALIAS)\\n        img.save(\\'resized_photos64_Grey/\\'+ str(counter) + \\'.jpg\\')\\n        counter += 1\\n'"
      ]
     },
     "execution_count": 3,
     "metadata": {},
     "output_type": "execute_result"
    }
   ],
   "source": [
    "'''\n",
    "import os\n",
    "counter = 0\n",
    "d = \"C:/Users/Alan/Desktop/Data_Science_2/final_project/train\"\n",
    "for path in os.listdir(d):\n",
    "    full_path = os.path.join(d, path)\n",
    "    if os.path.isfile(full_path):\n",
    "        print(full_path)\n",
    "        img = Image.open(full_path).convert('L')\n",
    "        maxsize = (64, 64)\n",
    "        img = img.resize(maxsize, PIL.Image.ANTIALIAS)\n",
    "        img.save('resized_photos64_Grey/'+ str(counter) + '.jpg')\n",
    "        counter += 1\n",
    "'''"
   ]
  },
  {
   "cell_type": "markdown",
   "metadata": {},
   "source": [
    "#### Regular + horizontally flipped + grey scale"
   ]
  },
  {
   "cell_type": "code",
   "execution_count": 4,
   "metadata": {
    "scrolled": true
   },
   "outputs": [],
   "source": [
    "listForX = []\n",
    "listForFlipX = []\n",
    "listForXGrey = []\n",
    "for x in range(0, 10222):\n",
    "    test = mpimg.imread(\"C:/Users/Alan/Desktop/Data_Science_2/final_project/resized_photos64_RGB/\"+str(x)+\".jpg\")\n",
    "    grey = mpimg.imread(\"C:/Users/Alan/Desktop/Data_Science_2/final_project/resized_photos64_Grey/\"+str(x)+\".jpg\")\n",
    "    testing = (test.reshape(1, 12288))\n",
    "    testFlip = fliplr(test)\n",
    "    \n",
    "    testingFlip = (testFlip.reshape(1, 12288))\n",
    "    \n",
    "    \n",
    "    stacked_img = np.stack((grey,)*3, axis=-1)\n",
    "    testingGrey = (stacked_img.reshape(1, 12288))\n",
    "    \n",
    "    listForX.append(testing[0])\n",
    "    listForFlipX.append(testingFlip[0])\n",
    "    listForXGrey.append(testingGrey[0])\n",
    "    "
   ]
  },
  {
   "cell_type": "code",
   "execution_count": 5,
   "metadata": {},
   "outputs": [],
   "source": [
    "X = np.concatenate((listForX, listForFlipX), axis=0)"
   ]
  },
  {
   "cell_type": "code",
   "execution_count": 6,
   "metadata": {},
   "outputs": [
    {
     "data": {
      "text/plain": [
       "array([[162, 120,  70, ..., 176, 113,  80],\n",
       "       [ 50,  34,  47, ...,  61,   8,   0],\n",
       "       [100,  99, 105, ..., 118, 118, 116],\n",
       "       ...,\n",
       "       [  1,   1,   1, ..., 241, 244, 249],\n",
       "       [115, 114, 128, ..., 193, 134,  92],\n",
       "       [ 83,  83,  83, ..., 201, 201, 201]], dtype=uint8)"
      ]
     },
     "execution_count": 6,
     "metadata": {},
     "output_type": "execute_result"
    }
   ],
   "source": [
    "X"
   ]
  },
  {
   "cell_type": "code",
   "execution_count": 7,
   "metadata": {},
   "outputs": [],
   "source": [
    "#df = pd.DataFrame(listForX)"
   ]
  },
  {
   "cell_type": "code",
   "execution_count": 8,
   "metadata": {},
   "outputs": [],
   "source": [
    "#df.values.tolist()"
   ]
  },
  {
   "cell_type": "code",
   "execution_count": 9,
   "metadata": {},
   "outputs": [],
   "source": [
    "#X = np.asarray(listForX).concat(np.asarray(listForFlipX))"
   ]
  },
  {
   "cell_type": "code",
   "execution_count": 10,
   "metadata": {},
   "outputs": [
    {
     "data": {
      "text/plain": [
       "(20444, 12288)"
      ]
     },
     "execution_count": 10,
     "metadata": {},
     "output_type": "execute_result"
    }
   ],
   "source": [
    "X.shape"
   ]
  },
  {
   "cell_type": "code",
   "execution_count": 22,
   "metadata": {},
   "outputs": [],
   "source": [
    "y = pd.read_csv(\"C:/Users/Alan/Desktop/Data_Science_2/final_project/labels.csv\")"
   ]
  },
  {
   "cell_type": "code",
   "execution_count": 23,
   "metadata": {
    "scrolled": true
   },
   "outputs": [],
   "source": [
    "#y"
   ]
  },
  {
   "cell_type": "code",
   "execution_count": 24,
   "metadata": {},
   "outputs": [],
   "source": [
    "y = y.drop(['id'], axis=1)"
   ]
  },
  {
   "cell_type": "code",
   "execution_count": 25,
   "metadata": {},
   "outputs": [],
   "source": [
    "y['breed'] = pd.factorize(y['breed'])[0]"
   ]
  },
  {
   "cell_type": "code",
   "execution_count": 26,
   "metadata": {},
   "outputs": [],
   "source": [
    "#y"
   ]
  },
  {
   "cell_type": "code",
   "execution_count": 27,
   "metadata": {},
   "outputs": [],
   "source": [
    "y2 = y.breed.tolist()\n",
    "y = y.breed.tolist() + y.breed.tolist()\n",
    "X2 = np.asarray(listForX)"
   ]
  },
  {
   "cell_type": "code",
   "execution_count": 28,
   "metadata": {},
   "outputs": [
    {
     "data": {
      "text/plain": [
       "20444"
      ]
     },
     "execution_count": 28,
     "metadata": {},
     "output_type": "execute_result"
    }
   ],
   "source": [
    "len(y)"
   ]
  },
  {
   "cell_type": "code",
   "execution_count": 29,
   "metadata": {},
   "outputs": [],
   "source": [
    "#yTest = []\n",
    "#for x in range(0, 1000):\n",
    "   # yTest.append(y[x])\n"
   ]
  },
  {
   "cell_type": "code",
   "execution_count": 30,
   "metadata": {},
   "outputs": [],
   "source": [
    "X_train2, X_test2, y_train2, y_test2 = train_test_split(X2, y2, test_size=0.20, random_state=2)"
   ]
  },
  {
   "cell_type": "code",
   "execution_count": 31,
   "metadata": {},
   "outputs": [],
   "source": [
    "#y = yTest"
   ]
  },
  {
   "cell_type": "code",
   "execution_count": 32,
   "metadata": {
    "scrolled": true
   },
   "outputs": [],
   "source": [
    "X_train, X_test, y_train, y_test = train_test_split(X, y, test_size=0.20, random_state=2)"
   ]
  },
  {
   "cell_type": "code",
   "execution_count": 33,
   "metadata": {},
   "outputs": [],
   "source": [
    "X_train = X_train.reshape(X_train.shape[0], 64, 64, 3)\n",
    "X_test = X_test.reshape(X_test.shape[0], 64, 64, 3)\n",
    "X_train2 = X_train2.reshape(X_train2.shape[0], 64, 64, 3)\n",
    "X_test2 = X_test2.reshape(X_test2.shape[0], 64, 64, 3)"
   ]
  },
  {
   "cell_type": "code",
   "execution_count": 34,
   "metadata": {},
   "outputs": [],
   "source": [
    "y_train = np_utils.to_categorical(y_train, 120)\n",
    "y_test = np_utils.to_categorical(y_test, 120)"
   ]
  },
  {
   "cell_type": "code",
   "execution_count": 35,
   "metadata": {},
   "outputs": [],
   "source": [
    "y_train2 = np_utils.to_categorical(y_train2, 120)\n",
    "y_test2 = np_utils.to_categorical(y_test2, 120)"
   ]
  },
  {
   "cell_type": "code",
   "execution_count": 36,
   "metadata": {
    "scrolled": true
   },
   "outputs": [],
   "source": [
    "X_train = X_train.astype('float32')\n",
    "X_test = X_test.astype('float32')\n",
    "X_train /= 255\n",
    "X_test /= 255\n",
    "\n",
    "X_train2 = X_train2.astype('float32')\n",
    "X_test2 = X_test2.astype('float32')\n",
    "X_train2 /= 255\n",
    "X_test2 /= 255"
   ]
  },
  {
   "cell_type": "code",
   "execution_count": 37,
   "metadata": {},
   "outputs": [
    {
     "data": {
      "text/plain": [
       "(16355, 64, 64, 3)"
      ]
     },
     "execution_count": 37,
     "metadata": {},
     "output_type": "execute_result"
    }
   ],
   "source": [
    "X_train.shape"
   ]
  },
  {
   "cell_type": "code",
   "execution_count": 38,
   "metadata": {},
   "outputs": [],
   "source": [
    "model = Sequential()"
   ]
  },
  {
   "cell_type": "code",
   "execution_count": 39,
   "metadata": {},
   "outputs": [
    {
     "name": "stderr",
     "output_type": "stream",
     "text": [
      "INFO:plaidml:Opening device \"opencl_amd_gfx900.0\"\n"
     ]
    },
    {
     "name": "stdout",
     "output_type": "stream",
     "text": [
      "(None, 31, 31, 16)\n"
     ]
    }
   ],
   "source": [
    "model.add(Convolution2D(16, (3, 3), activation='relu', input_shape=(64,64,3)))\n",
    "model.add(MaxPooling2D(pool_size=(2,2)))\n",
    "#model.add(Dropout(0.25)) \n",
    "print(model.output_shape) # -> (None, 26, 26, 32)"
   ]
  },
  {
   "cell_type": "code",
   "execution_count": 40,
   "metadata": {},
   "outputs": [
    {
     "name": "stdout",
     "output_type": "stream",
     "text": [
      "(None, 6, 6, 64)\n"
     ]
    }
   ],
   "source": [
    "# more hidden layers:\n",
    "model.add(Convolution2D(32, (3, 3), activation='relu'))\n",
    "# Pooling Layer:\n",
    "model.add(MaxPooling2D(pool_size=(2,2)))\n",
    "#model.add(Dropout(0.25)) \n",
    "\n",
    "\n",
    "model.add(Convolution2D(64, (3, 3), activation='relu'))\n",
    "model.add(MaxPooling2D(pool_size=(2,2)))\n",
    "print(model.output_shape)\n",
    "\n",
    "# Dropout layer to avoid overfitting\n",
    "model.add(Dropout(0.25)) "
   ]
  },
  {
   "cell_type": "code",
   "execution_count": 41,
   "metadata": {},
   "outputs": [
    {
     "name": "stdout",
     "output_type": "stream",
     "text": [
      "(None, 2304)\n",
      "(None, 128)\n",
      "(None, 120)\n"
     ]
    }
   ],
   "source": [
    "# output Fully connected Dense layers:\n",
    "model.add(Flatten())\n",
    "print(model.output_shape)\n",
    "\n",
    "model.add(Dense(128, activation='relu'))\n",
    "print(model.output_shape)\n",
    "\n",
    "model.add(Dropout(0.5))\n",
    "model.add(Dense(120, activation='softmax'))\n",
    "print(model.output_shape)"
   ]
  },
  {
   "cell_type": "code",
   "execution_count": 42,
   "metadata": {},
   "outputs": [],
   "source": [
    "model.compile(loss='categorical_crossentropy',metrics=['accuracy'],\n",
    "              optimizer='adam')"
   ]
  },
  {
   "cell_type": "code",
   "execution_count": 43,
   "metadata": {},
   "outputs": [
    {
     "name": "stdout",
     "output_type": "stream",
     "text": [
      "_________________________________________________________________\n",
      "Layer (type)                 Output Shape              Param #   \n",
      "=================================================================\n",
      "conv2d_1 (Conv2D)            (None, 62, 62, 16)        448       \n",
      "_________________________________________________________________\n",
      "max_pooling2d_1 (MaxPooling2 (None, 31, 31, 16)        0         \n",
      "_________________________________________________________________\n",
      "conv2d_2 (Conv2D)            (None, 29, 29, 32)        4640      \n",
      "_________________________________________________________________\n",
      "max_pooling2d_2 (MaxPooling2 (None, 14, 14, 32)        0         \n",
      "_________________________________________________________________\n",
      "conv2d_3 (Conv2D)            (None, 12, 12, 64)        18496     \n",
      "_________________________________________________________________\n",
      "max_pooling2d_3 (MaxPooling2 (None, 6, 6, 64)          0         \n",
      "_________________________________________________________________\n",
      "dropout_1 (Dropout)          (None, 6, 6, 64)          0         \n",
      "_________________________________________________________________\n",
      "flatten_1 (Flatten)          (None, 2304)              0         \n",
      "_________________________________________________________________\n",
      "dense_1 (Dense)              (None, 128)               295040    \n",
      "_________________________________________________________________\n",
      "dropout_2 (Dropout)          (None, 128)               0         \n",
      "_________________________________________________________________\n",
      "dense_2 (Dense)              (None, 120)               15480     \n",
      "=================================================================\n",
      "Total params: 334,104\n",
      "Trainable params: 334,104\n",
      "Non-trainable params: 0\n",
      "_________________________________________________________________\n",
      "None\n"
     ]
    }
   ],
   "source": [
    "print(model.summary())"
   ]
  },
  {
   "cell_type": "code",
   "execution_count": 44,
   "metadata": {},
   "outputs": [
    {
     "data": {
      "text/plain": [
       "(16355, 64, 64, 3)"
      ]
     },
     "execution_count": 44,
     "metadata": {},
     "output_type": "execute_result"
    }
   ],
   "source": [
    "X_train.shape"
   ]
  },
  {
   "cell_type": "code",
   "execution_count": 45,
   "metadata": {},
   "outputs": [
    {
     "data": {
      "text/plain": [
       "(16355, 120)"
      ]
     },
     "execution_count": 45,
     "metadata": {},
     "output_type": "execute_result"
    }
   ],
   "source": [
    "y_train.shape"
   ]
  },
  {
   "cell_type": "code",
   "execution_count": 46,
   "metadata": {
    "scrolled": true
   },
   "outputs": [
    {
     "name": "stdout",
     "output_type": "stream",
     "text": [
      "Train on 14719 samples, validate on 1636 samples\n",
      "Epoch 1/50\n",
      "14719/14719 [==============================] - 23s 2ms/step - loss: 4.7655 - acc: 0.0138 - val_loss: 4.6830 - val_acc: 0.0214\n",
      "Epoch 2/50\n",
      "14719/14719 [==============================] - 5s 373us/step - loss: 4.5844 - acc: 0.0296 - val_loss: 4.4096 - val_acc: 0.0397\n",
      "Epoch 3/50\n",
      "14719/14719 [==============================] - 5s 366us/step - loss: 4.4356 - acc: 0.0351 - val_loss: 4.3077 - val_acc: 0.0599\n",
      "Epoch 4/50\n",
      "14719/14719 [==============================] - 6s 405us/step - loss: 4.3346 - acc: 0.0498 - val_loss: 4.2786 - val_acc: 0.0672\n",
      "Epoch 5/50\n",
      "14719/14719 [==============================] - 6s 389us/step - loss: 4.2492 - acc: 0.0604 - val_loss: 4.1745 - val_acc: 0.0727\n",
      "Epoch 6/50\n",
      "14719/14719 [==============================] - 6s 374us/step - loss: 4.1636 - acc: 0.0669 - val_loss: 4.1103 - val_acc: 0.0776\n",
      "Epoch 7/50\n",
      "14719/14719 [==============================] - 5s 369us/step - loss: 4.0914 - acc: 0.0758 - val_loss: 4.0595 - val_acc: 0.0862\n",
      "Epoch 8/50\n",
      "14719/14719 [==============================] - 6s 388us/step - loss: 4.0162 - acc: 0.0848 - val_loss: 4.0148 - val_acc: 0.0899\n",
      "Epoch 9/50\n",
      "14719/14719 [==============================] - 6s 406us/step - loss: 3.9537 - acc: 0.0947 - val_loss: 3.9751 - val_acc: 0.0874\n",
      "Epoch 10/50\n",
      "14719/14719 [==============================] - 6s 398us/step - loss: 3.8837 - acc: 0.1050 - val_loss: 3.9911 - val_acc: 0.0911\n",
      "Epoch 11/50\n",
      "14719/14719 [==============================] - 6s 384us/step - loss: 3.8055 - acc: 0.1171 - val_loss: 3.9148 - val_acc: 0.1045\n",
      "Epoch 12/50\n",
      "14719/14719 [==============================] - 6s 396us/step - loss: 3.7529 - acc: 0.1222 - val_loss: 3.8976 - val_acc: 0.1106\n",
      "Epoch 13/50\n",
      "14719/14719 [==============================] - 6s 428us/step - loss: 3.6801 - acc: 0.1334 - val_loss: 3.8610 - val_acc: 0.1112\n",
      "Epoch 14/50\n",
      "14719/14719 [==============================] - 6s 411us/step - loss: 3.6124 - acc: 0.1409 - val_loss: 3.8668 - val_acc: 0.1088\n",
      "Epoch 15/50\n",
      "14719/14719 [==============================] - 6s 388us/step - loss: 3.5426 - acc: 0.1573 - val_loss: 3.8511 - val_acc: 0.1216\n",
      "Epoch 16/50\n",
      "14719/14719 [==============================] - 6s 383us/step - loss: 3.4637 - acc: 0.1631 - val_loss: 3.8219 - val_acc: 0.1210\n",
      "Epoch 17/50\n",
      "14719/14719 [==============================] - 6s 377us/step - loss: 3.4082 - acc: 0.1710 - val_loss: 3.8309 - val_acc: 0.1167\n",
      "Epoch 18/50\n",
      "14719/14719 [==============================] - 6s 377us/step - loss: 3.3660 - acc: 0.1861 - val_loss: 3.8444 - val_acc: 0.1125\n",
      "Epoch 19/50\n",
      "14719/14719 [==============================] - 6s 413us/step - loss: 3.3073 - acc: 0.1898 - val_loss: 3.8280 - val_acc: 0.1265\n",
      "Epoch 20/50\n",
      "14719/14719 [==============================] - 6s 390us/step - loss: 3.2555 - acc: 0.1989 - val_loss: 3.8136 - val_acc: 0.1204\n",
      "Epoch 21/50\n",
      "14719/14719 [==============================] - 6s 377us/step - loss: 3.1986 - acc: 0.2092 - val_loss: 3.8161 - val_acc: 0.1308\n",
      "Epoch 22/50\n",
      "14719/14719 [==============================] - 6s 428us/step - loss: 3.1402 - acc: 0.2187 - val_loss: 3.8115 - val_acc: 0.1259\n",
      "Epoch 23/50\n",
      "14719/14719 [==============================] - 6s 404us/step - loss: 3.0945 - acc: 0.2254 - val_loss: 3.8254 - val_acc: 0.1290\n",
      "Epoch 24/50\n",
      "14719/14719 [==============================] - 6s 390us/step - loss: 3.0519 - acc: 0.2341 - val_loss: 3.8262 - val_acc: 0.1296\n",
      "Epoch 25/50\n",
      "14719/14719 [==============================] - 6s 415us/step - loss: 3.0072 - acc: 0.2428 - val_loss: 3.8453 - val_acc: 0.1210\n",
      "Epoch 26/50\n",
      "14719/14719 [==============================] - 6s 400us/step - loss: 2.9611 - acc: 0.2492 - val_loss: 3.8278 - val_acc: 0.1296\n",
      "Epoch 27/50\n",
      "14719/14719 [==============================] - 6s 394us/step - loss: 2.9335 - acc: 0.2553 - val_loss: 3.8542 - val_acc: 0.1253\n",
      "Epoch 28/50\n",
      "14719/14719 [==============================] - 6s 375us/step - loss: 2.9099 - acc: 0.2538 - val_loss: 3.8231 - val_acc: 0.1235\n",
      "Epoch 29/50\n",
      "14719/14719 [==============================] - 6s 384us/step - loss: 2.8518 - acc: 0.2711 - val_loss: 3.8266 - val_acc: 0.1296\n",
      "Epoch 30/50\n",
      "14719/14719 [==============================] - 6s 399us/step - loss: 2.8276 - acc: 0.2731 - val_loss: 3.8526 - val_acc: 0.1351\n",
      "Epoch 31/50\n",
      "14719/14719 [==============================] - 6s 384us/step - loss: 2.7941 - acc: 0.2777 - val_loss: 3.8552 - val_acc: 0.1210\n",
      "Epoch 32/50\n",
      "14719/14719 [==============================] - 6s 394us/step - loss: 2.7879 - acc: 0.2809 - val_loss: 3.8569 - val_acc: 0.1259\n",
      "Epoch 33/50\n",
      "14719/14719 [==============================] - 6s 411us/step - loss: 2.7149 - acc: 0.2970 - val_loss: 3.8487 - val_acc: 0.1406\n",
      "Epoch 34/50\n",
      "14719/14719 [==============================] - 6s 401us/step - loss: 2.6989 - acc: 0.2983 - val_loss: 3.8613 - val_acc: 0.1302\n",
      "Epoch 35/50\n",
      "14719/14719 [==============================] - 6s 412us/step - loss: 2.6904 - acc: 0.2969 - val_loss: 3.8755 - val_acc: 0.1241\n",
      "Epoch 36/50\n",
      "14719/14719 [==============================] - 6s 419us/step - loss: 2.6485 - acc: 0.3051 - val_loss: 3.9179 - val_acc: 0.1265\n",
      "Epoch 37/50\n",
      "14719/14719 [==============================] - 6s 415us/step - loss: 2.6225 - acc: 0.3129 - val_loss: 3.8777 - val_acc: 0.1357\n",
      "Epoch 38/50\n",
      "14719/14719 [==============================] - 6s 408us/step - loss: 2.6165 - acc: 0.3150 - val_loss: 3.9135 - val_acc: 0.1308\n",
      "Epoch 39/50\n",
      "14719/14719 [==============================] - 6s 395us/step - loss: 2.5864 - acc: 0.3150 - val_loss: 3.8734 - val_acc: 0.1436\n",
      "Epoch 40/50\n",
      "14719/14719 [==============================] - 6s 377us/step - loss: 2.5511 - acc: 0.3200 - val_loss: 3.9319 - val_acc: 0.1290\n",
      "Epoch 41/50\n",
      "14719/14719 [==============================] - 6s 378us/step - loss: 2.5430 - acc: 0.3205 - val_loss: 3.9260 - val_acc: 0.1308\n",
      "Epoch 42/50\n",
      "14719/14719 [==============================] - 6s 404us/step - loss: 2.5349 - acc: 0.3295 - val_loss: 3.9533 - val_acc: 0.1290\n",
      "Epoch 43/50\n",
      "14719/14719 [==============================] - 6s 406us/step - loss: 2.4953 - acc: 0.3371 - val_loss: 3.9075 - val_acc: 0.1308\n",
      "Epoch 44/50\n",
      "14719/14719 [==============================] - 6s 389us/step - loss: 2.4825 - acc: 0.3398 - val_loss: 3.9211 - val_acc: 0.1284\n",
      "Epoch 45/50\n",
      "14719/14719 [==============================] - 6s 395us/step - loss: 2.4757 - acc: 0.3409 - val_loss: 3.9431 - val_acc: 0.1339\n",
      "Epoch 46/50\n",
      "14719/14719 [==============================] - 6s 374us/step - loss: 2.4497 - acc: 0.3449 - val_loss: 3.9713 - val_acc: 0.1314\n",
      "Epoch 47/50\n",
      "14719/14719 [==============================] - 6s 395us/step - loss: 2.4311 - acc: 0.3464 - val_loss: 3.9288 - val_acc: 0.1351\n",
      "Epoch 48/50\n",
      "14719/14719 [==============================] - 6s 406us/step - loss: 2.4170 - acc: 0.3512 - val_loss: 3.9444 - val_acc: 0.1259\n",
      "Epoch 49/50\n",
      "14719/14719 [==============================] - 6s 408us/step - loss: 2.4015 - acc: 0.3583 - val_loss: 3.9763 - val_acc: 0.1357\n",
      "Epoch 50/50\n",
      "14719/14719 [==============================] - 6s 387us/step - loss: 2.3840 - acc: 0.3610 - val_loss: 3.9634 - val_acc: 0.1296\n"
     ]
    }
   ],
   "source": [
    "from keras.callbacks import EarlyStopping\n",
    "\n",
    "fitted_model = model.fit(X_train, y_train, validation_split=0.1, batch_size=64, epochs=50, shuffle=True, verbose=1)"
   ]
  },
  {
   "cell_type": "code",
   "execution_count": null,
   "metadata": {},
   "outputs": [],
   "source": []
  },
  {
   "cell_type": "code",
   "execution_count": 47,
   "metadata": {},
   "outputs": [
    {
     "data": {
      "text/plain": [
       "<matplotlib.legend.Legend at 0x17785ce9c48>"
      ]
     },
     "execution_count": 47,
     "metadata": {},
     "output_type": "execute_result"
    },
    {
     "data": {
      "image/png": "[encoded data removed]",
      "text/plain": [
       "<Figure size 432x288 with 1 Axes>"
      ]
     },
     "metadata": {
      "needs_background": "light"
     },
     "output_type": "display_data"
    },
    {
     "data": {
      "image/png": "[encoded data removed]",
      "text/plain": [
       "<Figure size 432x288 with 1 Axes>"
      ]
     },
     "metadata": {
      "needs_background": "light"
     },
     "output_type": "display_data"
    }
   ],
   "source": [
    "import matplotlib.pyplot as plt\n",
    "\n",
    "%matplotlib inline\n",
    "\n",
    "accuracy = fitted_model.history['acc']\n",
    "#val_accuracy = history.history['val_acc']\n",
    "loss = fitted_model.history['loss']\n",
    "#val_loss = history.history['val_loss']\n",
    "epochs = range(len(accuracy))\n",
    "plt.plot(epochs, accuracy, 'b-', label='Training accuracy')\n",
    "#plt.plot(epochs, val_accuracy, 'b', label='Validation accuracy')\n",
    "plt.title('Training and validation accuracy')\n",
    "plt.legend()\n",
    "plt.figure()\n",
    "plt.plot(epochs, loss, 'r-', label='Training loss')\n",
    "#plt.plot(epochs, val_loss, 'b', label='Validation loss')\n",
    "plt.title('Training and validation loss')\n",
    "plt.legend()\n",
    "# plt.show()"
   ]
  },
  {
   "cell_type": "code",
   "execution_count": 48,
   "metadata": {
    "scrolled": false
   },
   "outputs": [
    {
     "name": "stdout",
     "output_type": "stream",
     "text": [
      "4089/4089 [==============================] - 4s 933us/step\n",
      "(4089, 120)\n"
     ]
    }
   ],
   "source": [
    "y_pridict = model.predict(X_test, verbose=1)\n",
    "print (y_pridict.shape)"
   ]
  },
  {
   "cell_type": "code",
   "execution_count": 49,
   "metadata": {
    "scrolled": true
   },
   "outputs": [],
   "source": [
    "#y_pridict"
   ]
  },
  {
   "cell_type": "code",
   "execution_count": 53,
   "metadata": {
    "scrolled": false
   },
   "outputs": [
    {
     "name": "stdout",
     "output_type": "stream",
     "text": [
      "4089/4089 [==============================] - 1s 168us/step\n",
      "The accuracy is:  0.13548544875404658\n"
     ]
    }
   ],
   "source": [
    "score = model.evaluate(X_test, y_test, verbose=1)\n",
    "print('The accuracy is: ', score[1])"
   ]
  },
  {
   "cell_type": "code",
   "execution_count": 54,
   "metadata": {
    "scrolled": false
   },
   "outputs": [
    {
     "name": "stdout",
     "output_type": "stream",
     "text": [
      "2045/2045 [==============================] - 0s 161us/step\n",
      "The accuracy is:  0.6312958437539546\n"
     ]
    }
   ],
   "source": [
    "score = model.evaluate(X_test2, y_test2, verbose=1)\n",
    "print('The accuracy is: ', score[1])"
   ]
  },
  {
   "cell_type": "code",
   "execution_count": null,
   "metadata": {},
   "outputs": [],
   "source": []
  }
 ],
 "metadata": {
  "kernelspec": {
   "display_name": "Python 3",
   "language": "python",
   "name": "python3"
  },
  "language_info": {
   "codemirror_mode": {
    "name": "ipython",
    "version": 3
   },
   "file_extension": ".py",
   "mimetype": "text/x-python",
   "name": "python",
   "nbconvert_exporter": "python",
   "pygments_lexer": "ipython3",
   "version": "3.7.4"
  }
 },
 "nbformat": 4,
 "nbformat_minor": 2
}
