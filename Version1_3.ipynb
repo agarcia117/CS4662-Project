{
 "cells": [
  {
   "cell_type": "markdown",
   "metadata": {},
   "source": [
    "# Use this:<br> conda install pillow\n",
    "<br> This should fix PIL, I think"
   ]
  },
  {
   "cell_type": "code",
   "execution_count": 1,
   "metadata": {},
   "outputs": [],
   "source": [
    "import PIL.Image\n",
    "from numpy import asarray\n",
    "from PIL import Image\n",
    "from numpy import fliplr\n",
    "from numpy import flipud\n",
    "\n",
    "import plaidml.keras\n",
    "plaidml.keras.install_backend()\n",
    "\n",
    "#from tensorflow.keras import backend\n",
    "# \"Sequential\" model lets us to define a stack of neural network layers\n",
    "from keras.models import Sequential\n",
    "\n",
    "# import the \"core\" layers:\n",
    "from keras.layers import Dense, Dropout, Activation, Flatten\n",
    "import matplotlib.image as mpimg\n",
    "\n",
    "# CNN\n",
    "from keras.layers import Convolution2D, MaxPooling2D\n",
    "\n",
    "# import some utilities to transform our data\n",
    "from keras.utils import np_utils\n",
    "\n",
    "from sklearn.model_selection import train_test_split\n",
    "\n",
    "import tensorflow as tf\n",
    "import numpy as np\n",
    "import pandas as pd"
   ]
  },
  {
   "cell_type": "code",
   "execution_count": 2,
   "metadata": {},
   "outputs": [
    {
     "data": {
      "text/plain": [
       "'\\nimport os\\ncounter = 0\\nd = \"C:/Users/Alan/Desktop/Data_Science_2/final_project/train\"\\nfor path in os.listdir(d):\\n    full_path = os.path.join(d, path)\\n    if os.path.isfile(full_path):\\n        img = Image.open(full_path)\\n        maxsize = (64, 64)\\n        img = img.resize(maxsize, PIL.Image.ANTIALIAS)\\n        img.save(\\'resized_photos/\\'+ str(counter) + \\'.jpg\\')\\n        counter += 1\\n'"
      ]
     },
     "execution_count": 2,
     "metadata": {},
     "output_type": "execute_result"
    }
   ],
   "source": [
    "'''\n",
    "import os\n",
    "counter = 0\n",
    "d = \"C:/Users/Alan/Desktop/Data_Science_2/final_project/train\"\n",
    "for path in os.listdir(d):\n",
    "    full_path = os.path.join(d, path)\n",
    "    if os.path.isfile(full_path):\n",
    "        img = Image.open(full_path)\n",
    "        maxsize = (64, 64)\n",
    "        img = img.resize(maxsize, PIL.Image.ANTIALIAS)\n",
    "        img.save('resized_photos/'+ str(counter) + '.jpg')\n",
    "        counter += 1\n",
    "'''"
   ]
  },
  {
   "cell_type": "code",
   "execution_count": 3,
   "metadata": {
    "scrolled": true
   },
   "outputs": [],
   "source": [
    "listForX = []\n",
    "listForFlipX = []\n",
    "for x in range(0, 10222):\n",
    "    test = mpimg.imread(\"/Users/Alan/Desktop/Data_Science_2/final_project/resized_photos/\"+str(x)+\".jpg\")\n",
    "    testing = (test.reshape(1, 12288))\n",
    "    listForX.append(testing[0])\n",
    "    testFlip = fliplr(test)\n",
    "    testingFlip = (testFlip.reshape(1, 12288))\n",
    "    listForFlipX.append(testingFlip[0])"
   ]
  },
  {
   "cell_type": "code",
   "execution_count": 4,
   "metadata": {
    "scrolled": true
   },
   "outputs": [],
   "source": [
    "#listForFlipX[0]"
   ]
  },
  {
   "cell_type": "code",
   "execution_count": 5,
   "metadata": {},
   "outputs": [],
   "source": [
    "#listForX[0]"
   ]
  },
  {
   "cell_type": "code",
   "execution_count": 6,
   "metadata": {},
   "outputs": [],
   "source": [
    "#listForFlipVX[0]"
   ]
  },
  {
   "cell_type": "code",
   "execution_count": 7,
   "metadata": {},
   "outputs": [],
   "source": [
    "X = np.concatenate((listForX, listForFlipX), axis=0)"
   ]
  },
  {
   "cell_type": "code",
   "execution_count": 8,
   "metadata": {},
   "outputs": [],
   "source": [
    "#hello.shape"
   ]
  },
  {
   "cell_type": "code",
   "execution_count": 9,
   "metadata": {
    "scrolled": true
   },
   "outputs": [
    {
     "data": {
      "text/plain": [
       "(20444, 12288)"
      ]
     },
     "execution_count": 9,
     "metadata": {},
     "output_type": "execute_result"
    }
   ],
   "source": [
    "X.shape"
   ]
  },
  {
   "cell_type": "code",
   "execution_count": 50,
   "metadata": {},
   "outputs": [],
   "source": [
    "y = pd.read_csv(\"/Users/Alan/Desktop/Data_Science_2/final_project/labels.csv\")"
   ]
  },
  {
   "cell_type": "code",
   "execution_count": 51,
   "metadata": {},
   "outputs": [],
   "source": [
    "y = y.drop(['id'], axis=1)"
   ]
  },
  {
   "cell_type": "code",
   "execution_count": 52,
   "metadata": {},
   "outputs": [],
   "source": [
    "y['breed'] = pd.factorize(y['breed'])[0]"
   ]
  },
  {
   "cell_type": "code",
   "execution_count": 53,
   "metadata": {},
   "outputs": [],
   "source": [
    "y2 = y.breed.tolist()"
   ]
  },
  {
   "cell_type": "code",
   "execution_count": 54,
   "metadata": {},
   "outputs": [],
   "source": [
    "y = y.breed.tolist() + y.breed.tolist()"
   ]
  },
  {
   "cell_type": "code",
   "execution_count": 55,
   "metadata": {},
   "outputs": [],
   "source": [
    "X2 = np.asarray(listForX)"
   ]
  },
  {
   "cell_type": "code",
   "execution_count": 56,
   "metadata": {},
   "outputs": [
    {
     "data": {
      "text/plain": [
       "20444"
      ]
     },
     "execution_count": 56,
     "metadata": {},
     "output_type": "execute_result"
    }
   ],
   "source": [
    "len(y)"
   ]
  },
  {
   "cell_type": "code",
   "execution_count": 57,
   "metadata": {},
   "outputs": [],
   "source": [
    "X_train2, X_test2, y_train2, y_test2 = train_test_split(X2, y2, test_size=0.20, random_state=2)"
   ]
  },
  {
   "cell_type": "code",
   "execution_count": 58,
   "metadata": {},
   "outputs": [],
   "source": [
    "#y = yTest"
   ]
  },
  {
   "cell_type": "code",
   "execution_count": 59,
   "metadata": {
    "scrolled": true
   },
   "outputs": [],
   "source": [
    "X_train, X_test, y_train, y_test = train_test_split(X, y, test_size=0.10, random_state=2)"
   ]
  },
  {
   "cell_type": "code",
   "execution_count": 60,
   "metadata": {},
   "outputs": [],
   "source": [
    "X_train = X_train.reshape(X_train.shape[0], 64, 64, 3)\n",
    "X_test = X_test.reshape(X_test.shape[0], 64, 64, 3)\n",
    "\n",
    "X_train2 = X_train2.reshape(X_train2.shape[0], 64, 64, 3)\n",
    "X_test2 = X_test2.reshape(X_test2.shape[0], 64, 64, 3)"
   ]
  },
  {
   "cell_type": "code",
   "execution_count": 61,
   "metadata": {},
   "outputs": [],
   "source": [
    "y_train = np_utils.to_categorical(y_train, 120)\n",
    "y_test = np_utils.to_categorical(y_test, 120)\n",
    "\n",
    "y_train2 = np_utils.to_categorical(y_train2, 120)\n",
    "y_test2 = np_utils.to_categorical(y_test2, 120)"
   ]
  },
  {
   "cell_type": "code",
   "execution_count": 62,
   "metadata": {
    "scrolled": true
   },
   "outputs": [],
   "source": [
    "X_train = X_train.astype('float32')\n",
    "X_test = X_test.astype('float32')\n",
    "X_train /= 255\n",
    "X_test /= 255\n",
    "\n",
    "X_train2 = X_train2.astype('float32')\n",
    "X_test2 = X_test2.astype('float32')\n",
    "X_train2 /= 255\n",
    "X_test2 /= 255"
   ]
  },
  {
   "cell_type": "code",
   "execution_count": 22,
   "metadata": {},
   "outputs": [
    {
     "data": {
      "text/plain": [
       "(18399, 64, 64, 3)"
      ]
     },
     "execution_count": 22,
     "metadata": {},
     "output_type": "execute_result"
    }
   ],
   "source": [
    "X_train.shape"
   ]
  },
  {
   "cell_type": "code",
   "execution_count": 23,
   "metadata": {},
   "outputs": [],
   "source": [
    "model = Sequential()"
   ]
  },
  {
   "cell_type": "code",
   "execution_count": 24,
   "metadata": {},
   "outputs": [
    {
     "name": "stderr",
     "output_type": "stream",
     "text": [
      "INFO:plaidml:Opening device \"opencl_amd_gfx900.0\"\n"
     ]
    },
    {
     "name": "stdout",
     "output_type": "stream",
     "text": [
      "(None, 31, 31, 16)\n"
     ]
    }
   ],
   "source": [
    "model.add(Convolution2D(16, (3, 3), activation='relu', input_shape=(64,64,3)))\n",
    "model.add(MaxPooling2D(pool_size=(2,2)))\n",
    "model.add(Dropout(0.35)) \n",
    "print(model.output_shape) # -> (None, 26, 26, 32)"
   ]
  },
  {
   "cell_type": "code",
   "execution_count": 25,
   "metadata": {},
   "outputs": [
    {
     "name": "stdout",
     "output_type": "stream",
     "text": [
      "(None, 6, 6, 64)\n"
     ]
    }
   ],
   "source": [
    "# more hidden layers:\n",
    "model.add(Convolution2D(32, (3, 3), activation='relu'))\n",
    "# Pooling Layer:\n",
    "model.add(MaxPooling2D(pool_size=(2,2))) \n",
    "model.add(Dropout(0.35)) \n",
    "\n",
    "model.add(Convolution2D(64, (3, 3), activation='relu'))\n",
    "model.add(MaxPooling2D(pool_size=(2,2)))\n",
    "\n",
    "print(model.output_shape)\n",
    "\n",
    "# Dropout layer to avoid overfitting\n",
    "model.add(Dropout(0.35)) "
   ]
  },
  {
   "cell_type": "code",
   "execution_count": 26,
   "metadata": {},
   "outputs": [],
   "source": [
    "# output Fully connected Dense layers:\n",
    "model.add(Flatten())\n",
    "model.add(Dense(128, activation='relu'))\n",
    "model.add(Dropout(0.6))\n",
    "model.add(Dense(120, activation='softmax'))"
   ]
  },
  {
   "cell_type": "code",
   "execution_count": 27,
   "metadata": {},
   "outputs": [],
   "source": [
    "model.compile(loss='categorical_crossentropy',metrics=['accuracy'],\n",
    "              optimizer='adam')"
   ]
  },
  {
   "cell_type": "code",
   "execution_count": 28,
   "metadata": {},
   "outputs": [
    {
     "name": "stdout",
     "output_type": "stream",
     "text": [
      "_________________________________________________________________\n",
      "Layer (type)                 Output Shape              Param #   \n",
      "=================================================================\n",
      "conv2d_1 (Conv2D)            (None, 62, 62, 16)        448       \n",
      "_________________________________________________________________\n",
      "max_pooling2d_1 (MaxPooling2 (None, 31, 31, 16)        0         \n",
      "_________________________________________________________________\n",
      "dropout_1 (Dropout)          (None, 31, 31, 16)        0         \n",
      "_________________________________________________________________\n",
      "conv2d_2 (Conv2D)            (None, 29, 29, 32)        4640      \n",
      "_________________________________________________________________\n",
      "max_pooling2d_2 (MaxPooling2 (None, 14, 14, 32)        0         \n",
      "_________________________________________________________________\n",
      "dropout_2 (Dropout)          (None, 14, 14, 32)        0         \n",
      "_________________________________________________________________\n",
      "conv2d_3 (Conv2D)            (None, 12, 12, 64)        18496     \n",
      "_________________________________________________________________\n",
      "max_pooling2d_3 (MaxPooling2 (None, 6, 6, 64)          0         \n",
      "_________________________________________________________________\n",
      "dropout_3 (Dropout)          (None, 6, 6, 64)          0         \n",
      "_________________________________________________________________\n",
      "flatten_1 (Flatten)          (None, 2304)              0         \n",
      "_________________________________________________________________\n",
      "dense_1 (Dense)              (None, 128)               295040    \n",
      "_________________________________________________________________\n",
      "dropout_4 (Dropout)          (None, 128)               0         \n",
      "_________________________________________________________________\n",
      "dense_2 (Dense)              (None, 120)               15480     \n",
      "=================================================================\n",
      "Total params: 334,104\n",
      "Trainable params: 334,104\n",
      "Non-trainable params: 0\n",
      "_________________________________________________________________\n",
      "None\n"
     ]
    }
   ],
   "source": [
    "print(model.summary())"
   ]
  },
  {
   "cell_type": "code",
   "execution_count": 29,
   "metadata": {},
   "outputs": [
    {
     "data": {
      "text/plain": [
       "(18399, 64, 64, 3)"
      ]
     },
     "execution_count": 29,
     "metadata": {},
     "output_type": "execute_result"
    }
   ],
   "source": [
    "X_train.shape"
   ]
  },
  {
   "cell_type": "code",
   "execution_count": 30,
   "metadata": {},
   "outputs": [
    {
     "data": {
      "text/plain": [
       "(18399, 120)"
      ]
     },
     "execution_count": 30,
     "metadata": {},
     "output_type": "execute_result"
    }
   ],
   "source": [
    "y_train.shape"
   ]
  },
  {
   "cell_type": "code",
   "execution_count": 31,
   "metadata": {
    "scrolled": true
   },
   "outputs": [
    {
     "name": "stdout",
     "output_type": "stream",
     "text": [
      "Train on 16559 samples, validate on 1840 samples\n",
      "Epoch 1/60\n"
     ]
    },
    {
     "name": "stderr",
     "output_type": "stream",
     "text": [
      "INFO:plaidml:Analyzing Ops: 108 of 298 operations complete\n"
     ]
    },
    {
     "name": "stdout",
     "output_type": "stream",
     "text": [
      "16512/16559 [============================>.] - ETA: 0s - loss: 4.7873 - acc: 0.0102"
     ]
    },
    {
     "name": "stderr",
     "output_type": "stream",
     "text": [
      "INFO:plaidml:Analyzing Ops: 106 of 298 operations complete\n"
     ]
    },
    {
     "name": "stdout",
     "output_type": "stream",
     "text": [
      "16559/16559 [==============================] - 24s 1ms/step - loss: 4.7872 - acc: 0.0103 - val_loss: 4.7823 - val_acc: 0.0109\n",
      "Epoch 2/60\n",
      "16559/16559 [==============================] - 7s 415us/step - loss: 4.7470 - acc: 0.0153 - val_loss: 4.6714 - val_acc: 0.0304\n",
      "Epoch 3/60\n",
      "16559/16559 [==============================] - 7s 419us/step - loss: 4.6234 - acc: 0.0252 - val_loss: 4.5547 - val_acc: 0.0353\n",
      "Epoch 4/60\n",
      "16559/16559 [==============================] - 7s 403us/step - loss: 4.5121 - acc: 0.0348 - val_loss: 4.4234 - val_acc: 0.0446\n",
      "Epoch 5/60\n",
      "16559/16559 [==============================] - 7s 406us/step - loss: 4.4373 - acc: 0.0361 - val_loss: 4.3594 - val_acc: 0.0549\n",
      "Epoch 6/60\n",
      "16559/16559 [==============================] - 7s 400us/step - loss: 4.3849 - acc: 0.0396 - val_loss: 4.3475 - val_acc: 0.0533\n",
      "Epoch 7/60\n",
      "16559/16559 [==============================] - 7s 426us/step - loss: 4.3443 - acc: 0.0461 - val_loss: 4.3124 - val_acc: 0.0592\n",
      "Epoch 8/60\n",
      "16559/16559 [==============================] - 7s 424us/step - loss: 4.3096 - acc: 0.0470 - val_loss: 4.3060 - val_acc: 0.0500\n",
      "Epoch 9/60\n",
      "16559/16559 [==============================] - 7s 420us/step - loss: 4.2703 - acc: 0.0536 - val_loss: 4.2849 - val_acc: 0.0587\n",
      "Epoch 10/60\n",
      "16559/16559 [==============================] - 7s 418us/step - loss: 4.2470 - acc: 0.0574 - val_loss: 4.2015 - val_acc: 0.0777\n",
      "Epoch 11/60\n",
      "16559/16559 [==============================] - 7s 408us/step - loss: 4.2230 - acc: 0.0606 - val_loss: 4.2245 - val_acc: 0.0587\n",
      "Epoch 12/60\n",
      "16559/16559 [==============================] - 7s 401us/step - loss: 4.2001 - acc: 0.0624 - val_loss: 4.2377 - val_acc: 0.0554\n",
      "Epoch 13/60\n",
      "16559/16559 [==============================] - 6s 391us/step - loss: 4.1747 - acc: 0.0655 - val_loss: 4.1636 - val_acc: 0.0707\n",
      "Epoch 14/60\n",
      "16559/16559 [==============================] - 6s 379us/step - loss: 4.1545 - acc: 0.0643 - val_loss: 4.1737 - val_acc: 0.0668\n",
      "Epoch 15/60\n",
      "16559/16559 [==============================] - 6s 388us/step - loss: 4.1341 - acc: 0.0698 - val_loss: 4.1820 - val_acc: 0.0630\n",
      "Epoch 16/60\n",
      "16559/16559 [==============================] - 6s 392us/step - loss: 4.1161 - acc: 0.0709 - val_loss: 4.1524 - val_acc: 0.0641\n",
      "Epoch 17/60\n",
      "16559/16559 [==============================] - 6s 375us/step - loss: 4.1044 - acc: 0.0719 - val_loss: 4.1693 - val_acc: 0.0636\n",
      "Epoch 18/60\n",
      "16559/16559 [==============================] - 6s 375us/step - loss: 4.0895 - acc: 0.0723 - val_loss: 4.1581 - val_acc: 0.0696\n",
      "Epoch 19/60\n",
      "16559/16559 [==============================] - 6s 374us/step - loss: 4.0505 - acc: 0.0780 - val_loss: 4.1020 - val_acc: 0.0772\n",
      "Epoch 20/60\n",
      "16559/16559 [==============================] - 6s 375us/step - loss: 4.0600 - acc: 0.0779 - val_loss: 4.0883 - val_acc: 0.0739\n",
      "Epoch 21/60\n",
      "16559/16559 [==============================] - 6s 374us/step - loss: 4.0356 - acc: 0.0826 - val_loss: 4.0997 - val_acc: 0.0750\n",
      "Epoch 22/60\n",
      "16559/16559 [==============================] - 6s 374us/step - loss: 4.0199 - acc: 0.0847 - val_loss: 4.0687 - val_acc: 0.0766\n",
      "Epoch 23/60\n",
      "16559/16559 [==============================] - 6s 386us/step - loss: 3.9981 - acc: 0.0900 - val_loss: 4.0581 - val_acc: 0.0799\n",
      "Epoch 24/60\n",
      "16559/16559 [==============================] - 6s 384us/step - loss: 3.9838 - acc: 0.0874 - val_loss: 4.0370 - val_acc: 0.0891\n",
      "Epoch 25/60\n",
      "16559/16559 [==============================] - 6s 379us/step - loss: 3.9679 - acc: 0.0908 - val_loss: 4.0455 - val_acc: 0.0880\n",
      "Epoch 26/60\n",
      "16559/16559 [==============================] - 6s 390us/step - loss: 3.9575 - acc: 0.0916 - val_loss: 4.0177 - val_acc: 0.0891\n",
      "Epoch 27/60\n",
      "16559/16559 [==============================] - 7s 393us/step - loss: 3.9404 - acc: 0.0952 - val_loss: 4.0582 - val_acc: 0.0745\n",
      "Epoch 28/60\n",
      "16559/16559 [==============================] - 6s 384us/step - loss: 3.9285 - acc: 0.0951 - val_loss: 3.9504 - val_acc: 0.0989\n",
      "Epoch 29/60\n",
      "16559/16559 [==============================] - 6s 385us/step - loss: 3.9186 - acc: 0.0948 - val_loss: 4.0850 - val_acc: 0.0859\n",
      "Epoch 30/60\n",
      "16559/16559 [==============================] - 6s 383us/step - loss: 3.8959 - acc: 0.1002 - val_loss: 3.9824 - val_acc: 0.0946\n",
      "Epoch 31/60\n",
      "16559/16559 [==============================] - 6s 386us/step - loss: 3.8926 - acc: 0.0968 - val_loss: 4.0072 - val_acc: 0.0913\n",
      "Epoch 32/60\n",
      "16559/16559 [==============================] - 6s 381us/step - loss: 3.8678 - acc: 0.1045 - val_loss: 3.9799 - val_acc: 0.0913\n",
      "Epoch 33/60\n",
      "16559/16559 [==============================] - 6s 385us/step - loss: 3.8592 - acc: 0.1038 - val_loss: 3.9899 - val_acc: 0.0886\n",
      "Epoch 34/60\n",
      "16559/16559 [==============================] - 6s 382us/step - loss: 3.8399 - acc: 0.1075 - val_loss: 4.0164 - val_acc: 0.0918\n",
      "Epoch 35/60\n",
      "16559/16559 [==============================] - 6s 383us/step - loss: 3.8381 - acc: 0.1095 - val_loss: 4.0396 - val_acc: 0.0788\n",
      "Epoch 36/60\n",
      "16559/16559 [==============================] - 6s 386us/step - loss: 3.8243 - acc: 0.1103 - val_loss: 4.0069 - val_acc: 0.0891\n",
      "Epoch 37/60\n",
      "16559/16559 [==============================] - 6s 383us/step - loss: 3.7976 - acc: 0.1077 - val_loss: 3.9659 - val_acc: 0.0946\n",
      "Epoch 38/60\n",
      "16559/16559 [==============================] - 6s 387us/step - loss: 3.8054 - acc: 0.1129 - val_loss: 3.9160 - val_acc: 0.1016\n",
      "Epoch 39/60\n",
      "16559/16559 [==============================] - 7s 397us/step - loss: 3.7859 - acc: 0.1103 - val_loss: 3.9838 - val_acc: 0.0973\n",
      "Epoch 40/60\n",
      "16559/16559 [==============================] - 6s 386us/step - loss: 3.7692 - acc: 0.1152 - val_loss: 4.0070 - val_acc: 0.0842\n",
      "Epoch 41/60\n",
      "16559/16559 [==============================] - 7s 402us/step - loss: 3.7681 - acc: 0.1146 - val_loss: 3.9277 - val_acc: 0.0995\n",
      "Epoch 42/60\n",
      "16559/16559 [==============================] - 6s 389us/step - loss: 3.7556 - acc: 0.1184 - val_loss: 3.9018 - val_acc: 0.0995\n",
      "Epoch 43/60\n",
      "16559/16559 [==============================] - 6s 381us/step - loss: 3.7489 - acc: 0.1185 - val_loss: 3.9335 - val_acc: 0.1005\n",
      "Epoch 44/60\n",
      "16559/16559 [==============================] - 6s 383us/step - loss: 3.7406 - acc: 0.1201 - val_loss: 3.9609 - val_acc: 0.0946\n",
      "Epoch 45/60\n",
      "16559/16559 [==============================] - 6s 387us/step - loss: 3.7392 - acc: 0.1229 - val_loss: 3.9355 - val_acc: 0.0973\n",
      "Epoch 46/60\n",
      "16559/16559 [==============================] - 6s 385us/step - loss: 3.7178 - acc: 0.1243 - val_loss: 3.9394 - val_acc: 0.1011\n",
      "Epoch 47/60\n",
      "16559/16559 [==============================] - 6s 390us/step - loss: 3.7148 - acc: 0.1236 - val_loss: 3.9666 - val_acc: 0.1016\n",
      "Epoch 48/60\n",
      "16559/16559 [==============================] - 6s 376us/step - loss: 3.7062 - acc: 0.1288 - val_loss: 3.8997 - val_acc: 0.1125\n",
      "Epoch 49/60\n",
      "16559/16559 [==============================] - 6s 385us/step - loss: 3.6897 - acc: 0.1270 - val_loss: 3.9060 - val_acc: 0.1000\n",
      "Epoch 50/60\n",
      "16559/16559 [==============================] - 7s 409us/step - loss: 3.6865 - acc: 0.1272 - val_loss: 3.9349 - val_acc: 0.0978\n",
      "Epoch 51/60\n",
      "16559/16559 [==============================] - 7s 394us/step - loss: 3.6720 - acc: 0.1298 - val_loss: 3.8593 - val_acc: 0.1136\n",
      "Epoch 52/60\n",
      "16559/16559 [==============================] - 6s 378us/step - loss: 3.6828 - acc: 0.1284 - val_loss: 3.9287 - val_acc: 0.0984\n",
      "Epoch 53/60\n",
      "16559/16559 [==============================] - 6s 390us/step - loss: 3.6529 - acc: 0.1314 - val_loss: 3.8972 - val_acc: 0.1114\n",
      "Epoch 54/60\n",
      "16559/16559 [==============================] - 6s 378us/step - loss: 3.6416 - acc: 0.1306 - val_loss: 3.9053 - val_acc: 0.1076\n",
      "Epoch 55/60\n",
      "16559/16559 [==============================] - 6s 375us/step - loss: 3.6454 - acc: 0.1333 - val_loss: 3.9097 - val_acc: 0.1049\n",
      "Epoch 56/60\n",
      "16559/16559 [==============================] - 6s 375us/step - loss: 3.6229 - acc: 0.1402 - val_loss: 3.8831 - val_acc: 0.1136\n",
      "Epoch 57/60\n",
      "16559/16559 [==============================] - 6s 388us/step - loss: 3.6322 - acc: 0.1327 - val_loss: 3.8436 - val_acc: 0.1120\n",
      "Epoch 58/60\n",
      "16559/16559 [==============================] - 7s 400us/step - loss: 3.6088 - acc: 0.1412 - val_loss: 3.8745 - val_acc: 0.1103\n",
      "Epoch 59/60\n",
      "16559/16559 [==============================] - 6s 385us/step - loss: 3.6064 - acc: 0.1404 - val_loss: 3.8770 - val_acc: 0.1087\n",
      "Epoch 60/60\n"
     ]
    },
    {
     "name": "stdout",
     "output_type": "stream",
     "text": [
      "16559/16559 [==============================] - 6s 385us/step - loss: 3.6043 - acc: 0.1370 - val_loss: 3.8845 - val_acc: 0.1082\n"
     ]
    }
   ],
   "source": [
    "from keras.callbacks import EarlyStopping\n",
    "\n",
    "fitted_model = model.fit(X_train, y_train, validation_split=0.1, batch_size=64, epochs=60, shuffle=True, verbose=1)"
   ]
  },
  {
   "cell_type": "code",
   "execution_count": 32,
   "metadata": {
    "scrolled": true
   },
   "outputs": [
    {
     "data": {
      "text/plain": [
       "<matplotlib.legend.Legend at 0x1931df867c8>"
      ]
     },
     "execution_count": 32,
     "metadata": {},
     "output_type": "execute_result"
    },
    {
     "data": {
      "image/png": "[encoded data removed]",
      "text/plain": [
       "<Figure size 432x288 with 1 Axes>"
      ]
     },
     "metadata": {
      "needs_background": "light"
     },
     "output_type": "display_data"
    },
    {
     "data": {
      "image/png": "[encoded data removed]",
      "text/plain": [
       "<Figure size 432x288 with 1 Axes>"
      ]
     },
     "metadata": {
      "needs_background": "light"
     },
     "output_type": "display_data"
    }
   ],
   "source": [
    "import matplotlib.pyplot as plt\n",
    "\n",
    "%matplotlib inline\n",
    "\n",
    "accuracy = fitted_model.history['acc']\n",
    "#val_accuracy = history.history['val_acc']\n",
    "loss = fitted_model.history['loss']\n",
    "#val_loss = history.history['val_loss']\n",
    "epochs = range(len(accuracy))\n",
    "plt.plot(epochs, accuracy, 'b-', label='Training accuracy')\n",
    "#plt.plot(epochs, val_accuracy, 'b', label='Validation accuracy')\n",
    "plt.title('Training and validation accuracy')\n",
    "plt.legend()\n",
    "plt.figure()\n",
    "plt.plot(epochs, loss, 'r-', label='Training loss')\n",
    "#plt.plot(epochs, val_loss, 'b', label='Validation loss')\n",
    "plt.title('Training and validation loss')\n",
    "plt.legend()\n",
    "# plt.show()"
   ]
  },
  {
   "cell_type": "code",
   "execution_count": 33,
   "metadata": {
    "scrolled": false
   },
   "outputs": [
    {
     "name": "stdout",
     "output_type": "stream",
     "text": [
      "2045/2045 [==============================] - 4s 2ms/step\n",
      "(2045, 120)\n"
     ]
    }
   ],
   "source": [
    "y_pridict = model.predict(X_test, verbose=1)\n",
    "print (y_pridict.shape)"
   ]
  },
  {
   "cell_type": "code",
   "execution_count": 34,
   "metadata": {
    "scrolled": true
   },
   "outputs": [],
   "source": [
    "#y_pridict"
   ]
  },
  {
   "cell_type": "code",
   "execution_count": 35,
   "metadata": {
    "scrolled": true
   },
   "outputs": [
    {
     "name": "stdout",
     "output_type": "stream",
     "text": [
      "2045/2045 [==============================] - 4s 2ms/step\n",
      "The accuracy is:  0.10953545231909508\n"
     ]
    }
   ],
   "source": [
    "score = model.evaluate(X_test, y_test, verbose=1)\n",
    "print('The accuracy is: ', score[1])"
   ]
  },
  {
   "cell_type": "code",
   "execution_count": 63,
   "metadata": {},
   "outputs": [
    {
     "name": "stdout",
     "output_type": "stream",
     "text": [
      "2045/2045 [==============================] - 0s 179us/step\n",
      "The accuracy is:  0.21075794619569568\n"
     ]
    }
   ],
   "source": [
    "score = model.evaluate(X_test2, y_test2, verbose=1)\n",
    "print('The accuracy is: ', score[1])"
   ]
  },
  {
   "cell_type": "code",
   "execution_count": null,
   "metadata": {},
   "outputs": [],
   "source": []
  }
 ],
 "metadata": {
  "kernelspec": {
   "display_name": "Python 3",
   "language": "python",
   "name": "python3"
  },
  "language_info": {
   "codemirror_mode": {
    "name": "ipython",
    "version": 3
   },
   "file_extension": ".py",
   "mimetype": "text/x-python",
   "name": "python",
   "nbconvert_exporter": "python",
   "pygments_lexer": "ipython3",
   "version": "3.7.4"
  }
 },
 "nbformat": 4,
 "nbformat_minor": 2
}
