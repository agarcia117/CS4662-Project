{
 "cells": [
  {
   "cell_type": "markdown",
   "metadata": {},
   "source": [
    "# Use this:<br> conda install pillow\n",
    "<br> This should fix PIL, I think"
   ]
  },
  {
   "cell_type": "code",
   "execution_count": 1,
   "metadata": {},
   "outputs": [],
   "source": [
    "import PIL.Image\n",
    "from numpy import asarray\n",
    "from PIL import Image\n",
    "from numpy import fliplr\n",
    "\n",
    "import plaidml.keras\n",
    "plaidml.keras.install_backend()\n",
    "\n",
    "#from tensorflow.keras import backend\n",
    "# \"Sequential\" model lets us to define a stack of neural network layers\n",
    "from keras.models import Sequential\n",
    "\n",
    "# import the \"core\" layers:\n",
    "from keras.layers import Dense, Dropout, Activation, Flatten\n",
    "import matplotlib.image as mpimg\n",
    "\n",
    "# CNN\n",
    "from keras.layers import Convolution2D, MaxPooling2D\n",
    "\n",
    "# import some utilities to transform our data\n",
    "from keras.utils import np_utils\n",
    "\n",
    "from sklearn.model_selection import train_test_split\n",
    "\n",
    "import tensorflow as tf\n",
    "import numpy as np\n",
    "import pandas as pd"
   ]
  },
  {
   "cell_type": "code",
   "execution_count": 2,
   "metadata": {},
   "outputs": [],
   "source": [
    "#import os\n",
    "#counter = 0\n",
    "#d = \"C:/Users/Alan/Desktop/Data_Science_2/final_project/train\"\n",
    "#for path in os.listdir(d):\n",
    "    #full_path = os.path.join(d, path)\n",
    "    #if os.path.isfile(full_path):\n",
    "        #print(full_path)\n",
    "        #img = Image.open(full_path)\n",
    "        #maxsize = (32, 32)\n",
    "        #img = img.resize(maxsize, PIL.Image.ANTIALIAS)\n",
    "        #img.save('resized_photos/'+ str(counter) + '.jpg')\n",
    "        #counter += 1"
   ]
  },
  {
   "cell_type": "code",
   "execution_count": 4,
   "metadata": {
    "scrolled": true
   },
   "outputs": [],
   "source": [
    "listForX = []\n",
    "listForFlipX = []\n",
    "for x in range(0, 10222):\n",
    "    test = mpimg.imread(\"/Users/Alan/Desktop/Data_Science_2/final_project/resized_photos/\"+str(x)+\".jpg\")\n",
    "    testing = (test.reshape(1, 3072))\n",
    "    testFlip = fliplr(test)\n",
    "    testingFlip = (testFlip.reshape(1, 3072))\n",
    "    listForFlipX.append(testingFlip[0])\n",
    "    listForX.append(testing[0])"
   ]
  },
  {
   "cell_type": "code",
   "execution_count": 5,
   "metadata": {},
   "outputs": [
    {
     "data": {
      "text/plain": [
       "array([207, 158,  91, ..., 183, 127,  94], dtype=uint8)"
      ]
     },
     "execution_count": 5,
     "metadata": {},
     "output_type": "execute_result"
    }
   ],
   "source": [
    "listForFlipX[0]"
   ]
  },
  {
   "cell_type": "code",
   "execution_count": 6,
   "metadata": {},
   "outputs": [
    {
     "data": {
      "text/plain": [
       "array([151, 141,  69, ..., 169, 105,  80], dtype=uint8)"
      ]
     },
     "execution_count": 6,
     "metadata": {},
     "output_type": "execute_result"
    }
   ],
   "source": [
    "listForX[0]"
   ]
  },
  {
   "cell_type": "code",
   "execution_count": 7,
   "metadata": {},
   "outputs": [],
   "source": [
    "X = np.concatenate((listForX, listForFlipX), axis=0)"
   ]
  },
  {
   "cell_type": "code",
   "execution_count": 8,
   "metadata": {},
   "outputs": [],
   "source": [
    "#hello.shape"
   ]
  },
  {
   "cell_type": "code",
   "execution_count": 9,
   "metadata": {},
   "outputs": [],
   "source": [
    "#df = pd.DataFrame(listForX)"
   ]
  },
  {
   "cell_type": "code",
   "execution_count": 10,
   "metadata": {},
   "outputs": [],
   "source": [
    "#df.values.tolist()"
   ]
  },
  {
   "cell_type": "code",
   "execution_count": 11,
   "metadata": {},
   "outputs": [],
   "source": [
    "#X = np.asarray(listForX).concat(np.asarray(listForFlipX))"
   ]
  },
  {
   "cell_type": "code",
   "execution_count": 12,
   "metadata": {},
   "outputs": [
    {
     "data": {
      "text/plain": [
       "(20444, 3072)"
      ]
     },
     "execution_count": 12,
     "metadata": {},
     "output_type": "execute_result"
    }
   ],
   "source": [
    "X.shape"
   ]
  },
  {
   "cell_type": "code",
   "execution_count": 13,
   "metadata": {},
   "outputs": [],
   "source": [
    "y = pd.read_csv(\"/Users/Alan/Desktop/Data_Science_2/final_project/labels.csv\")"
   ]
  },
  {
   "cell_type": "code",
   "execution_count": 14,
   "metadata": {
    "scrolled": true
   },
   "outputs": [],
   "source": [
    "#y"
   ]
  },
  {
   "cell_type": "code",
   "execution_count": 15,
   "metadata": {},
   "outputs": [],
   "source": [
    "y = y.drop(['id'], axis=1)"
   ]
  },
  {
   "cell_type": "code",
   "execution_count": 16,
   "metadata": {},
   "outputs": [],
   "source": [
    "y['breed'] = pd.factorize(y['breed'])[0]"
   ]
  },
  {
   "cell_type": "code",
   "execution_count": 17,
   "metadata": {},
   "outputs": [],
   "source": [
    "#y"
   ]
  },
  {
   "cell_type": "code",
   "execution_count": 18,
   "metadata": {},
   "outputs": [],
   "source": [
    "y = y.breed.tolist() + y.breed.tolist()"
   ]
  },
  {
   "cell_type": "code",
   "execution_count": 19,
   "metadata": {},
   "outputs": [
    {
     "data": {
      "text/plain": [
       "20444"
      ]
     },
     "execution_count": 19,
     "metadata": {},
     "output_type": "execute_result"
    }
   ],
   "source": [
    "len(y)"
   ]
  },
  {
   "cell_type": "code",
   "execution_count": 20,
   "metadata": {},
   "outputs": [],
   "source": [
    "#yTest = []\n",
    "#for x in range(0, 1000):\n",
    "   # yTest.append(y[x])\n"
   ]
  },
  {
   "cell_type": "code",
   "execution_count": null,
   "metadata": {},
   "outputs": [],
   "source": []
  },
  {
   "cell_type": "code",
   "execution_count": 21,
   "metadata": {},
   "outputs": [],
   "source": [
    "#y = yTest"
   ]
  },
  {
   "cell_type": "code",
   "execution_count": 22,
   "metadata": {
    "scrolled": true
   },
   "outputs": [],
   "source": [
    "X_train, X_test, y_train, y_test = train_test_split(X, y, test_size=0.20, random_state=2)"
   ]
  },
  {
   "cell_type": "code",
   "execution_count": 23,
   "metadata": {},
   "outputs": [],
   "source": [
    "X_train = X_train.reshape(X_train.shape[0], 32, 32, 3)\n",
    "X_test = X_test.reshape(X_test.shape[0], 32, 32, 3)"
   ]
  },
  {
   "cell_type": "code",
   "execution_count": 24,
   "metadata": {},
   "outputs": [],
   "source": [
    "y_train = np_utils.to_categorical(y_train, 120)\n",
    "y_test = np_utils.to_categorical(y_test, 120)"
   ]
  },
  {
   "cell_type": "code",
   "execution_count": 25,
   "metadata": {
    "scrolled": true
   },
   "outputs": [],
   "source": [
    "X_train = X_train.astype('float32')\n",
    "X_test = X_test.astype('float32')\n",
    "X_train /= 255\n",
    "X_test /= 255"
   ]
  },
  {
   "cell_type": "code",
   "execution_count": 26,
   "metadata": {},
   "outputs": [
    {
     "data": {
      "text/plain": [
       "(16355, 32, 32, 3)"
      ]
     },
     "execution_count": 26,
     "metadata": {},
     "output_type": "execute_result"
    }
   ],
   "source": [
    "X_train.shape"
   ]
  },
  {
   "cell_type": "code",
   "execution_count": 55,
   "metadata": {},
   "outputs": [],
   "source": [
    "model = Sequential()"
   ]
  },
  {
   "cell_type": "code",
   "execution_count": 56,
   "metadata": {},
   "outputs": [
    {
     "name": "stdout",
     "output_type": "stream",
     "text": [
      "(None, 15, 15, 16)\n"
     ]
    }
   ],
   "source": [
    "model.add(Convolution2D(16, (3, 3), activation='relu', input_shape=(32,32,3)))\n",
    "model.add(MaxPooling2D(pool_size=(2,2)))\n",
    "#model.add(Dropout(0.25)) \n",
    "print(model.output_shape) # -> (None, 26, 26, 32)"
   ]
  },
  {
   "cell_type": "code",
   "execution_count": 57,
   "metadata": {},
   "outputs": [
    {
     "name": "stdout",
     "output_type": "stream",
     "text": [
      "(None, 2, 2, 64)\n"
     ]
    }
   ],
   "source": [
    "# more hidden layers:\n",
    "model.add(Convolution2D(32, (3, 3), activation='relu'))\n",
    "# Pooling Layer:\n",
    "model.add(MaxPooling2D(pool_size=(2,2)))\n",
    "#model.add(Dropout(0.25)) \n",
    "\n",
    "\n",
    "model.add(Convolution2D(64, (3, 3), activation='relu'))\n",
    "model.add(MaxPooling2D(pool_size=(2,2)))\n",
    "print(model.output_shape)\n",
    "\n",
    "# Dropout layer to avoid overfitting\n",
    "model.add(Dropout(0.25)) "
   ]
  },
  {
   "cell_type": "code",
   "execution_count": 58,
   "metadata": {},
   "outputs": [
    {
     "name": "stdout",
     "output_type": "stream",
     "text": [
      "(None, 256)\n",
      "(None, 128)\n",
      "(None, 120)\n"
     ]
    }
   ],
   "source": [
    "# output Fully connected Dense layers:\n",
    "model.add(Flatten())\n",
    "print(model.output_shape)\n",
    "\n",
    "model.add(Dense(128, activation='relu'))\n",
    "print(model.output_shape)\n",
    "\n",
    "model.add(Dropout(0.5))\n",
    "model.add(Dense(120, activation='softmax'))\n",
    "print(model.output_shape)"
   ]
  },
  {
   "cell_type": "code",
   "execution_count": 59,
   "metadata": {},
   "outputs": [],
   "source": [
    "model.compile(loss='categorical_crossentropy',metrics=['accuracy'],\n",
    "              optimizer='adam')"
   ]
  },
  {
   "cell_type": "code",
   "execution_count": 60,
   "metadata": {},
   "outputs": [
    {
     "name": "stdout",
     "output_type": "stream",
     "text": [
      "_________________________________________________________________\n",
      "Layer (type)                 Output Shape              Param #   \n",
      "=================================================================\n",
      "conv2d_6 (Conv2D)            (None, 30, 30, 16)        448       \n",
      "_________________________________________________________________\n",
      "max_pooling2d_6 (MaxPooling2 (None, 15, 15, 16)        0         \n",
      "_________________________________________________________________\n",
      "dropout_6 (Dropout)          (None, 15, 15, 16)        0         \n",
      "_________________________________________________________________\n",
      "conv2d_7 (Conv2D)            (None, 13, 13, 32)        4640      \n",
      "_________________________________________________________________\n",
      "max_pooling2d_7 (MaxPooling2 (None, 6, 6, 32)          0         \n",
      "_________________________________________________________________\n",
      "dropout_7 (Dropout)          (None, 6, 6, 32)          0         \n",
      "_________________________________________________________________\n",
      "conv2d_8 (Conv2D)            (None, 4, 4, 64)          18496     \n",
      "_________________________________________________________________\n",
      "max_pooling2d_8 (MaxPooling2 (None, 2, 2, 64)          0         \n",
      "_________________________________________________________________\n",
      "flatten_3 (Flatten)          (None, 256)               0         \n",
      "_________________________________________________________________\n",
      "dense_5 (Dense)              (None, 128)               32896     \n",
      "_________________________________________________________________\n",
      "dropout_8 (Dropout)          (None, 128)               0         \n",
      "_________________________________________________________________\n",
      "dense_6 (Dense)              (None, 120)               15480     \n",
      "=================================================================\n",
      "Total params: 71,960\n",
      "Trainable params: 71,960\n",
      "Non-trainable params: 0\n",
      "_________________________________________________________________\n",
      "None\n"
     ]
    }
   ],
   "source": [
    "print(model.summary())"
   ]
  },
  {
   "cell_type": "code",
   "execution_count": 61,
   "metadata": {},
   "outputs": [
    {
     "data": {
      "text/plain": [
       "(16355, 32, 32, 3)"
      ]
     },
     "execution_count": 61,
     "metadata": {},
     "output_type": "execute_result"
    }
   ],
   "source": [
    "X_train.shape"
   ]
  },
  {
   "cell_type": "code",
   "execution_count": 62,
   "metadata": {},
   "outputs": [
    {
     "data": {
      "text/plain": [
       "(16355, 120)"
      ]
     },
     "execution_count": 62,
     "metadata": {},
     "output_type": "execute_result"
    }
   ],
   "source": [
    "y_train.shape"
   ]
  },
  {
   "cell_type": "code",
   "execution_count": 72,
   "metadata": {
    "scrolled": true
   },
   "outputs": [
    {
     "name": "stdout",
     "output_type": "stream",
     "text": [
      "Train on 14719 samples, validate on 1636 samples\n",
      "Epoch 1/50\n",
      "14719/14719 [==============================] - 4s 267us/step - loss: 3.5772 - acc: 0.1455 - val_loss: 3.7758 - val_acc: 0.1222\n",
      "Epoch 2/50\n",
      "14719/14719 [==============================] - 4s 262us/step - loss: 3.5772 - acc: 0.1467 - val_loss: 3.7607 - val_acc: 0.1278\n",
      "Epoch 3/50\n",
      "14719/14719 [==============================] - 4s 264us/step - loss: 3.5819 - acc: 0.1385 - val_loss: 3.7538 - val_acc: 0.1241\n",
      "Epoch 4/50\n",
      "14719/14719 [==============================] - 4s 260us/step - loss: 3.5693 - acc: 0.1476 - val_loss: 3.7358 - val_acc: 0.1296\n",
      "Epoch 5/50\n",
      "14719/14719 [==============================] - 4s 258us/step - loss: 3.5776 - acc: 0.1466 - val_loss: 3.7520 - val_acc: 0.1247\n",
      "Epoch 6/50\n",
      "14719/14719 [==============================] - 4s 257us/step - loss: 3.5538 - acc: 0.1473 - val_loss: 3.7314 - val_acc: 0.1357\n",
      "Epoch 7/50\n",
      "14719/14719 [==============================] - 4s 260us/step - loss: 3.5519 - acc: 0.1497 - val_loss: 3.7432 - val_acc: 0.1345\n",
      "Epoch 8/50\n",
      "14719/14719 [==============================] - 4s 258us/step - loss: 3.5435 - acc: 0.1448 - val_loss: 3.7363 - val_acc: 0.1357\n",
      "Epoch 9/50\n",
      "14719/14719 [==============================] - 4s 258us/step - loss: 3.5296 - acc: 0.1505 - val_loss: 3.7491 - val_acc: 0.1326\n",
      "Epoch 10/50\n",
      "14719/14719 [==============================] - 4s 261us/step - loss: 3.5394 - acc: 0.1472 - val_loss: 3.7332 - val_acc: 0.1278\n",
      "Epoch 11/50\n",
      "14719/14719 [==============================] - 4s 267us/step - loss: 3.5161 - acc: 0.1505 - val_loss: 3.7452 - val_acc: 0.1418\n",
      "Epoch 12/50\n",
      "14719/14719 [==============================] - 4s 271us/step - loss: 3.5124 - acc: 0.1533 - val_loss: 3.7123 - val_acc: 0.1388\n",
      "Epoch 13/50\n",
      "14719/14719 [==============================] - 4s 263us/step - loss: 3.5074 - acc: 0.1495 - val_loss: 3.7130 - val_acc: 0.1290\n",
      "Epoch 14/50\n",
      "14719/14719 [==============================] - 4s 259us/step - loss: 3.5003 - acc: 0.1520 - val_loss: 3.7321 - val_acc: 0.1278\n",
      "Epoch 15/50\n",
      "14719/14719 [==============================] - 4s 267us/step - loss: 3.5067 - acc: 0.1564 - val_loss: 3.7304 - val_acc: 0.1278\n",
      "Epoch 16/50\n",
      "14719/14719 [==============================] - 4s 268us/step - loss: 3.5045 - acc: 0.1562 - val_loss: 3.7328 - val_acc: 0.1314\n",
      "Epoch 17/50\n",
      "14719/14719 [==============================] - 4s 263us/step - loss: 3.4844 - acc: 0.1559 - val_loss: 3.7155 - val_acc: 0.1369\n",
      "Epoch 18/50\n",
      "14719/14719 [==============================] - 4s 258us/step - loss: 3.4872 - acc: 0.1515 - val_loss: 3.7184 - val_acc: 0.1278\n",
      "Epoch 19/50\n",
      "14719/14719 [==============================] - 4s 257us/step - loss: 3.4687 - acc: 0.1623 - val_loss: 3.7368 - val_acc: 0.1241\n",
      "Epoch 20/50\n",
      "14719/14719 [==============================] - 4s 261us/step - loss: 3.4889 - acc: 0.1567 - val_loss: 3.7561 - val_acc: 0.1222\n",
      "Epoch 21/50\n",
      "14719/14719 [==============================] - 4s 274us/step - loss: 3.4803 - acc: 0.1569 - val_loss: 3.7413 - val_acc: 0.1278\n",
      "Epoch 22/50\n",
      "14719/14719 [==============================] - 4s 277us/step - loss: 3.4767 - acc: 0.1573 - val_loss: 3.7156 - val_acc: 0.1357\n",
      "Epoch 23/50\n",
      "14719/14719 [==============================] - 4s 274us/step - loss: 3.4750 - acc: 0.1594 - val_loss: 3.7167 - val_acc: 0.1290\n",
      "Epoch 24/50\n",
      "14719/14719 [==============================] - 4s 269us/step - loss: 3.4703 - acc: 0.1580 - val_loss: 3.7305 - val_acc: 0.1271\n",
      "Epoch 25/50\n",
      "14719/14719 [==============================] - 4s 272us/step - loss: 3.4528 - acc: 0.1566 - val_loss: 3.7247 - val_acc: 0.1278\n",
      "Epoch 26/50\n",
      "14719/14719 [==============================] - 4s 269us/step - loss: 3.4669 - acc: 0.1607 - val_loss: 3.7039 - val_acc: 0.1375\n",
      "Epoch 27/50\n",
      "14719/14719 [==============================] - 4s 290us/step - loss: 3.4660 - acc: 0.1578 - val_loss: 3.7355 - val_acc: 0.1302\n",
      "Epoch 28/50\n",
      "14719/14719 [==============================] - 4s 282us/step - loss: 3.4457 - acc: 0.1606 - val_loss: 3.7113 - val_acc: 0.1302\n",
      "Epoch 29/50\n",
      "14719/14719 [==============================] - 4s 270us/step - loss: 3.4539 - acc: 0.1631 - val_loss: 3.7183 - val_acc: 0.1296\n",
      "Epoch 30/50\n",
      "14719/14719 [==============================] - 4s 265us/step - loss: 3.4448 - acc: 0.1590 - val_loss: 3.7069 - val_acc: 0.1381\n",
      "Epoch 31/50\n",
      "14719/14719 [==============================] - 4s 270us/step - loss: 3.4340 - acc: 0.1609 - val_loss: 3.7055 - val_acc: 0.1314\n",
      "Epoch 32/50\n",
      "14719/14719 [==============================] - 4s 264us/step - loss: 3.4467 - acc: 0.1612 - val_loss: 3.7252 - val_acc: 0.1278\n",
      "Epoch 33/50\n",
      "14719/14719 [==============================] - 4s 264us/step - loss: 3.4274 - acc: 0.1649 - val_loss: 3.7073 - val_acc: 0.1320\n",
      "Epoch 34/50\n",
      "14719/14719 [==============================] - 4s 268us/step - loss: 3.4402 - acc: 0.1588 - val_loss: 3.7054 - val_acc: 0.1302\n",
      "Epoch 35/50\n",
      "14719/14719 [==============================] - 4s 269us/step - loss: 3.4373 - acc: 0.1571 - val_loss: 3.7139 - val_acc: 0.1412\n",
      "Epoch 36/50\n",
      "14719/14719 [==============================] - 4s 279us/step - loss: 3.4188 - acc: 0.1626 - val_loss: 3.7321 - val_acc: 0.1339\n",
      "Epoch 37/50\n",
      "14719/14719 [==============================] - 4s 268us/step - loss: 3.4123 - acc: 0.1650 - val_loss: 3.6974 - val_acc: 0.1375\n",
      "Epoch 38/50\n",
      "14719/14719 [==============================] - 4s 266us/step - loss: 3.4140 - acc: 0.1615 - val_loss: 3.7000 - val_acc: 0.1339\n",
      "Epoch 39/50\n",
      "14719/14719 [==============================] - 4s 275us/step - loss: 3.4160 - acc: 0.1616 - val_loss: 3.7114 - val_acc: 0.1381\n",
      "Epoch 40/50\n",
      "14719/14719 [==============================] - 4s 267us/step - loss: 3.4099 - acc: 0.1668 - val_loss: 3.7200 - val_acc: 0.1363\n",
      "Epoch 41/50\n",
      "14719/14719 [==============================] - 4s 270us/step - loss: 3.4186 - acc: 0.1654 - val_loss: 3.7132 - val_acc: 0.1375\n",
      "Epoch 42/50\n",
      "14719/14719 [==============================] - 4s 268us/step - loss: 3.4050 - acc: 0.1668 - val_loss: 3.7073 - val_acc: 0.1412\n",
      "Epoch 43/50\n",
      "14719/14719 [==============================] - 4s 265us/step - loss: 3.3902 - acc: 0.1669 - val_loss: 3.7072 - val_acc: 0.1430\n",
      "Epoch 44/50\n",
      "14719/14719 [==============================] - 4s 262us/step - loss: 3.3958 - acc: 0.1654 - val_loss: 3.7023 - val_acc: 0.1357\n",
      "Epoch 45/50\n",
      "14719/14719 [==============================] - 4s 263us/step - loss: 3.3953 - acc: 0.1686 - val_loss: 3.7026 - val_acc: 0.1430\n",
      "Epoch 46/50\n",
      "14719/14719 [==============================] - 4s 267us/step - loss: 3.3869 - acc: 0.1729 - val_loss: 3.7303 - val_acc: 0.1369\n",
      "Epoch 47/50\n",
      "14719/14719 [==============================] - 4s 262us/step - loss: 3.3890 - acc: 0.1660 - val_loss: 3.7356 - val_acc: 0.1375\n",
      "Epoch 48/50\n",
      "14719/14719 [==============================] - 4s 270us/step - loss: 3.3729 - acc: 0.1686 - val_loss: 3.7266 - val_acc: 0.1381\n",
      "Epoch 49/50\n",
      "14719/14719 [==============================] - 4s 267us/step - loss: 3.3801 - acc: 0.1671 - val_loss: 3.7194 - val_acc: 0.1388\n",
      "Epoch 50/50\n",
      "14719/14719 [==============================] - 4s 267us/step - loss: 3.3814 - acc: 0.1664 - val_loss: 3.7329 - val_acc: 0.1388\n"
     ]
    }
   ],
   "source": [
    "from keras.callbacks import EarlyStopping\n",
    "\n",
    "fitted_model = model.fit(X_train, y_train, validation_split=0.1, batch_size=64, epochs=50, shuffle=True, verbose=1)"
   ]
  },
  {
   "cell_type": "code",
   "execution_count": 73,
   "metadata": {},
   "outputs": [
    {
     "data": {
      "text/plain": [
       "<matplotlib.legend.Legend at 0x128415d0048>"
      ]
     },
     "execution_count": 73,
     "metadata": {},
     "output_type": "execute_result"
    },
    {
     "data": {
      "image/png": "[encoded data removed]",
      "text/plain": [
       "<Figure size 432x288 with 1 Axes>"
      ]
     },
     "metadata": {
      "needs_background": "light"
     },
     "output_type": "display_data"
    },
    {
     "data": {
      "image/png": "[encoded data removed]",
      "text/plain": [
       "<Figure size 432x288 with 1 Axes>"
      ]
     },
     "metadata": {
      "needs_background": "light"
     },
     "output_type": "display_data"
    }
   ],
   "source": [
    "import matplotlib.pyplot as plt\n",
    "\n",
    "%matplotlib inline\n",
    "\n",
    "accuracy = fitted_model.history['acc']\n",
    "#val_accuracy = history.history['val_acc']\n",
    "loss = fitted_model.history['loss']\n",
    "#val_loss = history.history['val_loss']\n",
    "epochs = range(len(accuracy))\n",
    "plt.plot(epochs, accuracy, 'b-', label='Training accuracy')\n",
    "#plt.plot(epochs, val_accuracy, 'b', label='Validation accuracy')\n",
    "plt.title('Training and validation accuracy')\n",
    "plt.legend()\n",
    "plt.figure()\n",
    "plt.plot(epochs, loss, 'r-', label='Training loss')\n",
    "#plt.plot(epochs, val_loss, 'b', label='Validation loss')\n",
    "plt.title('Training and validation loss')\n",
    "plt.legend()\n",
    "# plt.show()"
   ]
  },
  {
   "cell_type": "code",
   "execution_count": 74,
   "metadata": {
    "scrolled": false
   },
   "outputs": [
    {
     "name": "stdout",
     "output_type": "stream",
     "text": [
      "4089/4089 [==============================] - 0s 91us/step\n",
      "(4089, 120)\n"
     ]
    }
   ],
   "source": [
    "y_pridict = model.predict(X_test, verbose=1)\n",
    "print (y_pridict.shape)"
   ]
  },
  {
   "cell_type": "code",
   "execution_count": 75,
   "metadata": {
    "scrolled": true
   },
   "outputs": [],
   "source": [
    "#y_pridict"
   ]
  },
  {
   "cell_type": "code",
   "execution_count": 76,
   "metadata": {},
   "outputs": [
    {
     "name": "stdout",
     "output_type": "stream",
     "text": [
      "4089/4089 [==============================] - 1s 151us/step\n",
      "The accuracy is:  0.1288823673269748\n"
     ]
    }
   ],
   "source": [
    "score = model.evaluate(X_test, y_test, verbose=1)\n",
    "print('The accuracy is: ', score[1])"
   ]
  },
  {
   "cell_type": "code",
   "execution_count": null,
   "metadata": {},
   "outputs": [],
   "source": []
  }
 ],
 "metadata": {
  "kernelspec": {
   "display_name": "Python 3",
   "language": "python",
   "name": "python3"
  },
  "language_info": {
   "codemirror_mode": {
    "name": "ipython",
    "version": 3
   },
   "file_extension": ".py",
   "mimetype": "text/x-python",
   "name": "python",
   "nbconvert_exporter": "python",
   "pygments_lexer": "ipython3",
   "version": "3.7.4"
  }
 },
 "nbformat": 4,
 "nbformat_minor": 2
}
