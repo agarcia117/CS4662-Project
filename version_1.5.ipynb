{
 "cells": [
  {
   "cell_type": "markdown",
   "metadata": {},
   "source": [
    "# Dog Breed Prediction\n",
    "## https://www.kaggle.com/c/dog-breed-identification/overview\n",
    "### CS 4662\n",
    "### Spring 2020\n",
    "### Alan Garcia\n",
    "### Ryan Peralta\n"
   ]
  },
  {
   "cell_type": "code",
   "execution_count": 46,
   "metadata": {},
   "outputs": [],
   "source": [
    "import PIL.Image\n",
    "from numpy import asarray\n",
    "from PIL import Image\n",
    "from numpy import fliplr\n",
    "from numpy import flipud\n",
    "\n",
    "import plaidml.keras\n",
    "plaidml.keras.install_backend()\n",
    "\n",
    "#from tensorflow.keras import backend\n",
    "# \"Sequential\" model lets us to define a stack of neural network layers\n",
    "from keras.models import Sequential\n",
    "\n",
    "# import the \"core\" layers:\n",
    "from keras.layers import Dense, Dropout, Activation, Flatten\n",
    "import matplotlib.image as mpimg\n",
    "\n",
    "# CNN\n",
    "from keras.layers import Convolution2D, MaxPooling2D\n",
    "\n",
    "# import some utilities to transform our data\n",
    "from keras.utils import np_utils\n",
    "\n",
    "from sklearn.model_selection import train_test_split\n",
    "\n",
    "import tensorflow as tf\n",
    "import numpy as np\n",
    "import pandas as pd"
   ]
  },
  {
   "cell_type": "code",
   "execution_count": 47,
   "metadata": {},
   "outputs": [
    {
     "data": {
      "text/plain": [
       "'\\nimport os\\ncounter = 0\\nd = d = \"C:/Users/rpera/Desktop/Spring 2020/CS 4662/Project Data/train\"\\nfor path in os.listdir(d):\\n    full_path = os.path.join(d, path)\\n    if os.path.isfile(full_path):\\n        print(full_path)\\n        img = Image.open(full_path)\\n        maxsize = (64, 64)\\n        img = img.resize(maxsize, PIL.Image.ANTIALIAS)\\n        img.save(\\'resized_photos64_RGB/\\'+ str(counter) + \\'.jpg\\')\\n        counter += 1\\n'"
      ]
     },
     "execution_count": 47,
     "metadata": {},
     "output_type": "execute_result"
    }
   ],
   "source": [
    "'''\n",
    "import os\n",
    "counter = 0\n",
    "d = d = \"C:/Users/rpera/Desktop/Spring 2020/CS 4662/Project Data/train\"\n",
    "for path in os.listdir(d):\n",
    "    full_path = os.path.join(d, path)\n",
    "    if os.path.isfile(full_path):\n",
    "        print(full_path)\n",
    "        img = Image.open(full_path)\n",
    "        maxsize = (64, 64)\n",
    "        img = img.resize(maxsize, PIL.Image.ANTIALIAS)\n",
    "        img.save('resized_photos64_RGB/'+ str(counter) + '.jpg')\n",
    "        counter += 1\n",
    "'''"
   ]
  },
  {
   "cell_type": "code",
   "execution_count": 1,
   "metadata": {},
   "outputs": [
    {
     "data": {
      "text/plain": [
       "'\\nimport os\\ncounter = 0\\nd = \"C:/Users/rpera/Desktop/Spring 2020/CS 4662/Project Data/train\"\\nfor path in os.listdir(d):\\n    full_path = os.path.join(d, path)\\n    if os.path.isfile(full_path):\\n        print(full_path)\\n        img = Image.open(full_path).convert(\\'L\\')\\n        maxsize = (32, 32)\\n        img = img.resize(maxsize, PIL.Image.ANTIALIAS)\\n        img.save(\\'resized_photos32_Grey/\\'+ str(counter) + \\'.jpg\\')\\n        counter += 1\\n\\n'"
      ]
     },
     "execution_count": 1,
     "metadata": {},
     "output_type": "execute_result"
    }
   ],
   "source": [
    "'''\n",
    "import os\n",
    "counter = 0\n",
    "d = \"C:/Users/rpera/Desktop/Spring 2020/CS 4662/Project Data/train\"\n",
    "for path in os.listdir(d):\n",
    "    full_path = os.path.join(d, path)\n",
    "    if os.path.isfile(full_path):\n",
    "        print(full_path)\n",
    "        img = Image.open(full_path).convert('L')\n",
    "        maxsize = (32, 32)\n",
    "        img = img.resize(maxsize, PIL.Image.ANTIALIAS)\n",
    "        img.save('resized_photos32_Grey/'+ str(counter) + '.jpg')\n",
    "        counter += 1\n",
    "\n",
    "'''"
   ]
  },
  {
   "cell_type": "markdown",
   "metadata": {},
   "source": [
    "#### Regular + horizontally flipped + grey scale"
   ]
  },
  {
   "cell_type": "code",
   "execution_count": 49,
   "metadata": {
    "scrolled": true
   },
   "outputs": [],
   "source": [
    "listForX = []\n",
    "listForFlipX = []\n",
    "listForXGrey = []\n",
    "for x in range(0, 10222):\n",
    "    test = mpimg.imread(\"C:/Users/rpera/Desktop/Spring 2020/CS 4662/CS4662-Project/resized_photos32_RGB/\"+str(x)+\".jpg\")\n",
    "    grey = mpimg.imread(\"C:/Users/rpera/Desktop/Spring 2020/CS 4662/CS4662-Project/resized_photos32_Grey/\"+str(x)+\".jpg\")\n",
    "    testing = (test.reshape(1, 3072))\n",
    "    testFlip = fliplr(test)\n",
    "    \n",
    "    testingFlip = (testFlip.reshape(1, 3072))\n",
    "    \n",
    "    \n",
    "    stacked_img = np.stack((grey,)*3, axis=-1)\n",
    "    testingGrey = (stacked_img.reshape(1, 3072))\n",
    "    \n",
    "    listForX.append(testing[0])\n",
    "    listForFlipX.append(testingFlip[0])\n",
    "    listForXGrey.append(testingGrey[0])\n",
    "    "
   ]
  },
  {
   "cell_type": "code",
   "execution_count": 50,
   "metadata": {},
   "outputs": [],
   "source": [
    "X = np.concatenate((listForX, listForFlipX, listForXGrey), axis=0)"
   ]
  },
  {
   "cell_type": "code",
   "execution_count": 51,
   "metadata": {},
   "outputs": [
    {
     "data": {
      "text/plain": [
       "array([[151, 141,  69, ..., 169, 105,  80],\n",
       "       [ 78,  38,   0, ...,  47,  26,   0],\n",
       "       [101, 103,  89, ..., 115, 111, 108],\n",
       "       ...,\n",
       "       [  1,   1,   1, ..., 189, 189, 189],\n",
       "       [171, 171, 171, ..., 147, 147, 147],\n",
       "       [170, 170, 170, ..., 210, 210, 210]], dtype=uint8)"
      ]
     },
     "execution_count": 51,
     "metadata": {},
     "output_type": "execute_result"
    }
   ],
   "source": [
    "X"
   ]
  },
  {
   "cell_type": "code",
   "execution_count": 52,
   "metadata": {},
   "outputs": [],
   "source": [
    "#df = pd.DataFrame(listForX)"
   ]
  },
  {
   "cell_type": "code",
   "execution_count": 53,
   "metadata": {},
   "outputs": [],
   "source": [
    "#df.values.tolist()"
   ]
  },
  {
   "cell_type": "code",
   "execution_count": 54,
   "metadata": {},
   "outputs": [],
   "source": [
    "#X = np.asarray(listForX).concat(np.asarray(listForFlipX))"
   ]
  },
  {
   "cell_type": "code",
   "execution_count": 55,
   "metadata": {},
   "outputs": [
    {
     "data": {
      "text/plain": [
       "(30666, 3072)"
      ]
     },
     "execution_count": 55,
     "metadata": {},
     "output_type": "execute_result"
    }
   ],
   "source": [
    "X.shape"
   ]
  },
  {
   "cell_type": "code",
   "execution_count": 56,
   "metadata": {},
   "outputs": [],
   "source": [
    "y = pd.read_csv(\"C:/Users/rpera/Desktop/Spring 2020/CS 4662/Project Data/labels.csv\")"
   ]
  },
  {
   "cell_type": "code",
   "execution_count": 57,
   "metadata": {
    "scrolled": true
   },
   "outputs": [],
   "source": [
    "#y"
   ]
  },
  {
   "cell_type": "code",
   "execution_count": 58,
   "metadata": {},
   "outputs": [],
   "source": [
    "y = y.drop(['id'], axis=1)"
   ]
  },
  {
   "cell_type": "code",
   "execution_count": 59,
   "metadata": {},
   "outputs": [],
   "source": [
    "y['breed'] = pd.factorize(y['breed'])[0]"
   ]
  },
  {
   "cell_type": "code",
   "execution_count": 23,
   "metadata": {},
   "outputs": [],
   "source": [
    "#y"
   ]
  },
  {
   "cell_type": "code",
   "execution_count": 60,
   "metadata": {},
   "outputs": [],
   "source": [
    "y = y.breed.tolist() + y.breed.tolist()+ y.breed.tolist()"
   ]
  },
  {
   "cell_type": "code",
   "execution_count": 61,
   "metadata": {},
   "outputs": [
    {
     "data": {
      "text/plain": [
       "30666"
      ]
     },
     "execution_count": 61,
     "metadata": {},
     "output_type": "execute_result"
    }
   ],
   "source": [
    "len(y)"
   ]
  },
  {
   "cell_type": "code",
   "execution_count": 62,
   "metadata": {},
   "outputs": [],
   "source": [
    "#yTest = []\n",
    "#for x in range(0, 1000):\n",
    "   # yTest.append(y[x])\n"
   ]
  },
  {
   "cell_type": "code",
   "execution_count": null,
   "metadata": {},
   "outputs": [],
   "source": []
  },
  {
   "cell_type": "code",
   "execution_count": 63,
   "metadata": {},
   "outputs": [],
   "source": [
    "#y = yTest"
   ]
  },
  {
   "cell_type": "code",
   "execution_count": 64,
   "metadata": {
    "scrolled": true
   },
   "outputs": [],
   "source": [
    "X_train, X_test, y_train, y_test = train_test_split(X, y, test_size=0.20, random_state=2)"
   ]
  },
  {
   "cell_type": "code",
   "execution_count": 65,
   "metadata": {},
   "outputs": [],
   "source": [
    "X_train = X_train.reshape(X_train.shape[0], 32, 32, 3)\n",
    "X_test = X_test.reshape(X_test.shape[0], 32, 32, 3)"
   ]
  },
  {
   "cell_type": "code",
   "execution_count": 66,
   "metadata": {},
   "outputs": [],
   "source": [
    "y_train = np_utils.to_categorical(y_train, 120)\n",
    "y_test = np_utils.to_categorical(y_test, 120)"
   ]
  },
  {
   "cell_type": "code",
   "execution_count": 67,
   "metadata": {
    "scrolled": true
   },
   "outputs": [],
   "source": [
    "X_train = X_train.astype('float32')\n",
    "X_test = X_test.astype('float32')\n",
    "X_train /= 255\n",
    "X_test /= 255"
   ]
  },
  {
   "cell_type": "code",
   "execution_count": 68,
   "metadata": {},
   "outputs": [
    {
     "data": {
      "text/plain": [
       "(24532, 32, 32, 3)"
      ]
     },
     "execution_count": 68,
     "metadata": {},
     "output_type": "execute_result"
    }
   ],
   "source": [
    "X_train.shape"
   ]
  },
  {
   "cell_type": "code",
   "execution_count": 69,
   "metadata": {},
   "outputs": [],
   "source": [
    "model = Sequential()"
   ]
  },
  {
   "cell_type": "code",
   "execution_count": 70,
   "metadata": {},
   "outputs": [
    {
     "name": "stdout",
     "output_type": "stream",
     "text": [
      "(None, 15, 15, 16)\n"
     ]
    }
   ],
   "source": [
    "model.add(Convolution2D(16, (3, 3), activation='relu', input_shape=(32,32,3)))\n",
    "model.add(MaxPooling2D(pool_size=(2,2)))\n",
    "#model.add(Dropout(0.25)) \n",
    "print(model.output_shape) # -> (None, 26, 26, 32)"
   ]
  },
  {
   "cell_type": "code",
   "execution_count": 71,
   "metadata": {},
   "outputs": [
    {
     "name": "stdout",
     "output_type": "stream",
     "text": [
      "(None, 2, 2, 64)\n"
     ]
    }
   ],
   "source": [
    "# more hidden layers:\n",
    "model.add(Convolution2D(32, (3, 3), activation='relu'))\n",
    "# Pooling Layer:\n",
    "model.add(MaxPooling2D(pool_size=(2,2)))\n",
    "#model.add(Dropout(0.25)) \n",
    "\n",
    "\n",
    "model.add(Convolution2D(64, (3, 3), activation='relu'))\n",
    "model.add(MaxPooling2D(pool_size=(2,2)))\n",
    "print(model.output_shape)\n",
    "\n",
    "# Dropout layer to avoid overfitting\n",
    "model.add(Dropout(0.25)) "
   ]
  },
  {
   "cell_type": "code",
   "execution_count": 72,
   "metadata": {},
   "outputs": [
    {
     "name": "stdout",
     "output_type": "stream",
     "text": [
      "(None, 256)\n",
      "(None, 128)\n",
      "(None, 120)\n"
     ]
    }
   ],
   "source": [
    "# output Fully connected Dense layers:\n",
    "model.add(Flatten())\n",
    "print(model.output_shape)\n",
    "\n",
    "model.add(Dense(128, activation='relu'))\n",
    "print(model.output_shape)\n",
    "\n",
    "model.add(Dropout(0.5))\n",
    "model.add(Dense(120, activation='softmax'))\n",
    "print(model.output_shape)"
   ]
  },
  {
   "cell_type": "code",
   "execution_count": 73,
   "metadata": {},
   "outputs": [],
   "source": [
    "model.compile(loss='categorical_crossentropy',metrics=['accuracy'],\n",
    "              optimizer='adam')"
   ]
  },
  {
   "cell_type": "code",
   "execution_count": 74,
   "metadata": {},
   "outputs": [
    {
     "name": "stdout",
     "output_type": "stream",
     "text": [
      "_________________________________________________________________\n",
      "Layer (type)                 Output Shape              Param #   \n",
      "=================================================================\n",
      "conv2d_4 (Conv2D)            (None, 30, 30, 16)        448       \n",
      "_________________________________________________________________\n",
      "max_pooling2d_4 (MaxPooling2 (None, 15, 15, 16)        0         \n",
      "_________________________________________________________________\n",
      "conv2d_5 (Conv2D)            (None, 13, 13, 32)        4640      \n",
      "_________________________________________________________________\n",
      "max_pooling2d_5 (MaxPooling2 (None, 6, 6, 32)          0         \n",
      "_________________________________________________________________\n",
      "conv2d_6 (Conv2D)            (None, 4, 4, 64)          18496     \n",
      "_________________________________________________________________\n",
      "max_pooling2d_6 (MaxPooling2 (None, 2, 2, 64)          0         \n",
      "_________________________________________________________________\n",
      "dropout_3 (Dropout)          (None, 2, 2, 64)          0         \n",
      "_________________________________________________________________\n",
      "flatten_2 (Flatten)          (None, 256)               0         \n",
      "_________________________________________________________________\n",
      "dense_3 (Dense)              (None, 128)               32896     \n",
      "_________________________________________________________________\n",
      "dropout_4 (Dropout)          (None, 128)               0         \n",
      "_________________________________________________________________\n",
      "dense_4 (Dense)              (None, 120)               15480     \n",
      "=================================================================\n",
      "Total params: 71,960\n",
      "Trainable params: 71,960\n",
      "Non-trainable params: 0\n",
      "_________________________________________________________________\n",
      "None\n"
     ]
    }
   ],
   "source": [
    "print(model.summary())"
   ]
  },
  {
   "cell_type": "code",
   "execution_count": 75,
   "metadata": {},
   "outputs": [
    {
     "data": {
      "text/plain": [
       "(24532, 32, 32, 3)"
      ]
     },
     "execution_count": 75,
     "metadata": {},
     "output_type": "execute_result"
    }
   ],
   "source": [
    "X_train.shape"
   ]
  },
  {
   "cell_type": "code",
   "execution_count": 76,
   "metadata": {},
   "outputs": [
    {
     "data": {
      "text/plain": [
       "(24532, 120)"
      ]
     },
     "execution_count": 76,
     "metadata": {},
     "output_type": "execute_result"
    }
   ],
   "source": [
    "y_train.shape"
   ]
  },
  {
   "cell_type": "code",
   "execution_count": 78,
   "metadata": {
    "scrolled": true
   },
   "outputs": [
    {
     "name": "stdout",
     "output_type": "stream",
     "text": [
      "Train on 22078 samples, validate on 2454 samples\n",
      "Epoch 1/50\n",
      "22078/22078 [==============================] - 5s 244us/step - loss: 3.4728 - acc: 0.1649 - val_loss: 3.6412 - val_acc: 0.1569\n",
      "Epoch 2/50\n",
      "22078/22078 [==============================] - 5s 242us/step - loss: 3.4611 - acc: 0.1700 - val_loss: 3.6405 - val_acc: 0.1540\n",
      "Epoch 3/50\n",
      "22078/22078 [==============================] - 6s 260us/step - loss: 3.4419 - acc: 0.1723 - val_loss: 3.6387 - val_acc: 0.1565\n",
      "Epoch 4/50\n",
      "22078/22078 [==============================] - 5s 223us/step - loss: 3.4378 - acc: 0.1726 - val_loss: 3.6336 - val_acc: 0.1610\n",
      "Epoch 5/50\n",
      "22078/22078 [==============================] - 5s 222us/step - loss: 3.4278 - acc: 0.1733 - val_loss: 3.6299 - val_acc: 0.1642\n",
      "Epoch 6/50\n",
      "22078/22078 [==============================] - 5s 225us/step - loss: 3.4276 - acc: 0.1699 - val_loss: 3.6312 - val_acc: 0.1626\n",
      "Epoch 7/50\n",
      "22078/22078 [==============================] - 5s 221us/step - loss: 3.4071 - acc: 0.1754 - val_loss: 3.6231 - val_acc: 0.1622\n",
      "Epoch 8/50\n",
      "22078/22078 [==============================] - 5s 226us/step - loss: 3.4082 - acc: 0.1770 - val_loss: 3.6261 - val_acc: 0.1581\n",
      "Epoch 9/50\n",
      "22078/22078 [==============================] - 5s 235us/step - loss: 3.4096 - acc: 0.1755 - val_loss: 3.6313 - val_acc: 0.1642\n",
      "Epoch 10/50\n",
      "22078/22078 [==============================] - 6s 251us/step - loss: 3.3972 - acc: 0.1768 - val_loss: 3.6214 - val_acc: 0.1683\n",
      "Epoch 11/50\n",
      "22078/22078 [==============================] - 5s 225us/step - loss: 3.3856 - acc: 0.1777 - val_loss: 3.6168 - val_acc: 0.1536\n",
      "Epoch 12/50\n",
      "22078/22078 [==============================] - 5s 224us/step - loss: 3.3883 - acc: 0.1814 - val_loss: 3.6212 - val_acc: 0.1601\n",
      "Epoch 13/50\n",
      "22078/22078 [==============================] - 5s 225us/step - loss: 3.3810 - acc: 0.1770 - val_loss: 3.5986 - val_acc: 0.1695\n",
      "Epoch 14/50\n",
      "22078/22078 [==============================] - 5s 223us/step - loss: 3.3860 - acc: 0.1793 - val_loss: 3.6178 - val_acc: 0.1707\n",
      "Epoch 15/50\n",
      "22078/22078 [==============================] - 5s 224us/step - loss: 3.3698 - acc: 0.1837 - val_loss: 3.6109 - val_acc: 0.1671\n",
      "Epoch 16/50\n",
      "22078/22078 [==============================] - 5s 228us/step - loss: 3.3656 - acc: 0.1816 - val_loss: 3.6260 - val_acc: 0.1626\n",
      "Epoch 17/50\n",
      "22078/22078 [==============================] - 6s 285us/step - loss: 3.3646 - acc: 0.1852 - val_loss: 3.5963 - val_acc: 0.1716\n",
      "Epoch 18/50\n",
      "22078/22078 [==============================] - 6s 259us/step - loss: 3.3618 - acc: 0.1835 - val_loss: 3.6109 - val_acc: 0.1687\n",
      "Epoch 19/50\n",
      "22078/22078 [==============================] - 5s 244us/step - loss: 3.3614 - acc: 0.1831 - val_loss: 3.5968 - val_acc: 0.1732\n",
      "Epoch 20/50\n",
      "22078/22078 [==============================] - 5s 233us/step - loss: 3.3548 - acc: 0.1848 - val_loss: 3.5920 - val_acc: 0.1703\n",
      "Epoch 21/50\n",
      "22078/22078 [==============================] - 5s 230us/step - loss: 3.3491 - acc: 0.1848 - val_loss: 3.5889 - val_acc: 0.1679\n",
      "Epoch 22/50\n",
      "22078/22078 [==============================] - 5s 230us/step - loss: 3.3360 - acc: 0.1887 - val_loss: 3.5784 - val_acc: 0.1679\n",
      "Epoch 23/50\n",
      "22078/22078 [==============================] - 5s 234us/step - loss: 3.3270 - acc: 0.1905 - val_loss: 3.5777 - val_acc: 0.1675\n",
      "Epoch 24/50\n",
      "22078/22078 [==============================] - 5s 234us/step - loss: 3.3377 - acc: 0.1869 - val_loss: 3.5919 - val_acc: 0.1760\n",
      "Epoch 25/50\n",
      "22078/22078 [==============================] - 5s 238us/step - loss: 3.3240 - acc: 0.1888 - val_loss: 3.5899 - val_acc: 0.1691\n",
      "Epoch 26/50\n",
      "22078/22078 [==============================] - 5s 235us/step - loss: 3.3183 - acc: 0.1937 - val_loss: 3.5865 - val_acc: 0.1650\n",
      "Epoch 27/50\n",
      "22078/22078 [==============================] - 5s 229us/step - loss: 3.3320 - acc: 0.1868 - val_loss: 3.5798 - val_acc: 0.1785\n",
      "Epoch 28/50\n",
      "22078/22078 [==============================] - 5s 242us/step - loss: 3.3156 - acc: 0.1947 - val_loss: 3.5899 - val_acc: 0.1646\n",
      "Epoch 29/50\n",
      "22078/22078 [==============================] - 6s 252us/step - loss: 3.3219 - acc: 0.1904 - val_loss: 3.5772 - val_acc: 0.1699\n",
      "Epoch 30/50\n",
      "22078/22078 [==============================] - 6s 260us/step - loss: 3.2874 - acc: 0.1964 - val_loss: 3.5774 - val_acc: 0.1769\n",
      "Epoch 31/50\n",
      "22078/22078 [==============================] - 5s 241us/step - loss: 3.3061 - acc: 0.1967 - val_loss: 3.5739 - val_acc: 0.1691\n",
      "Epoch 32/50\n",
      "22078/22078 [==============================] - 5s 237us/step - loss: 3.3005 - acc: 0.1931 - val_loss: 3.6053 - val_acc: 0.1646\n",
      "Epoch 33/50\n",
      "22078/22078 [==============================] - 5s 231us/step - loss: 3.2980 - acc: 0.1930 - val_loss: 3.5859 - val_acc: 0.1675\n",
      "Epoch 34/50\n",
      "22078/22078 [==============================] - 5s 229us/step - loss: 3.2860 - acc: 0.1954 - val_loss: 3.6003 - val_acc: 0.1756\n",
      "Epoch 35/50\n",
      "22078/22078 [==============================] - 5s 237us/step - loss: 3.2866 - acc: 0.1969 - val_loss: 3.6036 - val_acc: 0.1667\n",
      "Epoch 36/50\n",
      "22078/22078 [==============================] - 5s 234us/step - loss: 3.2780 - acc: 0.1946 - val_loss: 3.5746 - val_acc: 0.1736\n",
      "Epoch 37/50\n",
      "22078/22078 [==============================] - 5s 239us/step - loss: 3.2863 - acc: 0.1973 - val_loss: 3.5693 - val_acc: 0.1797\n",
      "Epoch 38/50\n",
      "22078/22078 [==============================] - 5s 231us/step - loss: 3.2723 - acc: 0.1974 - val_loss: 3.5730 - val_acc: 0.1817\n",
      "Epoch 39/50\n",
      "22078/22078 [==============================] - 5s 235us/step - loss: 3.2690 - acc: 0.1955 - val_loss: 3.5766 - val_acc: 0.1769\n",
      "Epoch 40/50\n",
      "22078/22078 [==============================] - 5s 233us/step - loss: 3.2658 - acc: 0.1990 - val_loss: 3.5687 - val_acc: 0.1748\n",
      "Epoch 41/50\n",
      "22078/22078 [==============================] - 6s 253us/step - loss: 3.2747 - acc: 0.1955 - val_loss: 3.5865 - val_acc: 0.1748\n",
      "Epoch 42/50\n",
      "22078/22078 [==============================] - 6s 256us/step - loss: 3.2626 - acc: 0.1984 - val_loss: 3.5673 - val_acc: 0.1773\n",
      "Epoch 43/50\n",
      "22078/22078 [==============================] - 6s 258us/step - loss: 3.2558 - acc: 0.2036 - val_loss: 3.5806 - val_acc: 0.1797\n",
      "Epoch 44/50\n",
      "22078/22078 [==============================] - 5s 245us/step - loss: 3.2624 - acc: 0.2031 - val_loss: 3.5839 - val_acc: 0.1760\n",
      "Epoch 45/50\n",
      "22078/22078 [==============================] - 5s 230us/step - loss: 3.2629 - acc: 0.1997 - val_loss: 3.5779 - val_acc: 0.1736\n",
      "Epoch 46/50\n",
      "22078/22078 [==============================] - 5s 239us/step - loss: 3.2404 - acc: 0.2014 - val_loss: 3.5680 - val_acc: 0.1781\n",
      "Epoch 47/50\n",
      "22078/22078 [==============================] - 5s 238us/step - loss: 3.2539 - acc: 0.2020 - val_loss: 3.5747 - val_acc: 0.1805\n",
      "Epoch 48/50\n",
      "22078/22078 [==============================] - 5s 246us/step - loss: 3.2393 - acc: 0.2017 - val_loss: 3.5729 - val_acc: 0.1789\n",
      "Epoch 49/50\n",
      "22078/22078 [==============================] - 6s 251us/step - loss: 3.2416 - acc: 0.2052 - val_loss: 3.5814 - val_acc: 0.1793\n",
      "Epoch 50/50\n",
      "22078/22078 [==============================] - 6s 255us/step - loss: 3.2292 - acc: 0.2040 - val_loss: 3.5711 - val_acc: 0.1813\n"
     ]
    }
   ],
   "source": [
    "from keras.callbacks import EarlyStopping\n",
    "\n",
    "fitted_model = model.fit(X_train, y_train, validation_split=0.1, batch_size=64, epochs=50, shuffle=True, verbose=1)"
   ]
  },
  {
   "cell_type": "code",
   "execution_count": 79,
   "metadata": {},
   "outputs": [
    {
     "data": {
      "text/plain": [
       "<matplotlib.legend.Legend at 0x1be38426888>"
      ]
     },
     "execution_count": 79,
     "metadata": {},
     "output_type": "execute_result"
    },
    {
     "data": {
      "image/png": "[encoded data removed]",
      "text/plain": [
       "<Figure size 432x288 with 1 Axes>"
      ]
     },
     "metadata": {
      "needs_background": "light"
     },
     "output_type": "display_data"
    },
    {
     "data": {
      "image/png": "[encoded data removed]",
      "text/plain": [
       "<Figure size 432x288 with 1 Axes>"
      ]
     },
     "metadata": {
      "needs_background": "light"
     },
     "output_type": "display_data"
    }
   ],
   "source": [
    "import matplotlib.pyplot as plt\n",
    "\n",
    "%matplotlib inline\n",
    "\n",
    "accuracy = fitted_model.history['acc']\n",
    "#val_accuracy = history.history['val_acc']\n",
    "loss = fitted_model.history['loss']\n",
    "#val_loss = history.history['val_loss']\n",
    "epochs = range(len(accuracy))\n",
    "plt.plot(epochs, accuracy, 'b-', label='Training accuracy')\n",
    "#plt.plot(epochs, val_accuracy, 'b', label='Validation accuracy')\n",
    "plt.title('Training and validation accuracy')\n",
    "plt.legend()\n",
    "plt.figure()\n",
    "plt.plot(epochs, loss, 'r-', label='Training loss')\n",
    "#plt.plot(epochs, val_loss, 'b', label='Validation loss')\n",
    "plt.title('Training and validation loss')\n",
    "plt.legend()\n",
    "# plt.show()"
   ]
  },
  {
   "cell_type": "code",
   "execution_count": 80,
   "metadata": {
    "scrolled": false
   },
   "outputs": [
    {
     "name": "stdout",
     "output_type": "stream",
     "text": [
      "6134/6134 [==============================] - 4s 586us/step\n",
      "(6134, 120)\n"
     ]
    }
   ],
   "source": [
    "y_pridict = model.predict(X_test, verbose=1)\n",
    "print (y_pridict.shape)"
   ]
  },
  {
   "cell_type": "code",
   "execution_count": 81,
   "metadata": {
    "scrolled": true
   },
   "outputs": [],
   "source": [
    "#y_pridict"
   ]
  },
  {
   "cell_type": "code",
   "execution_count": 82,
   "metadata": {},
   "outputs": [
    {
     "name": "stdout",
     "output_type": "stream",
     "text": [
      "6134/6134 [==============================] - 3s 440us/step\n",
      "The accuracy is:  0.1783501793429095\n"
     ]
    }
   ],
   "source": [
    "score = model.evaluate(X_test, y_test, verbose=1)\n",
    "print('The accuracy is: ', score[1])"
   ]
  },
  {
   "cell_type": "code",
   "execution_count": null,
   "metadata": {},
   "outputs": [],
   "source": []
  }
 ],
 "metadata": {
  "kernelspec": {
   "display_name": "Python 3",
   "language": "python",
   "name": "python3"
  },
  "language_info": {
   "codemirror_mode": {
    "name": "ipython",
    "version": 3
   },
   "file_extension": ".py",
   "mimetype": "text/x-python",
   "name": "python",
   "nbconvert_exporter": "python",
   "pygments_lexer": "ipython3",
   "version": "3.7.4"
  }
 },
 "nbformat": 4,
 "nbformat_minor": 2
}
