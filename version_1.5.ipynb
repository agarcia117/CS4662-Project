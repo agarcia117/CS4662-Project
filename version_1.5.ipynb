{
 "cells": [
  {
   "cell_type": "markdown",
   "metadata": {},
   "source": [
    "# Dog Breed Prediction\n",
    "## https://www.kaggle.com/c/dog-breed-identification/overview\n",
    "### CS 4662\n",
    "### Spring 2020\n",
    "### Alan Garcia\n",
    "### Ryan Peralta\n"
   ]
  },
  {
   "cell_type": "code",
   "execution_count": 1,
   "metadata": {},
   "outputs": [],
   "source": [
    "import PIL.Image\n",
    "from numpy import asarray\n",
    "from PIL import Image\n",
    "from numpy import fliplr\n",
    "from numpy import flipud\n",
    "\n",
    "import plaidml.keras\n",
    "plaidml.keras.install_backend()\n",
    "\n",
    "#from tensorflow.keras import backend\n",
    "# \"Sequential\" model lets us to define a stack of neural network layers\n",
    "from keras.models import Sequential\n",
    "\n",
    "# import the \"core\" layers:\n",
    "from keras.layers import Dense, Dropout, Activation, Flatten\n",
    "import matplotlib.image as mpimg\n",
    "\n",
    "# CNN\n",
    "from keras.layers import Convolution2D, MaxPooling2D\n",
    "\n",
    "# import some utilities to transform our data\n",
    "from keras.utils import np_utils\n",
    "\n",
    "from sklearn.model_selection import train_test_split\n",
    "\n",
    "import tensorflow as tf\n",
    "import numpy as np\n",
    "import pandas as pd"
   ]
  },
  {
   "cell_type": "code",
   "execution_count": 2,
   "metadata": {},
   "outputs": [
    {
     "data": {
      "text/plain": [
       "'\\nimport os\\ncounter = 0\\nd = d = \"C:/Users/rpera/Desktop/Spring 2020/CS 4662/Project Data/train\"\\nfor path in os.listdir(d):\\n    full_path = os.path.join(d, path)\\n    if os.path.isfile(full_path):\\n        print(full_path)\\n        img = Image.open(full_path)\\n        maxsize = (64, 64)\\n        img = img.resize(maxsize, PIL.Image.ANTIALIAS)\\n        img.save(\\'resized_photos64_RGB/\\'+ str(counter) + \\'.jpg\\')\\n        counter += 1\\n'"
      ]
     },
     "execution_count": 2,
     "metadata": {},
     "output_type": "execute_result"
    }
   ],
   "source": [
    "'''\n",
    "import os\n",
    "counter = 0\n",
    "d = d = \"C:/Users/rpera/Desktop/Spring 2020/CS 4662/Project Data/train\"\n",
    "for path in os.listdir(d):\n",
    "    full_path = os.path.join(d, path)\n",
    "    if os.path.isfile(full_path):\n",
    "        print(full_path)\n",
    "        img = Image.open(full_path)\n",
    "        maxsize = (64, 64)\n",
    "        img = img.resize(maxsize, PIL.Image.ANTIALIAS)\n",
    "        img.save('resized_photos64_RGB/'+ str(counter) + '.jpg')\n",
    "        counter += 1\n",
    "'''"
   ]
  },
  {
   "cell_type": "code",
   "execution_count": 3,
   "metadata": {},
   "outputs": [
    {
     "data": {
      "text/plain": [
       "'\\nimport os\\ncounter = 0\\nd = \"C:/Users/Alan/Desktop/Data_Science_2/final_project/train\"\\nfor path in os.listdir(d):\\n    full_path = os.path.join(d, path)\\n    if os.path.isfile(full_path):\\n        print(full_path)\\n        img = Image.open(full_path).convert(\\'L\\')\\n        maxsize = (32, 32)\\n        img = img.resize(maxsize, PIL.Image.ANTIALIAS)\\n        img.save(\\'resized_photos32_Grey/\\'+ str(counter) + \\'.jpg\\')\\n        counter += 1\\n\\n'"
      ]
     },
     "execution_count": 3,
     "metadata": {},
     "output_type": "execute_result"
    }
   ],
   "source": [
    "'''\n",
    "import os\n",
    "counter = 0\n",
    "d = \"C:/Users/Alan/Desktop/Data_Science_2/final_project/train\"\n",
    "for path in os.listdir(d):\n",
    "    full_path = os.path.join(d, path)\n",
    "    if os.path.isfile(full_path):\n",
    "        print(full_path)\n",
    "        img = Image.open(full_path).convert('L')\n",
    "        maxsize = (32, 32)\n",
    "        img = img.resize(maxsize, PIL.Image.ANTIALIAS)\n",
    "        img.save('resized_photos32_Grey/'+ str(counter) + '.jpg')\n",
    "        counter += 1\n",
    "\n",
    "'''"
   ]
  },
  {
   "cell_type": "markdown",
   "metadata": {},
   "source": [
    "#### Regular + horizontally flipped + grey scale"
   ]
  },
  {
   "cell_type": "code",
   "execution_count": 4,
   "metadata": {
    "scrolled": true
   },
   "outputs": [],
   "source": [
    "listForX = []\n",
    "listForFlipX = []\n",
    "listForXGrey = []\n",
    "for x in range(0, 10222):\n",
    "    test = mpimg.imread(\"C:/Users/Alan/Desktop/Data_Science_2/final_project/resized_photos32_RGB/\"+str(x)+\".jpg\")\n",
    "    grey = mpimg.imread(\"C:/Users/Alan/Desktop/Data_Science_2/final_project/resized_photos32_Grey/\"+str(x)+\".jpg\")\n",
    "    testing = (test.reshape(1, 3072))\n",
    "    testFlip = fliplr(test)\n",
    "    \n",
    "    testingFlip = (testFlip.reshape(1, 3072))\n",
    "    \n",
    "    \n",
    "    stacked_img = np.stack((grey,)*3, axis=-1)\n",
    "    testingGrey = (stacked_img.reshape(1, 3072))\n",
    "    \n",
    "    listForX.append(testing[0])\n",
    "    listForFlipX.append(testingFlip[0])\n",
    "    listForXGrey.append(testingGrey[0])\n",
    "    "
   ]
  },
  {
   "cell_type": "code",
   "execution_count": 5,
   "metadata": {},
   "outputs": [],
   "source": [
    "X = np.concatenate((listForX, listForFlipX, listForXGrey), axis=0)"
   ]
  },
  {
   "cell_type": "code",
   "execution_count": 6,
   "metadata": {},
   "outputs": [
    {
     "data": {
      "text/plain": [
       "array([[151, 141,  69, ..., 169, 105,  80],\n",
       "       [ 78,  38,   0, ...,  47,  26,   0],\n",
       "       [101, 103,  89, ..., 115, 111, 108],\n",
       "       ...,\n",
       "       [  1,   1,   1, ..., 189, 189, 189],\n",
       "       [171, 171, 171, ..., 147, 147, 147],\n",
       "       [170, 170, 170, ..., 210, 210, 210]], dtype=uint8)"
      ]
     },
     "execution_count": 6,
     "metadata": {},
     "output_type": "execute_result"
    }
   ],
   "source": [
    "X"
   ]
  },
  {
   "cell_type": "code",
   "execution_count": 7,
   "metadata": {},
   "outputs": [],
   "source": [
    "#df = pd.DataFrame(listForX)"
   ]
  },
  {
   "cell_type": "code",
   "execution_count": 8,
   "metadata": {},
   "outputs": [],
   "source": [
    "#df.values.tolist()"
   ]
  },
  {
   "cell_type": "code",
   "execution_count": 9,
   "metadata": {},
   "outputs": [],
   "source": [
    "#X = np.asarray(listForX).concat(np.asarray(listForFlipX))"
   ]
  },
  {
   "cell_type": "code",
   "execution_count": 10,
   "metadata": {},
   "outputs": [
    {
     "data": {
      "text/plain": [
       "(30666, 3072)"
      ]
     },
     "execution_count": 10,
     "metadata": {},
     "output_type": "execute_result"
    }
   ],
   "source": [
    "X.shape"
   ]
  },
  {
   "cell_type": "code",
   "execution_count": 11,
   "metadata": {},
   "outputs": [],
   "source": [
    "y = pd.read_csv(\"C:/Users/Alan/Desktop/Data_Science_2/final_project/labels.csv\")"
   ]
  },
  {
   "cell_type": "code",
   "execution_count": 12,
   "metadata": {
    "scrolled": true
   },
   "outputs": [],
   "source": [
    "#y"
   ]
  },
  {
   "cell_type": "code",
   "execution_count": 13,
   "metadata": {},
   "outputs": [],
   "source": [
    "y = y.drop(['id'], axis=1)"
   ]
  },
  {
   "cell_type": "code",
   "execution_count": 14,
   "metadata": {},
   "outputs": [],
   "source": [
    "y['breed'] = pd.factorize(y['breed'])[0]"
   ]
  },
  {
   "cell_type": "code",
   "execution_count": 15,
   "metadata": {},
   "outputs": [],
   "source": [
    "y2 = y.breed.tolist()\n",
    "X2 = np.asarray(listForX)"
   ]
  },
  {
   "cell_type": "code",
   "execution_count": 16,
   "metadata": {},
   "outputs": [],
   "source": [
    "y = y.breed.tolist() + y.breed.tolist()+ y.breed.tolist()"
   ]
  },
  {
   "cell_type": "code",
   "execution_count": 17,
   "metadata": {},
   "outputs": [
    {
     "data": {
      "text/plain": [
       "30666"
      ]
     },
     "execution_count": 17,
     "metadata": {},
     "output_type": "execute_result"
    }
   ],
   "source": [
    "len(y)"
   ]
  },
  {
   "cell_type": "code",
   "execution_count": 18,
   "metadata": {},
   "outputs": [],
   "source": [
    "#yTest = []\n",
    "#for x in range(0, 1000):\n",
    "   # yTest.append(y[x])\n"
   ]
  },
  {
   "cell_type": "code",
   "execution_count": 19,
   "metadata": {},
   "outputs": [],
   "source": [
    "X_train2, X_test2, y_train2, y_test2 = train_test_split(X2, y2, test_size=0.20, random_state=2)"
   ]
  },
  {
   "cell_type": "code",
   "execution_count": 20,
   "metadata": {},
   "outputs": [],
   "source": [
    "#y = yTest"
   ]
  },
  {
   "cell_type": "code",
   "execution_count": 21,
   "metadata": {
    "scrolled": true
   },
   "outputs": [],
   "source": [
    "X_train, X_test, y_train, y_test = train_test_split(X, y, test_size=0.20, random_state=2)"
   ]
  },
  {
   "cell_type": "code",
   "execution_count": 22,
   "metadata": {},
   "outputs": [],
   "source": [
    "X_train = X_train.reshape(X_train.shape[0], 32, 32, 3)\n",
    "X_test = X_test.reshape(X_test.shape[0], 32, 32, 3)\n",
    "\n",
    "X_train2 = X_train2.reshape(X_train2.shape[0], 32, 32, 3)\n",
    "X_test2 = X_test2.reshape(X_test2.shape[0], 32, 32, 3)"
   ]
  },
  {
   "cell_type": "code",
   "execution_count": 23,
   "metadata": {},
   "outputs": [],
   "source": [
    "y_train = np_utils.to_categorical(y_train, 120)\n",
    "y_test = np_utils.to_categorical(y_test, 120)\n",
    "\n",
    "y_train2 = np_utils.to_categorical(y_train2, 120)\n",
    "y_test2 = np_utils.to_categorical(y_test2, 120)"
   ]
  },
  {
   "cell_type": "code",
   "execution_count": 24,
   "metadata": {
    "scrolled": true
   },
   "outputs": [],
   "source": [
    "X_train = X_train.astype('float32')\n",
    "X_test = X_test.astype('float32')\n",
    "X_train /= 255\n",
    "X_test /= 255\n",
    "\n",
    "X_train2 = X_train2.astype('float32')\n",
    "X_test2 = X_test2.astype('float32')\n",
    "X_train2 /= 255\n",
    "X_test2 /= 255"
   ]
  },
  {
   "cell_type": "code",
   "execution_count": 25,
   "metadata": {},
   "outputs": [
    {
     "data": {
      "text/plain": [
       "(24532, 32, 32, 3)"
      ]
     },
     "execution_count": 25,
     "metadata": {},
     "output_type": "execute_result"
    }
   ],
   "source": [
    "X_train.shape"
   ]
  },
  {
   "cell_type": "code",
   "execution_count": 26,
   "metadata": {},
   "outputs": [],
   "source": [
    "model = Sequential()"
   ]
  },
  {
   "cell_type": "code",
   "execution_count": 27,
   "metadata": {},
   "outputs": [
    {
     "name": "stderr",
     "output_type": "stream",
     "text": [
      "INFO:plaidml:Opening device \"opencl_amd_gfx900.0\"\n"
     ]
    },
    {
     "name": "stdout",
     "output_type": "stream",
     "text": [
      "(None, 15, 15, 16)\n"
     ]
    }
   ],
   "source": [
    "model.add(Convolution2D(16, (3, 3), activation='relu', input_shape=(32,32,3)))\n",
    "model.add(MaxPooling2D(pool_size=(2,2)))\n",
    "#model.add(Dropout(0.25)) \n",
    "print(model.output_shape) # -> (None, 26, 26, 32)"
   ]
  },
  {
   "cell_type": "code",
   "execution_count": 28,
   "metadata": {},
   "outputs": [
    {
     "name": "stdout",
     "output_type": "stream",
     "text": [
      "(None, 2, 2, 64)\n"
     ]
    }
   ],
   "source": [
    "# more hidden layers:\n",
    "model.add(Convolution2D(32, (3, 3), activation='relu'))\n",
    "# Pooling Layer:\n",
    "model.add(MaxPooling2D(pool_size=(2,2)))\n",
    "#model.add(Dropout(0.25)) \n",
    "\n",
    "\n",
    "model.add(Convolution2D(64, (3, 3), activation='relu'))\n",
    "model.add(MaxPooling2D(pool_size=(2,2)))\n",
    "print(model.output_shape)\n",
    "\n",
    "# Dropout layer to avoid overfitting\n",
    "model.add(Dropout(0.25)) "
   ]
  },
  {
   "cell_type": "code",
   "execution_count": 29,
   "metadata": {},
   "outputs": [
    {
     "name": "stdout",
     "output_type": "stream",
     "text": [
      "(None, 256)\n",
      "(None, 128)\n",
      "(None, 120)\n"
     ]
    }
   ],
   "source": [
    "# output Fully connected Dense layers:\n",
    "model.add(Flatten())\n",
    "print(model.output_shape)\n",
    "\n",
    "model.add(Dense(128, activation='relu'))\n",
    "print(model.output_shape)\n",
    "\n",
    "model.add(Dropout(0.5))\n",
    "model.add(Dense(120, activation='softmax'))\n",
    "print(model.output_shape)"
   ]
  },
  {
   "cell_type": "code",
   "execution_count": 30,
   "metadata": {},
   "outputs": [],
   "source": [
    "model.compile(loss='categorical_crossentropy',metrics=['accuracy'],\n",
    "              optimizer='adam')"
   ]
  },
  {
   "cell_type": "code",
   "execution_count": 31,
   "metadata": {},
   "outputs": [
    {
     "name": "stdout",
     "output_type": "stream",
     "text": [
      "_________________________________________________________________\n",
      "Layer (type)                 Output Shape              Param #   \n",
      "=================================================================\n",
      "conv2d_1 (Conv2D)            (None, 30, 30, 16)        448       \n",
      "_________________________________________________________________\n",
      "max_pooling2d_1 (MaxPooling2 (None, 15, 15, 16)        0         \n",
      "_________________________________________________________________\n",
      "conv2d_2 (Conv2D)            (None, 13, 13, 32)        4640      \n",
      "_________________________________________________________________\n",
      "max_pooling2d_2 (MaxPooling2 (None, 6, 6, 32)          0         \n",
      "_________________________________________________________________\n",
      "conv2d_3 (Conv2D)            (None, 4, 4, 64)          18496     \n",
      "_________________________________________________________________\n",
      "max_pooling2d_3 (MaxPooling2 (None, 2, 2, 64)          0         \n",
      "_________________________________________________________________\n",
      "dropout_1 (Dropout)          (None, 2, 2, 64)          0         \n",
      "_________________________________________________________________\n",
      "flatten_1 (Flatten)          (None, 256)               0         \n",
      "_________________________________________________________________\n",
      "dense_1 (Dense)              (None, 128)               32896     \n",
      "_________________________________________________________________\n",
      "dropout_2 (Dropout)          (None, 128)               0         \n",
      "_________________________________________________________________\n",
      "dense_2 (Dense)              (None, 120)               15480     \n",
      "=================================================================\n",
      "Total params: 71,960\n",
      "Trainable params: 71,960\n",
      "Non-trainable params: 0\n",
      "_________________________________________________________________\n",
      "None\n"
     ]
    }
   ],
   "source": [
    "print(model.summary())"
   ]
  },
  {
   "cell_type": "code",
   "execution_count": 32,
   "metadata": {},
   "outputs": [
    {
     "data": {
      "text/plain": [
       "(24532, 32, 32, 3)"
      ]
     },
     "execution_count": 32,
     "metadata": {},
     "output_type": "execute_result"
    }
   ],
   "source": [
    "X_train.shape"
   ]
  },
  {
   "cell_type": "code",
   "execution_count": 33,
   "metadata": {},
   "outputs": [
    {
     "data": {
      "text/plain": [
       "(24532, 120)"
      ]
     },
     "execution_count": 33,
     "metadata": {},
     "output_type": "execute_result"
    }
   ],
   "source": [
    "y_train.shape"
   ]
  },
  {
   "cell_type": "code",
   "execution_count": 34,
   "metadata": {
    "scrolled": true
   },
   "outputs": [
    {
     "name": "stdout",
     "output_type": "stream",
     "text": [
      "Train on 22078 samples, validate on 2454 samples\n",
      "Epoch 1/50\n",
      "21952/22078 [============================>.] - ETA: 0s - loss: 4.7538 - acc: 0.0142"
     ]
    },
    {
     "name": "stderr",
     "output_type": "stream",
     "text": [
      "INFO:plaidml:Analyzing Ops: 128 of 274 operations complete\n"
     ]
    },
    {
     "name": "stdout",
     "output_type": "stream",
     "text": [
      "22078/22078 [==============================] - 23s 1ms/step - loss: 4.7533 - acc: 0.0143 - val_loss: 4.6648 - val_acc: 0.0224\n",
      "Epoch 2/50\n",
      "22078/22078 [==============================] - 5s 239us/step - loss: 4.6027 - acc: 0.0257 - val_loss: 4.4776 - val_acc: 0.0375\n",
      "Epoch 3/50\n",
      "22078/22078 [==============================] - 5s 223us/step - loss: 4.4674 - acc: 0.0337 - val_loss: 4.3901 - val_acc: 0.0489\n",
      "Epoch 4/50\n",
      "22078/22078 [==============================] - 5s 227us/step - loss: 4.3891 - acc: 0.0405 - val_loss: 4.2974 - val_acc: 0.0558\n",
      "Epoch 5/50\n",
      "22078/22078 [==============================] - 5s 228us/step - loss: 4.3343 - acc: 0.0485 - val_loss: 4.2932 - val_acc: 0.0599\n",
      "Epoch 6/50\n",
      "22078/22078 [==============================] - 5s 223us/step - loss: 4.2801 - acc: 0.0538 - val_loss: 4.2279 - val_acc: 0.0623\n",
      "Epoch 7/50\n",
      "22078/22078 [==============================] - 5s 231us/step - loss: 4.2342 - acc: 0.0624 - val_loss: 4.1911 - val_acc: 0.0681\n",
      "Epoch 8/50\n",
      "22078/22078 [==============================] - 5s 228us/step - loss: 4.1951 - acc: 0.0648 - val_loss: 4.1448 - val_acc: 0.0733\n",
      "Epoch 9/50\n",
      "22078/22078 [==============================] - 5s 231us/step - loss: 4.1556 - acc: 0.0720 - val_loss: 4.1123 - val_acc: 0.0799\n",
      "Epoch 10/50\n",
      "22078/22078 [==============================] - 5s 246us/step - loss: 4.1220 - acc: 0.0745 - val_loss: 4.0772 - val_acc: 0.0856\n",
      "Epoch 11/50\n",
      "22078/22078 [==============================] - 6s 279us/step - loss: 4.0845 - acc: 0.0804 - val_loss: 4.0489 - val_acc: 0.0815\n",
      "Epoch 12/50\n",
      "22078/22078 [==============================] - 5s 242us/step - loss: 4.0505 - acc: 0.0864 - val_loss: 4.0354 - val_acc: 0.0876\n",
      "Epoch 13/50\n",
      "22078/22078 [==============================] - 5s 240us/step - loss: 4.0212 - acc: 0.0873 - val_loss: 4.0217 - val_acc: 0.0917\n",
      "Epoch 14/50\n",
      "22078/22078 [==============================] - 5s 226us/step - loss: 3.9989 - acc: 0.0942 - val_loss: 3.9869 - val_acc: 0.0962\n",
      "Epoch 15/50\n",
      "22078/22078 [==============================] - 5s 221us/step - loss: 3.9621 - acc: 0.0938 - val_loss: 3.9569 - val_acc: 0.0888\n",
      "Epoch 16/50\n",
      "22078/22078 [==============================] - 5s 235us/step - loss: 3.9389 - acc: 0.1013 - val_loss: 3.9353 - val_acc: 0.0958\n",
      "Epoch 17/50\n",
      "22078/22078 [==============================] - 5s 225us/step - loss: 3.9184 - acc: 0.1038 - val_loss: 3.9377 - val_acc: 0.1002\n",
      "Epoch 18/50\n",
      "22078/22078 [==============================] - 5s 221us/step - loss: 3.8931 - acc: 0.1064 - val_loss: 3.9035 - val_acc: 0.1047\n",
      "Epoch 19/50\n",
      "22078/22078 [==============================] - 5s 222us/step - loss: 3.8697 - acc: 0.1078 - val_loss: 3.9039 - val_acc: 0.1043\n",
      "Epoch 20/50\n",
      "22078/22078 [==============================] - 5s 223us/step - loss: 3.8458 - acc: 0.1115 - val_loss: 3.8854 - val_acc: 0.0998\n",
      "Epoch 21/50\n",
      "22078/22078 [==============================] - 5s 220us/step - loss: 3.8292 - acc: 0.1160 - val_loss: 3.8573 - val_acc: 0.1092\n",
      "Epoch 22/50\n",
      "22078/22078 [==============================] - 5s 215us/step - loss: 3.8029 - acc: 0.1188 - val_loss: 3.8472 - val_acc: 0.1072\n",
      "Epoch 23/50\n",
      "22078/22078 [==============================] - 5s 216us/step - loss: 3.7936 - acc: 0.1203 - val_loss: 3.8594 - val_acc: 0.1096\n",
      "Epoch 24/50\n",
      "22078/22078 [==============================] - 5s 217us/step - loss: 3.7780 - acc: 0.1220 - val_loss: 3.8527 - val_acc: 0.1064\n",
      "Epoch 25/50\n",
      "22078/22078 [==============================] - 5s 217us/step - loss: 3.7490 - acc: 0.1260 - val_loss: 3.8397 - val_acc: 0.1133\n",
      "Epoch 26/50\n",
      "22078/22078 [==============================] - 5s 226us/step - loss: 3.7315 - acc: 0.1311 - val_loss: 3.7943 - val_acc: 0.1165\n",
      "Epoch 27/50\n",
      "22078/22078 [==============================] - 5s 226us/step - loss: 3.7088 - acc: 0.1315 - val_loss: 3.7957 - val_acc: 0.1292\n",
      "Epoch 28/50\n",
      "22078/22078 [==============================] - 5s 225us/step - loss: 3.7041 - acc: 0.1315 - val_loss: 3.7791 - val_acc: 0.1227\n",
      "Epoch 29/50\n",
      "22078/22078 [==============================] - 5s 224us/step - loss: 3.6701 - acc: 0.1357 - val_loss: 3.7686 - val_acc: 0.1267\n",
      "Epoch 30/50\n",
      "22078/22078 [==============================] - 5s 232us/step - loss: 3.6698 - acc: 0.1350 - val_loss: 3.7669 - val_acc: 0.1275\n",
      "Epoch 31/50\n",
      "22078/22078 [==============================] - 5s 246us/step - loss: 3.6449 - acc: 0.1381 - val_loss: 3.7403 - val_acc: 0.1308\n",
      "Epoch 32/50\n",
      "22078/22078 [==============================] - 5s 249us/step - loss: 3.6311 - acc: 0.1405 - val_loss: 3.7359 - val_acc: 0.1218\n",
      "Epoch 33/50\n",
      "22078/22078 [==============================] - 5s 224us/step - loss: 3.6294 - acc: 0.1404 - val_loss: 3.7348 - val_acc: 0.1284\n",
      "Epoch 34/50\n",
      "22078/22078 [==============================] - 5s 223us/step - loss: 3.6141 - acc: 0.1450 - val_loss: 3.7116 - val_acc: 0.1320\n",
      "Epoch 35/50\n",
      "22078/22078 [==============================] - 5s 225us/step - loss: 3.5949 - acc: 0.1477 - val_loss: 3.7168 - val_acc: 0.1296\n",
      "Epoch 36/50\n",
      "22078/22078 [==============================] - 5s 224us/step - loss: 3.5851 - acc: 0.1467 - val_loss: 3.7035 - val_acc: 0.1296\n",
      "Epoch 37/50\n",
      "22078/22078 [==============================] - 5s 225us/step - loss: 3.5777 - acc: 0.1499 - val_loss: 3.7091 - val_acc: 0.1357\n",
      "Epoch 38/50\n",
      "22078/22078 [==============================] - 5s 230us/step - loss: 3.5671 - acc: 0.1509 - val_loss: 3.7041 - val_acc: 0.1324\n",
      "Epoch 39/50\n",
      "22078/22078 [==============================] - 5s 229us/step - loss: 3.5369 - acc: 0.1575 - val_loss: 3.7070 - val_acc: 0.1357\n",
      "Epoch 40/50\n",
      "22078/22078 [==============================] - 5s 228us/step - loss: 3.5458 - acc: 0.1541 - val_loss: 3.6846 - val_acc: 0.1410\n",
      "Epoch 41/50\n",
      "22078/22078 [==============================] - 5s 227us/step - loss: 3.5321 - acc: 0.1574 - val_loss: 3.6641 - val_acc: 0.1414\n",
      "Epoch 42/50\n",
      "22078/22078 [==============================] - 5s 234us/step - loss: 3.5218 - acc: 0.1566 - val_loss: 3.6560 - val_acc: 0.1406\n",
      "Epoch 43/50\n",
      "22078/22078 [==============================] - 6s 258us/step - loss: 3.5180 - acc: 0.1580 - val_loss: 3.6570 - val_acc: 0.1451\n",
      "Epoch 44/50\n",
      "22078/22078 [==============================] - 6s 252us/step - loss: 3.5077 - acc: 0.1610 - val_loss: 3.6668 - val_acc: 0.1422\n",
      "Epoch 45/50\n",
      "22078/22078 [==============================] - 5s 232us/step - loss: 3.4866 - acc: 0.1605 - val_loss: 3.6844 - val_acc: 0.1430\n",
      "Epoch 46/50\n",
      "22078/22078 [==============================] - 5s 225us/step - loss: 3.4891 - acc: 0.1619 - val_loss: 3.6626 - val_acc: 0.1434\n",
      "Epoch 47/50\n",
      "22078/22078 [==============================] - 5s 229us/step - loss: 3.4725 - acc: 0.1619 - val_loss: 3.6475 - val_acc: 0.1565\n",
      "Epoch 48/50\n",
      "22078/22078 [==============================] - 5s 229us/step - loss: 3.4565 - acc: 0.1654 - val_loss: 3.6524 - val_acc: 0.1520\n",
      "Epoch 49/50\n",
      "22078/22078 [==============================] - 5s 229us/step - loss: 3.4652 - acc: 0.1664 - val_loss: 3.6790 - val_acc: 0.1422\n",
      "Epoch 50/50\n",
      "22078/22078 [==============================] - 5s 215us/step - loss: 3.4525 - acc: 0.1665 - val_loss: 3.6390 - val_acc: 0.1577\n"
     ]
    }
   ],
   "source": [
    "from keras.callbacks import EarlyStopping\n",
    "\n",
    "fitted_model = model.fit(X_train, y_train, validation_split=0.1, batch_size=64, epochs=50, shuffle=True, verbose=1)"
   ]
  },
  {
   "cell_type": "code",
   "execution_count": 35,
   "metadata": {},
   "outputs": [
    {
     "data": {
      "text/plain": [
       "<matplotlib.legend.Legend at 0x2aab0b83bc8>"
      ]
     },
     "execution_count": 35,
     "metadata": {},
     "output_type": "execute_result"
    },
    {
     "data": {
      "image/png": "[encoded data removed]",
      "text/plain": [
       "<Figure size 432x288 with 1 Axes>"
      ]
     },
     "metadata": {
      "needs_background": "light"
     },
     "output_type": "display_data"
    },
    {
     "data": {
      "image/png": "[encoded data removed]",
      "text/plain": [
       "<Figure size 432x288 with 1 Axes>"
      ]
     },
     "metadata": {
      "needs_background": "light"
     },
     "output_type": "display_data"
    }
   ],
   "source": [
    "import matplotlib.pyplot as plt\n",
    "\n",
    "%matplotlib inline\n",
    "\n",
    "accuracy = fitted_model.history['acc']\n",
    "#val_accuracy = history.history['val_acc']\n",
    "loss = fitted_model.history['loss']\n",
    "#val_loss = history.history['val_loss']\n",
    "epochs = range(len(accuracy))\n",
    "plt.plot(epochs, accuracy, 'b-', label='Training accuracy')\n",
    "#plt.plot(epochs, val_accuracy, 'b', label='Validation accuracy')\n",
    "plt.title('Training and validation accuracy')\n",
    "plt.legend()\n",
    "plt.figure()\n",
    "plt.plot(epochs, loss, 'r-', label='Training loss')\n",
    "#plt.plot(epochs, val_loss, 'b', label='Validation loss')\n",
    "plt.title('Training and validation loss')\n",
    "plt.legend()\n",
    "# plt.show()"
   ]
  },
  {
   "cell_type": "code",
   "execution_count": 36,
   "metadata": {
    "scrolled": false
   },
   "outputs": [
    {
     "name": "stdout",
     "output_type": "stream",
     "text": [
      "6134/6134 [==============================] - 3s 554us/step\n",
      "(6134, 120)\n"
     ]
    }
   ],
   "source": [
    "y_pridict = model.predict(X_test, verbose=1)\n",
    "print (y_pridict.shape)"
   ]
  },
  {
   "cell_type": "code",
   "execution_count": 37,
   "metadata": {
    "scrolled": true
   },
   "outputs": [],
   "source": [
    "#y_pridict"
   ]
  },
  {
   "cell_type": "code",
   "execution_count": 38,
   "metadata": {},
   "outputs": [
    {
     "name": "stdout",
     "output_type": "stream",
     "text": [
      "6134/6134 [==============================] - 3s 437us/step\n",
      "The accuracy is:  0.15308118684209437\n"
     ]
    }
   ],
   "source": [
    "score = model.evaluate(X_test, y_test, verbose=1)\n",
    "print('The accuracy is: ', score[1])"
   ]
  },
  {
   "cell_type": "code",
   "execution_count": 39,
   "metadata": {},
   "outputs": [
    {
     "name": "stdout",
     "output_type": "stream",
     "text": [
      "2045/2045 [==============================] - 2s 993us/step\n",
      "The accuracy is:  0.3310513447724228\n"
     ]
    }
   ],
   "source": [
    "score = model.evaluate(X_test2, y_test2, verbose=1)\n",
    "print('The accuracy is: ', score[1])"
   ]
  }
 ],
 "metadata": {
  "kernelspec": {
   "display_name": "Python 3",
   "language": "python",
   "name": "python3"
  },
  "language_info": {
   "codemirror_mode": {
    "name": "ipython",
    "version": 3
   },
   "file_extension": ".py",
   "mimetype": "text/x-python",
   "name": "python",
   "nbconvert_exporter": "python",
   "pygments_lexer": "ipython3",
   "version": "3.7.4"
  }
 },
 "nbformat": 4,
 "nbformat_minor": 2
}
